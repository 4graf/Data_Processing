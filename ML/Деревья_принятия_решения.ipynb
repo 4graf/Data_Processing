{
  "nbformat": 4,
  "nbformat_minor": 0,
  "metadata": {
    "colab": {
      "provenance": [],
      "authorship_tag": "ABX9TyP2TvsNM4Seud8WHBOhJ/5x",
      "include_colab_link": true
    },
    "kernelspec": {
      "name": "python3",
      "display_name": "Python 3"
    },
    "language_info": {
      "name": "python"
    }
  },
  "cells": [
    {
      "cell_type": "markdown",
      "metadata": {
        "id": "view-in-github",
        "colab_type": "text"
      },
      "source": [
        "<a href=\"https://colab.research.google.com/github/4graf/Data_Processing/blob/main/ML/%D0%94%D0%B5%D1%80%D0%B5%D0%B2%D1%8C%D1%8F_%D0%BF%D1%80%D0%B8%D0%BD%D1%8F%D1%82%D0%B8%D1%8F_%D1%80%D0%B5%D1%88%D0%B5%D0%BD%D0%B8%D1%8F.ipynb\" target=\"_parent\"><img src=\"https://colab.research.google.com/assets/colab-badge.svg\" alt=\"Open In Colab\"/></a>"
      ]
    },
    {
      "cell_type": "code",
      "execution_count": null,
      "metadata": {
        "id": "vy0Eek_yEE9w"
      },
      "outputs": [],
      "source": [
        "import numpy as np\n",
        "import pandas as pd\n",
        "import matplotlib.pyplot as plt\n",
        "from sklearn import metrics\n",
        "# from sklearn.svm import LinearSVC\n",
        "# import cv2"
      ]
    },
    {
      "cell_type": "code",
      "source": [
        "-(0.3*np.log2(0.3)+0.05*np.log2(0.05)+0.15*np.log2(0.15)+0.2*np.log2(0.2)*2+0.1*np.log2(0.1))"
      ],
      "metadata": {
        "colab": {
          "base_uri": "https://localhost:8080/"
        },
        "id": "zImBo8N7EGiV",
        "outputId": "c474f47f-4cf2-4d92-c9db-687245c41174"
      },
      "execution_count": null,
      "outputs": [
        {
          "output_type": "execute_result",
          "data": {
            "text/plain": [
              "2.4086949695628417"
            ]
          },
          "metadata": {},
          "execution_count": 17
        }
      ]
    },
    {
      "cell_type": "code",
      "source": [
        "-(0.3/0.5*np.log2(0.3/0.5)+0.05/0.5*np.log2(0.05/0.5)+0.15/0.5*np.log2(0.15/0.5))"
      ],
      "metadata": {
        "colab": {
          "base_uri": "https://localhost:8080/"
        },
        "id": "TFM-rqfhN5Iw",
        "outputId": "ac816147-e114-4702-85bc-accf8acf08c2"
      },
      "execution_count": null,
      "outputs": [
        {
          "output_type": "execute_result",
          "data": {
            "text/plain": [
              "1.295461844238322"
            ]
          },
          "metadata": {},
          "execution_count": 18
        }
      ]
    },
    {
      "cell_type": "code",
      "source": [
        "-(0.2/0.5*np.log2(0.2/0.5)*2+0.1/0.5*np.log2(0.1/0.5))"
      ],
      "metadata": {
        "colab": {
          "base_uri": "https://localhost:8080/"
        },
        "id": "3gWVa5GKPf9K",
        "outputId": "aedb3744-40bd-453c-a761-482fa141d420"
      },
      "execution_count": null,
      "outputs": [
        {
          "output_type": "execute_result",
          "data": {
            "text/plain": [
              "1.5219280948873621"
            ]
          },
          "metadata": {},
          "execution_count": 19
        }
      ]
    },
    {
      "cell_type": "code",
      "source": [
        "-(0.3/0.5*np.log2(0.3/0.5)+0.05/0.5*np.log2(0.05/0.5)+0.15/0.5*np.log2(0.15/0.5)) * 0.5 + -(0.2/0.5*np.log2(0.2/0.5)*2+0.1/0.5*np.log2(0.1/0.5)) * 0.5"
      ],
      "metadata": {
        "colab": {
          "base_uri": "https://localhost:8080/"
        },
        "id": "RM311FYTPv8_",
        "outputId": "078244f9-1ee7-43ba-ee0b-1a5031bbe685"
      },
      "execution_count": null,
      "outputs": [
        {
          "output_type": "execute_result",
          "data": {
            "text/plain": [
              "1.4086949695628421"
            ]
          },
          "metadata": {},
          "execution_count": 20
        }
      ]
    },
    {
      "cell_type": "code",
      "source": [
        "def H(p:list):\n",
        "    return -sum([pi*np.log2(pi) for pi in p])\n",
        "\n",
        "h_theta = H([0.5, 0.15, 0.35])\n",
        "omega_1 = [0.3, 0.05, 0.15]\n",
        "omega_2 = [0.2, 0.1, 0.2]\n",
        "h_omega_1 = H(list(map(lambda x: x/sum(omega_1), omega_1)))\n",
        "h_omega_2 = H(list(map(lambda x: x/sum(omega_2), omega_2)))\n",
        "h_omega_if_theta = h_omega_1 * sum(omega_1) + h_omega_2 * sum(omega_2)\n",
        "h_theta-h_omega_if_theta"
      ],
      "metadata": {
        "colab": {
          "base_uri": "https://localhost:8080/"
        },
        "id": "OOqEUwaUSOFu",
        "outputId": "bb845c4b-cc00-4f5b-d604-7557505b05e8"
      },
      "execution_count": null,
      "outputs": [
        {
          "output_type": "execute_result",
          "data": {
            "text/plain": [
              "0.031950480052504115"
            ]
          },
          "metadata": {},
          "execution_count": 21
        }
      ]
    },
    {
      "cell_type": "code",
      "source": [
        "H([3/5, 2/5])"
      ],
      "metadata": {
        "colab": {
          "base_uri": "https://localhost:8080/"
        },
        "id": "Y6gkzH4YUrth",
        "outputId": "399f7216-9060-4d69-c256-a973e8e738d6"
      },
      "execution_count": null,
      "outputs": [
        {
          "output_type": "execute_result",
          "data": {
            "text/plain": [
              "0.9709505944546686"
            ]
          },
          "metadata": {},
          "execution_count": 22
        }
      ]
    },
    {
      "cell_type": "code",
      "source": [
        "sum(2**x for x in range(8))\n",
        "128*1+126*3+1*2\n",
        "508/2"
      ],
      "metadata": {
        "colab": {
          "base_uri": "https://localhost:8080/"
        },
        "id": "sHAM4rY7VEFm",
        "outputId": "61f9ffea-4b88-47ee-9a05-66a413cae199"
      },
      "execution_count": null,
      "outputs": [
        {
          "output_type": "execute_result",
          "data": {
            "text/plain": [
              "254.0"
            ]
          },
          "metadata": {},
          "execution_count": 23
        }
      ]
    },
    {
      "cell_type": "markdown",
      "source": [
        "# SKLEARN"
      ],
      "metadata": {
        "id": "Uc10Sbth00yZ"
      }
    },
    {
      "cell_type": "code",
      "source": [
        "! head -3 diabetes.csv"
      ],
      "metadata": {
        "colab": {
          "base_uri": "https://localhost:8080/"
        },
        "id": "p94jyGv91Cam",
        "outputId": "5262e1c2-6d43-456f-e2a8-c3f9494a2625"
      },
      "execution_count": null,
      "outputs": [
        {
          "output_type": "stream",
          "name": "stdout",
          "text": [
            "Pregnancies,Glucose,BloodPressure,SkinThickness,Insulin,BMI,DiabetesPedigreeFunction,Age,Outcome\r\n",
            "6,148,72,35,0,33.6,0.627,50,1\r\n",
            "1,85,66,29,0,26.6,0.351,31,0\r\n"
          ]
        }
      ]
    },
    {
      "cell_type": "code",
      "source": [
        "df = pd.read_csv('diabetes.csv')\n",
        "df[0:560]['Outcome'][df['Outcome'] == 0].count()"
      ],
      "metadata": {
        "colab": {
          "base_uri": "https://localhost:8080/"
        },
        "id": "cjbM466V0yGv",
        "outputId": "b6219863-a490-4234-c094-8f16350d49b6"
      },
      "execution_count": null,
      "outputs": [
        {
          "output_type": "execute_result",
          "data": {
            "text/plain": [
              "365"
            ]
          },
          "metadata": {},
          "execution_count": 108
        }
      ]
    },
    {
      "cell_type": "code",
      "source": [
        "df.head()"
      ],
      "metadata": {
        "colab": {
          "base_uri": "https://localhost:8080/",
          "height": 206
        },
        "id": "FCeyi9b2_fUJ",
        "outputId": "56beeb49-0fec-4107-fac3-3396fd7192d9"
      },
      "execution_count": null,
      "outputs": [
        {
          "output_type": "execute_result",
          "data": {
            "text/plain": [
              "   Pregnancies  Glucose  BloodPressure  SkinThickness  Insulin   BMI  \\\n",
              "0            6      148             72             35        0  33.6   \n",
              "1            1       85             66             29        0  26.6   \n",
              "2            8      183             64              0        0  23.3   \n",
              "3            1       89             66             23       94  28.1   \n",
              "4            0      137             40             35      168  43.1   \n",
              "\n",
              "   DiabetesPedigreeFunction  Age  Outcome  \n",
              "0                     0.627   50        1  \n",
              "1                     0.351   31        0  \n",
              "2                     0.672   32        1  \n",
              "3                     0.167   21        0  \n",
              "4                     2.288   33        1  "
            ],
            "text/html": [
              "\n",
              "  <div id=\"df-9149ef1a-2f87-45a1-91e6-c87929c8eb99\">\n",
              "    <div class=\"colab-df-container\">\n",
              "      <div>\n",
              "<style scoped>\n",
              "    .dataframe tbody tr th:only-of-type {\n",
              "        vertical-align: middle;\n",
              "    }\n",
              "\n",
              "    .dataframe tbody tr th {\n",
              "        vertical-align: top;\n",
              "    }\n",
              "\n",
              "    .dataframe thead th {\n",
              "        text-align: right;\n",
              "    }\n",
              "</style>\n",
              "<table border=\"1\" class=\"dataframe\">\n",
              "  <thead>\n",
              "    <tr style=\"text-align: right;\">\n",
              "      <th></th>\n",
              "      <th>Pregnancies</th>\n",
              "      <th>Glucose</th>\n",
              "      <th>BloodPressure</th>\n",
              "      <th>SkinThickness</th>\n",
              "      <th>Insulin</th>\n",
              "      <th>BMI</th>\n",
              "      <th>DiabetesPedigreeFunction</th>\n",
              "      <th>Age</th>\n",
              "      <th>Outcome</th>\n",
              "    </tr>\n",
              "  </thead>\n",
              "  <tbody>\n",
              "    <tr>\n",
              "      <th>0</th>\n",
              "      <td>6</td>\n",
              "      <td>148</td>\n",
              "      <td>72</td>\n",
              "      <td>35</td>\n",
              "      <td>0</td>\n",
              "      <td>33.6</td>\n",
              "      <td>0.627</td>\n",
              "      <td>50</td>\n",
              "      <td>1</td>\n",
              "    </tr>\n",
              "    <tr>\n",
              "      <th>1</th>\n",
              "      <td>1</td>\n",
              "      <td>85</td>\n",
              "      <td>66</td>\n",
              "      <td>29</td>\n",
              "      <td>0</td>\n",
              "      <td>26.6</td>\n",
              "      <td>0.351</td>\n",
              "      <td>31</td>\n",
              "      <td>0</td>\n",
              "    </tr>\n",
              "    <tr>\n",
              "      <th>2</th>\n",
              "      <td>8</td>\n",
              "      <td>183</td>\n",
              "      <td>64</td>\n",
              "      <td>0</td>\n",
              "      <td>0</td>\n",
              "      <td>23.3</td>\n",
              "      <td>0.672</td>\n",
              "      <td>32</td>\n",
              "      <td>1</td>\n",
              "    </tr>\n",
              "    <tr>\n",
              "      <th>3</th>\n",
              "      <td>1</td>\n",
              "      <td>89</td>\n",
              "      <td>66</td>\n",
              "      <td>23</td>\n",
              "      <td>94</td>\n",
              "      <td>28.1</td>\n",
              "      <td>0.167</td>\n",
              "      <td>21</td>\n",
              "      <td>0</td>\n",
              "    </tr>\n",
              "    <tr>\n",
              "      <th>4</th>\n",
              "      <td>0</td>\n",
              "      <td>137</td>\n",
              "      <td>40</td>\n",
              "      <td>35</td>\n",
              "      <td>168</td>\n",
              "      <td>43.1</td>\n",
              "      <td>2.288</td>\n",
              "      <td>33</td>\n",
              "      <td>1</td>\n",
              "    </tr>\n",
              "  </tbody>\n",
              "</table>\n",
              "</div>\n",
              "      <button class=\"colab-df-convert\" onclick=\"convertToInteractive('df-9149ef1a-2f87-45a1-91e6-c87929c8eb99')\"\n",
              "              title=\"Convert this dataframe to an interactive table.\"\n",
              "              style=\"display:none;\">\n",
              "        \n",
              "  <svg xmlns=\"http://www.w3.org/2000/svg\" height=\"24px\"viewBox=\"0 0 24 24\"\n",
              "       width=\"24px\">\n",
              "    <path d=\"M0 0h24v24H0V0z\" fill=\"none\"/>\n",
              "    <path d=\"M18.56 5.44l.94 2.06.94-2.06 2.06-.94-2.06-.94-.94-2.06-.94 2.06-2.06.94zm-11 1L8.5 8.5l.94-2.06 2.06-.94-2.06-.94L8.5 2.5l-.94 2.06-2.06.94zm10 10l.94 2.06.94-2.06 2.06-.94-2.06-.94-.94-2.06-.94 2.06-2.06.94z\"/><path d=\"M17.41 7.96l-1.37-1.37c-.4-.4-.92-.59-1.43-.59-.52 0-1.04.2-1.43.59L10.3 9.45l-7.72 7.72c-.78.78-.78 2.05 0 2.83L4 21.41c.39.39.9.59 1.41.59.51 0 1.02-.2 1.41-.59l7.78-7.78 2.81-2.81c.8-.78.8-2.07 0-2.86zM5.41 20L4 18.59l7.72-7.72 1.47 1.35L5.41 20z\"/>\n",
              "  </svg>\n",
              "      </button>\n",
              "      \n",
              "  <style>\n",
              "    .colab-df-container {\n",
              "      display:flex;\n",
              "      flex-wrap:wrap;\n",
              "      gap: 12px;\n",
              "    }\n",
              "\n",
              "    .colab-df-convert {\n",
              "      background-color: #E8F0FE;\n",
              "      border: none;\n",
              "      border-radius: 50%;\n",
              "      cursor: pointer;\n",
              "      display: none;\n",
              "      fill: #1967D2;\n",
              "      height: 32px;\n",
              "      padding: 0 0 0 0;\n",
              "      width: 32px;\n",
              "    }\n",
              "\n",
              "    .colab-df-convert:hover {\n",
              "      background-color: #E2EBFA;\n",
              "      box-shadow: 0px 1px 2px rgba(60, 64, 67, 0.3), 0px 1px 3px 1px rgba(60, 64, 67, 0.15);\n",
              "      fill: #174EA6;\n",
              "    }\n",
              "\n",
              "    [theme=dark] .colab-df-convert {\n",
              "      background-color: #3B4455;\n",
              "      fill: #D2E3FC;\n",
              "    }\n",
              "\n",
              "    [theme=dark] .colab-df-convert:hover {\n",
              "      background-color: #434B5C;\n",
              "      box-shadow: 0px 1px 3px 1px rgba(0, 0, 0, 0.15);\n",
              "      filter: drop-shadow(0px 1px 2px rgba(0, 0, 0, 0.3));\n",
              "      fill: #FFFFFF;\n",
              "    }\n",
              "  </style>\n",
              "\n",
              "      <script>\n",
              "        const buttonEl =\n",
              "          document.querySelector('#df-9149ef1a-2f87-45a1-91e6-c87929c8eb99 button.colab-df-convert');\n",
              "        buttonEl.style.display =\n",
              "          google.colab.kernel.accessAllowed ? 'block' : 'none';\n",
              "\n",
              "        async function convertToInteractive(key) {\n",
              "          const element = document.querySelector('#df-9149ef1a-2f87-45a1-91e6-c87929c8eb99');\n",
              "          const dataTable =\n",
              "            await google.colab.kernel.invokeFunction('convertToInteractive',\n",
              "                                                     [key], {});\n",
              "          if (!dataTable) return;\n",
              "\n",
              "          const docLinkHtml = 'Like what you see? Visit the ' +\n",
              "            '<a target=\"_blank\" href=https://colab.research.google.com/notebooks/data_table.ipynb>data table notebook</a>'\n",
              "            + ' to learn more about interactive tables.';\n",
              "          element.innerHTML = '';\n",
              "          dataTable['output_type'] = 'display_data';\n",
              "          await google.colab.output.renderOutput(dataTable, element);\n",
              "          const docLink = document.createElement('div');\n",
              "          docLink.innerHTML = docLinkHtml;\n",
              "          element.appendChild(docLink);\n",
              "        }\n",
              "      </script>\n",
              "    </div>\n",
              "  </div>\n",
              "  "
            ]
          },
          "metadata": {},
          "execution_count": 101
        }
      ]
    },
    {
      "cell_type": "code",
      "source": [
        "from sklearn.tree import DecisionTreeClassifier\n",
        "from sklearn.model_selection import train_test_split\n",
        "\n",
        "X_train, X_test, y_train, y_test = train_test_split(df.iloc[0:560, 0:-1], df.iloc[0:560, -1],\n",
        "                                                    train_size=0.8, shuffle=False)\n",
        "clf = DecisionTreeClassifier(criterion='entropy', min_samples_leaf=10,\n",
        "                             max_leaf_nodes=15, random_state=2020)\n",
        "clf.fit(X_train, y_train)"
      ],
      "metadata": {
        "colab": {
          "base_uri": "https://localhost:8080/"
        },
        "id": "m-e4-Bhc2prZ",
        "outputId": "8d4be494-d0cc-4293-be3e-3876db4bfb23"
      },
      "execution_count": null,
      "outputs": [
        {
          "output_type": "execute_result",
          "data": {
            "text/plain": [
              "DecisionTreeClassifier(criterion='entropy', max_leaf_nodes=15,\n",
              "                       min_samples_leaf=10, random_state=2020)"
            ]
          },
          "metadata": {},
          "execution_count": 109
        }
      ]
    },
    {
      "cell_type": "code",
      "source": [
        "clf.get_depth()"
      ],
      "metadata": {
        "colab": {
          "base_uri": "https://localhost:8080/"
        },
        "id": "IZj6BlCs52A4",
        "outputId": "3a531891-e5c6-4013-c52b-9c77c12d8d5a"
      },
      "execution_count": null,
      "outputs": [
        {
          "output_type": "execute_result",
          "data": {
            "text/plain": [
              "9"
            ]
          },
          "metadata": {},
          "execution_count": 110
        }
      ]
    },
    {
      "cell_type": "code",
      "source": [
        "from sklearn.tree import export_graphviz\n",
        "import graphviz\n",
        "\n",
        "columns = list(X_train.columns)\n",
        "export_graphviz(clf, out_file='tree.dot', \n",
        "                feature_names=columns,\n",
        "                class_names=['0', '1'],\n",
        "                rounded = True, proportion = False, \n",
        "                precision = 2, filled = True, label='all')\n",
        "\n",
        "with open('tree.dot') as f:\n",
        "    dot_graph = f.read()\n",
        "\n",
        "graphviz.Source(dot_graph)\n",
        "\n"
      ],
      "metadata": {
        "colab": {
          "base_uri": "https://localhost:8080/",
          "height": 1000
        },
        "id": "cqCPvHLg6jV1",
        "outputId": "5e687358-00b1-4fe6-d5ff-9ee778f044b7"
      },
      "execution_count": null,
      "outputs": [
        {
          "output_type": "execute_result",
          "data": {
            "text/plain": [
              "<graphviz.files.Source at 0x7fdcb3d21d30>"
            ],
            "image/svg+xml": "<?xml version=\"1.0\" encoding=\"UTF-8\" standalone=\"no\"?>\n<!DOCTYPE svg PUBLIC \"-//W3C//DTD SVG 1.1//EN\"\n \"http://www.w3.org/Graphics/SVG/1.1/DTD/svg11.dtd\">\n<!-- Generated by graphviz version 2.40.1 (20161225.0304)\n -->\n<!-- Title: Tree Pages: 1 -->\n<svg width=\"801pt\" height=\"1147pt\"\n viewBox=\"0.00 0.00 800.50 1147.00\" xmlns=\"http://www.w3.org/2000/svg\" xmlns:xlink=\"http://www.w3.org/1999/xlink\">\n<g id=\"graph0\" class=\"graph\" transform=\"scale(1 1) rotate(0) translate(4 1143)\">\n<title>Tree</title>\n<polygon fill=\"#ffffff\" stroke=\"transparent\" points=\"-4,4 -4,-1143 796.5,-1143 796.5,4 -4,4\"/>\n<!-- 0 -->\n<g id=\"node1\" class=\"node\">\n<title>0</title>\n<path fill=\"#f5cfb3\" stroke=\"#000000\" d=\"M463.5,-1139C463.5,-1139 355.5,-1139 355.5,-1139 349.5,-1139 343.5,-1133 343.5,-1127 343.5,-1127 343.5,-1068 343.5,-1068 343.5,-1062 349.5,-1056 355.5,-1056 355.5,-1056 463.5,-1056 463.5,-1056 469.5,-1056 475.5,-1062 475.5,-1068 475.5,-1068 475.5,-1127 475.5,-1127 475.5,-1133 469.5,-1139 463.5,-1139\"/>\n<text text-anchor=\"middle\" x=\"409.5\" y=\"-1123.8\" font-family=\"Helvetica,sans-Serif\" font-size=\"14.00\" fill=\"#000000\">Glucose &lt;= 151.5</text>\n<text text-anchor=\"middle\" x=\"409.5\" y=\"-1108.8\" font-family=\"Helvetica,sans-Serif\" font-size=\"14.00\" fill=\"#000000\">entropy = 0.96</text>\n<text text-anchor=\"middle\" x=\"409.5\" y=\"-1093.8\" font-family=\"Helvetica,sans-Serif\" font-size=\"14.00\" fill=\"#000000\">samples = 448</text>\n<text text-anchor=\"middle\" x=\"409.5\" y=\"-1078.8\" font-family=\"Helvetica,sans-Serif\" font-size=\"14.00\" fill=\"#000000\">value = [277, 171]</text>\n<text text-anchor=\"middle\" x=\"409.5\" y=\"-1063.8\" font-family=\"Helvetica,sans-Serif\" font-size=\"14.00\" fill=\"#000000\">class = 0</text>\n</g>\n<!-- 1 -->\n<g id=\"node2\" class=\"node\">\n<title>1</title>\n<path fill=\"#f0b489\" stroke=\"#000000\" d=\"M363.5,-1020C363.5,-1020 255.5,-1020 255.5,-1020 249.5,-1020 243.5,-1014 243.5,-1008 243.5,-1008 243.5,-949 243.5,-949 243.5,-943 249.5,-937 255.5,-937 255.5,-937 363.5,-937 363.5,-937 369.5,-937 375.5,-943 375.5,-949 375.5,-949 375.5,-1008 375.5,-1008 375.5,-1014 369.5,-1020 363.5,-1020\"/>\n<text text-anchor=\"middle\" x=\"309.5\" y=\"-1004.8\" font-family=\"Helvetica,sans-Serif\" font-size=\"14.00\" fill=\"#000000\">BMI &lt;= 26.3</text>\n<text text-anchor=\"middle\" x=\"309.5\" y=\"-989.8\" font-family=\"Helvetica,sans-Serif\" font-size=\"14.00\" fill=\"#000000\">entropy = 0.87</text>\n<text text-anchor=\"middle\" x=\"309.5\" y=\"-974.8\" font-family=\"Helvetica,sans-Serif\" font-size=\"14.00\" fill=\"#000000\">samples = 368</text>\n<text text-anchor=\"middle\" x=\"309.5\" y=\"-959.8\" font-family=\"Helvetica,sans-Serif\" font-size=\"14.00\" fill=\"#000000\">value = [262, 106]</text>\n<text text-anchor=\"middle\" x=\"309.5\" y=\"-944.8\" font-family=\"Helvetica,sans-Serif\" font-size=\"14.00\" fill=\"#000000\">class = 0</text>\n</g>\n<!-- 0&#45;&gt;1 -->\n<g id=\"edge1\" class=\"edge\">\n<title>0&#45;&gt;1</title>\n<path fill=\"none\" stroke=\"#000000\" d=\"M374.5249,-1055.8796C366.9565,-1046.8733 358.8819,-1037.2644 351.088,-1027.9897\"/>\n<polygon fill=\"#000000\" stroke=\"#000000\" points=\"353.7374,-1025.7022 344.6244,-1020.2981 348.3784,-1030.2056 353.7374,-1025.7022\"/>\n<text text-anchor=\"middle\" x=\"342.4636\" y=\"-1041.5045\" font-family=\"Helvetica,sans-Serif\" font-size=\"14.00\" fill=\"#000000\">True</text>\n</g>\n<!-- 2 -->\n<g id=\"node25\" class=\"node\">\n<title>2</title>\n<path fill=\"#67b4eb\" stroke=\"#000000\" d=\"M615,-1020C615,-1020 406,-1020 406,-1020 400,-1020 394,-1014 394,-1008 394,-1008 394,-949 394,-949 394,-943 400,-937 406,-937 406,-937 615,-937 615,-937 621,-937 627,-943 627,-949 627,-949 627,-1008 627,-1008 627,-1014 621,-1020 615,-1020\"/>\n<text text-anchor=\"middle\" x=\"510.5\" y=\"-1004.8\" font-family=\"Helvetica,sans-Serif\" font-size=\"14.00\" fill=\"#000000\">DiabetesPedigreeFunction &lt;= 0.3</text>\n<text text-anchor=\"middle\" x=\"510.5\" y=\"-989.8\" font-family=\"Helvetica,sans-Serif\" font-size=\"14.00\" fill=\"#000000\">entropy = 0.7</text>\n<text text-anchor=\"middle\" x=\"510.5\" y=\"-974.8\" font-family=\"Helvetica,sans-Serif\" font-size=\"14.00\" fill=\"#000000\">samples = 80</text>\n<text text-anchor=\"middle\" x=\"510.5\" y=\"-959.8\" font-family=\"Helvetica,sans-Serif\" font-size=\"14.00\" fill=\"#000000\">value = [15, 65]</text>\n<text text-anchor=\"middle\" x=\"510.5\" y=\"-944.8\" font-family=\"Helvetica,sans-Serif\" font-size=\"14.00\" fill=\"#000000\">class = 1</text>\n</g>\n<!-- 0&#45;&gt;2 -->\n<g id=\"edge24\" class=\"edge\">\n<title>0&#45;&gt;2</title>\n<path fill=\"none\" stroke=\"#000000\" d=\"M444.8249,-1055.8796C452.4689,-1046.8733 460.6243,-1037.2644 468.4961,-1027.9897\"/>\n<polygon fill=\"#000000\" stroke=\"#000000\" points=\"471.2218,-1030.1871 475.0243,-1020.2981 465.8849,-1025.6574 471.2218,-1030.1871\"/>\n<text text-anchor=\"middle\" x=\"477.063\" y=\"-1041.5148\" font-family=\"Helvetica,sans-Serif\" font-size=\"14.00\" fill=\"#000000\">False</text>\n</g>\n<!-- 3 -->\n<g id=\"node3\" class=\"node\">\n<title>3</title>\n<path fill=\"#e68742\" stroke=\"#000000\" d=\"M228,-901C228,-901 121,-901 121,-901 115,-901 109,-895 109,-889 109,-889 109,-830 109,-830 109,-824 115,-818 121,-818 121,-818 228,-818 228,-818 234,-818 240,-824 240,-830 240,-830 240,-889 240,-889 240,-895 234,-901 228,-901\"/>\n<text text-anchor=\"middle\" x=\"174.5\" y=\"-885.8\" font-family=\"Helvetica,sans-Serif\" font-size=\"14.00\" fill=\"#000000\">Glucose &lt;= 106.5</text>\n<text text-anchor=\"middle\" x=\"174.5\" y=\"-870.8\" font-family=\"Helvetica,sans-Serif\" font-size=\"14.00\" fill=\"#000000\">entropy = 0.26</text>\n<text text-anchor=\"middle\" x=\"174.5\" y=\"-855.8\" font-family=\"Helvetica,sans-Serif\" font-size=\"14.00\" fill=\"#000000\">samples = 91</text>\n<text text-anchor=\"middle\" x=\"174.5\" y=\"-840.8\" font-family=\"Helvetica,sans-Serif\" font-size=\"14.00\" fill=\"#000000\">value = [87, 4]</text>\n<text text-anchor=\"middle\" x=\"174.5\" y=\"-825.8\" font-family=\"Helvetica,sans-Serif\" font-size=\"14.00\" fill=\"#000000\">class = 0</text>\n</g>\n<!-- 1&#45;&gt;3 -->\n<g id=\"edge2\" class=\"edge\">\n<title>1&#45;&gt;3</title>\n<path fill=\"none\" stroke=\"#000000\" d=\"M262.2836,-936.8796C251.7598,-927.6031 240.5109,-917.6874 229.6979,-908.1559\"/>\n<polygon fill=\"#000000\" stroke=\"#000000\" points=\"231.734,-905.2851 221.918,-901.2981 227.1052,-910.5362 231.734,-905.2851\"/>\n</g>\n<!-- 4 -->\n<g id=\"node6\" class=\"node\">\n<title>4</title>\n<path fill=\"#f4caac\" stroke=\"#000000\" d=\"M378.5,-901C378.5,-901 270.5,-901 270.5,-901 264.5,-901 258.5,-895 258.5,-889 258.5,-889 258.5,-830 258.5,-830 258.5,-824 264.5,-818 270.5,-818 270.5,-818 378.5,-818 378.5,-818 384.5,-818 390.5,-824 390.5,-830 390.5,-830 390.5,-889 390.5,-889 390.5,-895 384.5,-901 378.5,-901\"/>\n<text text-anchor=\"middle\" x=\"324.5\" y=\"-885.8\" font-family=\"Helvetica,sans-Serif\" font-size=\"14.00\" fill=\"#000000\">Glucose &lt;= 99.5</text>\n<text text-anchor=\"middle\" x=\"324.5\" y=\"-870.8\" font-family=\"Helvetica,sans-Serif\" font-size=\"14.00\" fill=\"#000000\">entropy = 0.95</text>\n<text text-anchor=\"middle\" x=\"324.5\" y=\"-855.8\" font-family=\"Helvetica,sans-Serif\" font-size=\"14.00\" fill=\"#000000\">samples = 277</text>\n<text text-anchor=\"middle\" x=\"324.5\" y=\"-840.8\" font-family=\"Helvetica,sans-Serif\" font-size=\"14.00\" fill=\"#000000\">value = [175, 102]</text>\n<text text-anchor=\"middle\" x=\"324.5\" y=\"-825.8\" font-family=\"Helvetica,sans-Serif\" font-size=\"14.00\" fill=\"#000000\">class = 0</text>\n</g>\n<!-- 1&#45;&gt;4 -->\n<g id=\"edge5\" class=\"edge\">\n<title>1&#45;&gt;4</title>\n<path fill=\"none\" stroke=\"#000000\" d=\"M314.7463,-936.8796C315.7907,-928.5938 316.8994,-919.798 317.9805,-911.2216\"/>\n<polygon fill=\"#000000\" stroke=\"#000000\" points=\"321.4532,-911.6573 319.2313,-901.2981 314.5081,-910.7818 321.4532,-911.6573\"/>\n</g>\n<!-- 21 -->\n<g id=\"node4\" class=\"node\">\n<title>21</title>\n<path fill=\"#e58139\" stroke=\"#000000\" d=\"M95,-774.5C95,-774.5 12,-774.5 12,-774.5 6,-774.5 0,-768.5 0,-762.5 0,-762.5 0,-718.5 0,-718.5 0,-712.5 6,-706.5 12,-706.5 12,-706.5 95,-706.5 95,-706.5 101,-706.5 107,-712.5 107,-718.5 107,-718.5 107,-762.5 107,-762.5 107,-768.5 101,-774.5 95,-774.5\"/>\n<text text-anchor=\"middle\" x=\"53.5\" y=\"-759.3\" font-family=\"Helvetica,sans-Serif\" font-size=\"14.00\" fill=\"#000000\">entropy = 0.0</text>\n<text text-anchor=\"middle\" x=\"53.5\" y=\"-744.3\" font-family=\"Helvetica,sans-Serif\" font-size=\"14.00\" fill=\"#000000\">samples = 53</text>\n<text text-anchor=\"middle\" x=\"53.5\" y=\"-729.3\" font-family=\"Helvetica,sans-Serif\" font-size=\"14.00\" fill=\"#000000\">value = [53, 0]</text>\n<text text-anchor=\"middle\" x=\"53.5\" y=\"-714.3\" font-family=\"Helvetica,sans-Serif\" font-size=\"14.00\" fill=\"#000000\">class = 0</text>\n</g>\n<!-- 3&#45;&gt;21 -->\n<g id=\"edge3\" class=\"edge\">\n<title>3&#45;&gt;21</title>\n<path fill=\"none\" stroke=\"#000000\" d=\"M132.1801,-817.8796C120.3283,-806.2237 107.4505,-793.5587 95.6109,-781.9148\"/>\n<polygon fill=\"#000000\" stroke=\"#000000\" points=\"97.9756,-779.3314 88.3917,-774.8149 93.0673,-784.3223 97.9756,-779.3314\"/>\n</g>\n<!-- 22 -->\n<g id=\"node5\" class=\"node\">\n<title>22</title>\n<path fill=\"#e89050\" stroke=\"#000000\" d=\"M223.5,-774.5C223.5,-774.5 137.5,-774.5 137.5,-774.5 131.5,-774.5 125.5,-768.5 125.5,-762.5 125.5,-762.5 125.5,-718.5 125.5,-718.5 125.5,-712.5 131.5,-706.5 137.5,-706.5 137.5,-706.5 223.5,-706.5 223.5,-706.5 229.5,-706.5 235.5,-712.5 235.5,-718.5 235.5,-718.5 235.5,-762.5 235.5,-762.5 235.5,-768.5 229.5,-774.5 223.5,-774.5\"/>\n<text text-anchor=\"middle\" x=\"180.5\" y=\"-759.3\" font-family=\"Helvetica,sans-Serif\" font-size=\"14.00\" fill=\"#000000\">entropy = 0.49</text>\n<text text-anchor=\"middle\" x=\"180.5\" y=\"-744.3\" font-family=\"Helvetica,sans-Serif\" font-size=\"14.00\" fill=\"#000000\">samples = 38</text>\n<text text-anchor=\"middle\" x=\"180.5\" y=\"-729.3\" font-family=\"Helvetica,sans-Serif\" font-size=\"14.00\" fill=\"#000000\">value = [34, 4]</text>\n<text text-anchor=\"middle\" x=\"180.5\" y=\"-714.3\" font-family=\"Helvetica,sans-Serif\" font-size=\"14.00\" fill=\"#000000\">class = 0</text>\n</g>\n<!-- 3&#45;&gt;22 -->\n<g id=\"edge4\" class=\"edge\">\n<title>3&#45;&gt;22</title>\n<path fill=\"none\" stroke=\"#000000\" d=\"M176.5985,-817.8796C177.1363,-807.2134 177.7167,-795.7021 178.2613,-784.9015\"/>\n<polygon fill=\"#000000\" stroke=\"#000000\" points=\"181.7617,-784.9785 178.7698,-774.8149 174.7706,-784.626 181.7617,-784.9785\"/>\n</g>\n<!-- 5 -->\n<g id=\"node7\" class=\"node\">\n<title>5</title>\n<path fill=\"#e99456\" stroke=\"#000000\" d=\"M362.5,-782C362.5,-782 276.5,-782 276.5,-782 270.5,-782 264.5,-776 264.5,-770 264.5,-770 264.5,-711 264.5,-711 264.5,-705 270.5,-699 276.5,-699 276.5,-699 362.5,-699 362.5,-699 368.5,-699 374.5,-705 374.5,-711 374.5,-711 374.5,-770 374.5,-770 374.5,-776 368.5,-782 362.5,-782\"/>\n<text text-anchor=\"middle\" x=\"319.5\" y=\"-766.8\" font-family=\"Helvetica,sans-Serif\" font-size=\"14.00\" fill=\"#000000\">Age &lt;= 23.5</text>\n<text text-anchor=\"middle\" x=\"319.5\" y=\"-751.8\" font-family=\"Helvetica,sans-Serif\" font-size=\"14.00\" fill=\"#000000\">entropy = 0.55</text>\n<text text-anchor=\"middle\" x=\"319.5\" y=\"-736.8\" font-family=\"Helvetica,sans-Serif\" font-size=\"14.00\" fill=\"#000000\">samples = 70</text>\n<text text-anchor=\"middle\" x=\"319.5\" y=\"-721.8\" font-family=\"Helvetica,sans-Serif\" font-size=\"14.00\" fill=\"#000000\">value = [61, 9]</text>\n<text text-anchor=\"middle\" x=\"319.5\" y=\"-706.8\" font-family=\"Helvetica,sans-Serif\" font-size=\"14.00\" fill=\"#000000\">class = 0</text>\n</g>\n<!-- 4&#45;&gt;5 -->\n<g id=\"edge6\" class=\"edge\">\n<title>4&#45;&gt;5</title>\n<path fill=\"none\" stroke=\"#000000\" d=\"M322.7512,-817.8796C322.4069,-809.6838 322.0416,-800.9891 321.6849,-792.5013\"/>\n<polygon fill=\"#000000\" stroke=\"#000000\" points=\"325.173,-792.1423 321.2562,-782.2981 318.1792,-792.4362 325.173,-792.1423\"/>\n</g>\n<!-- 6 -->\n<g id=\"node10\" class=\"node\">\n<title>6</title>\n<path fill=\"#fae8db\" stroke=\"#000000\" d=\"M504.5,-782C504.5,-782 404.5,-782 404.5,-782 398.5,-782 392.5,-776 392.5,-770 392.5,-770 392.5,-711 392.5,-711 392.5,-705 398.5,-699 404.5,-699 404.5,-699 504.5,-699 504.5,-699 510.5,-699 516.5,-705 516.5,-711 516.5,-711 516.5,-770 516.5,-770 516.5,-776 510.5,-782 504.5,-782\"/>\n<text text-anchor=\"middle\" x=\"454.5\" y=\"-766.8\" font-family=\"Helvetica,sans-Serif\" font-size=\"14.00\" fill=\"#000000\">BMI &lt;= 45.4</text>\n<text text-anchor=\"middle\" x=\"454.5\" y=\"-751.8\" font-family=\"Helvetica,sans-Serif\" font-size=\"14.00\" fill=\"#000000\">entropy = 0.99</text>\n<text text-anchor=\"middle\" x=\"454.5\" y=\"-736.8\" font-family=\"Helvetica,sans-Serif\" font-size=\"14.00\" fill=\"#000000\">samples = 207</text>\n<text text-anchor=\"middle\" x=\"454.5\" y=\"-721.8\" font-family=\"Helvetica,sans-Serif\" font-size=\"14.00\" fill=\"#000000\">value = [114, 93]</text>\n<text text-anchor=\"middle\" x=\"454.5\" y=\"-706.8\" font-family=\"Helvetica,sans-Serif\" font-size=\"14.00\" fill=\"#000000\">class = 0</text>\n</g>\n<!-- 4&#45;&gt;6 -->\n<g id=\"edge9\" class=\"edge\">\n<title>4&#45;&gt;6</title>\n<path fill=\"none\" stroke=\"#000000\" d=\"M369.9677,-817.8796C380.1017,-808.6031 390.934,-798.6874 401.3465,-789.1559\"/>\n<polygon fill=\"#000000\" stroke=\"#000000\" points=\"403.8252,-791.6319 408.8382,-782.2981 399.0987,-786.4685 403.8252,-791.6319\"/>\n</g>\n<!-- 15 -->\n<g id=\"node8\" class=\"node\">\n<title>15</title>\n<path fill=\"#e58139\" stroke=\"#000000\" d=\"M234,-655.5C234,-655.5 151,-655.5 151,-655.5 145,-655.5 139,-649.5 139,-643.5 139,-643.5 139,-599.5 139,-599.5 139,-593.5 145,-587.5 151,-587.5 151,-587.5 234,-587.5 234,-587.5 240,-587.5 246,-593.5 246,-599.5 246,-599.5 246,-643.5 246,-643.5 246,-649.5 240,-655.5 234,-655.5\"/>\n<text text-anchor=\"middle\" x=\"192.5\" y=\"-640.3\" font-family=\"Helvetica,sans-Serif\" font-size=\"14.00\" fill=\"#000000\">entropy = 0.0</text>\n<text text-anchor=\"middle\" x=\"192.5\" y=\"-625.3\" font-family=\"Helvetica,sans-Serif\" font-size=\"14.00\" fill=\"#000000\">samples = 26</text>\n<text text-anchor=\"middle\" x=\"192.5\" y=\"-610.3\" font-family=\"Helvetica,sans-Serif\" font-size=\"14.00\" fill=\"#000000\">value = [26, 0]</text>\n<text text-anchor=\"middle\" x=\"192.5\" y=\"-595.3\" font-family=\"Helvetica,sans-Serif\" font-size=\"14.00\" fill=\"#000000\">class = 0</text>\n</g>\n<!-- 5&#45;&gt;15 -->\n<g id=\"edge7\" class=\"edge\">\n<title>5&#45;&gt;15</title>\n<path fill=\"none\" stroke=\"#000000\" d=\"M275.0816,-698.8796C262.6421,-687.2237 249.1257,-674.5587 236.699,-662.9148\"/>\n<polygon fill=\"#000000\" stroke=\"#000000\" points=\"238.8121,-660.0985 229.1218,-655.8149 234.0259,-665.2065 238.8121,-660.0985\"/>\n</g>\n<!-- 16 -->\n<g id=\"node9\" class=\"node\">\n<title>16</title>\n<path fill=\"#eca16c\" stroke=\"#000000\" d=\"M362.5,-655.5C362.5,-655.5 276.5,-655.5 276.5,-655.5 270.5,-655.5 264.5,-649.5 264.5,-643.5 264.5,-643.5 264.5,-599.5 264.5,-599.5 264.5,-593.5 270.5,-587.5 276.5,-587.5 276.5,-587.5 362.5,-587.5 362.5,-587.5 368.5,-587.5 374.5,-593.5 374.5,-599.5 374.5,-599.5 374.5,-643.5 374.5,-643.5 374.5,-649.5 368.5,-655.5 362.5,-655.5\"/>\n<text text-anchor=\"middle\" x=\"319.5\" y=\"-640.3\" font-family=\"Helvetica,sans-Serif\" font-size=\"14.00\" fill=\"#000000\">entropy = 0.73</text>\n<text text-anchor=\"middle\" x=\"319.5\" y=\"-625.3\" font-family=\"Helvetica,sans-Serif\" font-size=\"14.00\" fill=\"#000000\">samples = 44</text>\n<text text-anchor=\"middle\" x=\"319.5\" y=\"-610.3\" font-family=\"Helvetica,sans-Serif\" font-size=\"14.00\" fill=\"#000000\">value = [35, 9]</text>\n<text text-anchor=\"middle\" x=\"319.5\" y=\"-595.3\" font-family=\"Helvetica,sans-Serif\" font-size=\"14.00\" fill=\"#000000\">class = 0</text>\n</g>\n<!-- 5&#45;&gt;16 -->\n<g id=\"edge8\" class=\"edge\">\n<title>5&#45;&gt;16</title>\n<path fill=\"none\" stroke=\"#000000\" d=\"M319.5,-698.8796C319.5,-688.2134 319.5,-676.7021 319.5,-665.9015\"/>\n<polygon fill=\"#000000\" stroke=\"#000000\" points=\"323.0001,-665.8149 319.5,-655.8149 316.0001,-665.815 323.0001,-665.8149\"/>\n</g>\n<!-- 11 -->\n<g id=\"node11\" class=\"node\">\n<title>11</title>\n<path fill=\"#f8deca\" stroke=\"#000000\" d=\"M504.5,-663C504.5,-663 404.5,-663 404.5,-663 398.5,-663 392.5,-657 392.5,-651 392.5,-651 392.5,-592 392.5,-592 392.5,-586 398.5,-580 404.5,-580 404.5,-580 504.5,-580 504.5,-580 510.5,-580 516.5,-586 516.5,-592 516.5,-592 516.5,-651 516.5,-651 516.5,-657 510.5,-663 504.5,-663\"/>\n<text text-anchor=\"middle\" x=\"454.5\" y=\"-647.8\" font-family=\"Helvetica,sans-Serif\" font-size=\"14.00\" fill=\"#000000\">Age &lt;= 24.5</text>\n<text text-anchor=\"middle\" x=\"454.5\" y=\"-632.8\" font-family=\"Helvetica,sans-Serif\" font-size=\"14.00\" fill=\"#000000\">entropy = 0.98</text>\n<text text-anchor=\"middle\" x=\"454.5\" y=\"-617.8\" font-family=\"Helvetica,sans-Serif\" font-size=\"14.00\" fill=\"#000000\">samples = 196</text>\n<text text-anchor=\"middle\" x=\"454.5\" y=\"-602.8\" font-family=\"Helvetica,sans-Serif\" font-size=\"14.00\" fill=\"#000000\">value = [113, 83]</text>\n<text text-anchor=\"middle\" x=\"454.5\" y=\"-587.8\" font-family=\"Helvetica,sans-Serif\" font-size=\"14.00\" fill=\"#000000\">class = 0</text>\n</g>\n<!-- 6&#45;&gt;11 -->\n<g id=\"edge10\" class=\"edge\">\n<title>6&#45;&gt;11</title>\n<path fill=\"none\" stroke=\"#000000\" d=\"M454.5,-698.8796C454.5,-690.6838 454.5,-681.9891 454.5,-673.5013\"/>\n<polygon fill=\"#000000\" stroke=\"#000000\" points=\"458.0001,-673.298 454.5,-663.2981 451.0001,-673.2981 458.0001,-673.298\"/>\n</g>\n<!-- 12 -->\n<g id=\"node24\" class=\"node\">\n<title>12</title>\n<path fill=\"#4da7e8\" stroke=\"#000000\" d=\"M632.5,-655.5C632.5,-655.5 546.5,-655.5 546.5,-655.5 540.5,-655.5 534.5,-649.5 534.5,-643.5 534.5,-643.5 534.5,-599.5 534.5,-599.5 534.5,-593.5 540.5,-587.5 546.5,-587.5 546.5,-587.5 632.5,-587.5 632.5,-587.5 638.5,-587.5 644.5,-593.5 644.5,-599.5 644.5,-599.5 644.5,-643.5 644.5,-643.5 644.5,-649.5 638.5,-655.5 632.5,-655.5\"/>\n<text text-anchor=\"middle\" x=\"589.5\" y=\"-640.3\" font-family=\"Helvetica,sans-Serif\" font-size=\"14.00\" fill=\"#000000\">entropy = 0.44</text>\n<text text-anchor=\"middle\" x=\"589.5\" y=\"-625.3\" font-family=\"Helvetica,sans-Serif\" font-size=\"14.00\" fill=\"#000000\">samples = 11</text>\n<text text-anchor=\"middle\" x=\"589.5\" y=\"-610.3\" font-family=\"Helvetica,sans-Serif\" font-size=\"14.00\" fill=\"#000000\">value = [1, 10]</text>\n<text text-anchor=\"middle\" x=\"589.5\" y=\"-595.3\" font-family=\"Helvetica,sans-Serif\" font-size=\"14.00\" fill=\"#000000\">class = 1</text>\n</g>\n<!-- 6&#45;&gt;12 -->\n<g id=\"edge23\" class=\"edge\">\n<title>6&#45;&gt;12</title>\n<path fill=\"none\" stroke=\"#000000\" d=\"M501.7164,-698.8796C515.0642,-687.1138 529.5785,-674.3197 542.8904,-662.5855\"/>\n<polygon fill=\"#000000\" stroke=\"#000000\" points=\"545.384,-665.0531 550.5713,-655.8149 540.7552,-659.8019 545.384,-665.0531\"/>\n</g>\n<!-- 13 -->\n<g id=\"node12\" class=\"node\">\n<title>13</title>\n<path fill=\"#eca06a\" stroke=\"#000000\" d=\"M400.5,-544C400.5,-544 314.5,-544 314.5,-544 308.5,-544 302.5,-538 302.5,-532 302.5,-532 302.5,-473 302.5,-473 302.5,-467 308.5,-461 314.5,-461 314.5,-461 400.5,-461 400.5,-461 406.5,-461 412.5,-467 412.5,-473 412.5,-473 412.5,-532 412.5,-532 412.5,-538 406.5,-544 400.5,-544\"/>\n<text text-anchor=\"middle\" x=\"357.5\" y=\"-528.8\" font-family=\"Helvetica,sans-Serif\" font-size=\"14.00\" fill=\"#000000\">BMI &lt;= 33.25</text>\n<text text-anchor=\"middle\" x=\"357.5\" y=\"-513.8\" font-family=\"Helvetica,sans-Serif\" font-size=\"14.00\" fill=\"#000000\">entropy = 0.72</text>\n<text text-anchor=\"middle\" x=\"357.5\" y=\"-498.8\" font-family=\"Helvetica,sans-Serif\" font-size=\"14.00\" fill=\"#000000\">samples = 35</text>\n<text text-anchor=\"middle\" x=\"357.5\" y=\"-483.8\" font-family=\"Helvetica,sans-Serif\" font-size=\"14.00\" fill=\"#000000\">value = [28, 7]</text>\n<text text-anchor=\"middle\" x=\"357.5\" y=\"-468.8\" font-family=\"Helvetica,sans-Serif\" font-size=\"14.00\" fill=\"#000000\">class = 0</text>\n</g>\n<!-- 11&#45;&gt;13 -->\n<g id=\"edge11\" class=\"edge\">\n<title>11&#45;&gt;13</title>\n<path fill=\"none\" stroke=\"#000000\" d=\"M420.5741,-579.8796C413.3062,-570.9633 405.557,-561.4565 398.0672,-552.268\"/>\n<polygon fill=\"#000000\" stroke=\"#000000\" points=\"400.6018,-549.8379 391.5707,-544.2981 395.176,-554.2606 400.6018,-549.8379\"/>\n</g>\n<!-- 14 -->\n<g id=\"node15\" class=\"node\">\n<title>14</title>\n<path fill=\"#fcf2ea\" stroke=\"#000000\" d=\"M660.5,-544C660.5,-544 442.5,-544 442.5,-544 436.5,-544 430.5,-538 430.5,-532 430.5,-532 430.5,-473 430.5,-473 430.5,-467 436.5,-461 442.5,-461 442.5,-461 660.5,-461 660.5,-461 666.5,-461 672.5,-467 672.5,-473 672.5,-473 672.5,-532 672.5,-532 672.5,-538 666.5,-544 660.5,-544\"/>\n<text text-anchor=\"middle\" x=\"551.5\" y=\"-528.8\" font-family=\"Helvetica,sans-Serif\" font-size=\"14.00\" fill=\"#000000\">DiabetesPedigreeFunction &lt;= 0.73</text>\n<text text-anchor=\"middle\" x=\"551.5\" y=\"-513.8\" font-family=\"Helvetica,sans-Serif\" font-size=\"14.00\" fill=\"#000000\">entropy = 1.0</text>\n<text text-anchor=\"middle\" x=\"551.5\" y=\"-498.8\" font-family=\"Helvetica,sans-Serif\" font-size=\"14.00\" fill=\"#000000\">samples = 161</text>\n<text text-anchor=\"middle\" x=\"551.5\" y=\"-483.8\" font-family=\"Helvetica,sans-Serif\" font-size=\"14.00\" fill=\"#000000\">value = [85, 76]</text>\n<text text-anchor=\"middle\" x=\"551.5\" y=\"-468.8\" font-family=\"Helvetica,sans-Serif\" font-size=\"14.00\" fill=\"#000000\">class = 0</text>\n</g>\n<!-- 11&#45;&gt;14 -->\n<g id=\"edge14\" class=\"edge\">\n<title>11&#45;&gt;14</title>\n<path fill=\"none\" stroke=\"#000000\" d=\"M488.4259,-579.8796C495.6938,-570.9633 503.443,-561.4565 510.9328,-552.268\"/>\n<polygon fill=\"#000000\" stroke=\"#000000\" points=\"513.824,-554.2606 517.4293,-544.2981 508.3982,-549.8379 513.824,-554.2606\"/>\n</g>\n<!-- 17 -->\n<g id=\"node13\" class=\"node\">\n<title>17</title>\n<path fill=\"#e58139\" stroke=\"#000000\" d=\"M288,-417.5C288,-417.5 205,-417.5 205,-417.5 199,-417.5 193,-411.5 193,-405.5 193,-405.5 193,-361.5 193,-361.5 193,-355.5 199,-349.5 205,-349.5 205,-349.5 288,-349.5 288,-349.5 294,-349.5 300,-355.5 300,-361.5 300,-361.5 300,-405.5 300,-405.5 300,-411.5 294,-417.5 288,-417.5\"/>\n<text text-anchor=\"middle\" x=\"246.5\" y=\"-402.3\" font-family=\"Helvetica,sans-Serif\" font-size=\"14.00\" fill=\"#000000\">entropy = 0.0</text>\n<text text-anchor=\"middle\" x=\"246.5\" y=\"-387.3\" font-family=\"Helvetica,sans-Serif\" font-size=\"14.00\" fill=\"#000000\">samples = 14</text>\n<text text-anchor=\"middle\" x=\"246.5\" y=\"-372.3\" font-family=\"Helvetica,sans-Serif\" font-size=\"14.00\" fill=\"#000000\">value = [14, 0]</text>\n<text text-anchor=\"middle\" x=\"246.5\" y=\"-357.3\" font-family=\"Helvetica,sans-Serif\" font-size=\"14.00\" fill=\"#000000\">class = 0</text>\n</g>\n<!-- 13&#45;&gt;17 -->\n<g id=\"edge12\" class=\"edge\">\n<title>13&#45;&gt;17</title>\n<path fill=\"none\" stroke=\"#000000\" d=\"M318.6776,-460.8796C307.9079,-449.3337 296.2146,-436.7976 285.4383,-425.2446\"/>\n<polygon fill=\"#000000\" stroke=\"#000000\" points=\"287.8885,-422.7402 278.508,-417.8149 282.7697,-427.5149 287.8885,-422.7402\"/>\n</g>\n<!-- 18 -->\n<g id=\"node14\" class=\"node\">\n<title>18</title>\n<path fill=\"#f2c09c\" stroke=\"#000000\" d=\"M416.5,-417.5C416.5,-417.5 330.5,-417.5 330.5,-417.5 324.5,-417.5 318.5,-411.5 318.5,-405.5 318.5,-405.5 318.5,-361.5 318.5,-361.5 318.5,-355.5 324.5,-349.5 330.5,-349.5 330.5,-349.5 416.5,-349.5 416.5,-349.5 422.5,-349.5 428.5,-355.5 428.5,-361.5 428.5,-361.5 428.5,-405.5 428.5,-405.5 428.5,-411.5 422.5,-417.5 416.5,-417.5\"/>\n<text text-anchor=\"middle\" x=\"373.5\" y=\"-402.3\" font-family=\"Helvetica,sans-Serif\" font-size=\"14.00\" fill=\"#000000\">entropy = 0.92</text>\n<text text-anchor=\"middle\" x=\"373.5\" y=\"-387.3\" font-family=\"Helvetica,sans-Serif\" font-size=\"14.00\" fill=\"#000000\">samples = 21</text>\n<text text-anchor=\"middle\" x=\"373.5\" y=\"-372.3\" font-family=\"Helvetica,sans-Serif\" font-size=\"14.00\" fill=\"#000000\">value = [14, 7]</text>\n<text text-anchor=\"middle\" x=\"373.5\" y=\"-357.3\" font-family=\"Helvetica,sans-Serif\" font-size=\"14.00\" fill=\"#000000\">class = 0</text>\n</g>\n<!-- 13&#45;&gt;18 -->\n<g id=\"edge13\" class=\"edge\">\n<title>13&#45;&gt;18</title>\n<path fill=\"none\" stroke=\"#000000\" d=\"M363.096,-460.8796C364.5301,-450.2134 366.0779,-438.7021 367.53,-427.9015\"/>\n<polygon fill=\"#000000\" stroke=\"#000000\" points=\"371.0224,-428.1922 368.8862,-417.8149 364.0848,-427.2593 371.0224,-428.1922\"/>\n</g>\n<!-- 19 -->\n<g id=\"node16\" class=\"node\">\n<title>19</title>\n<path fill=\"#f8dcc8\" stroke=\"#000000\" d=\"M581.5,-425C581.5,-425 489.5,-425 489.5,-425 483.5,-425 477.5,-419 477.5,-413 477.5,-413 477.5,-354 477.5,-354 477.5,-348 483.5,-342 489.5,-342 489.5,-342 581.5,-342 581.5,-342 587.5,-342 593.5,-348 593.5,-354 593.5,-354 593.5,-413 593.5,-413 593.5,-419 587.5,-425 581.5,-425\"/>\n<text text-anchor=\"middle\" x=\"535.5\" y=\"-409.8\" font-family=\"Helvetica,sans-Serif\" font-size=\"14.00\" fill=\"#000000\">Age &lt;= 34.5</text>\n<text text-anchor=\"middle\" x=\"535.5\" y=\"-394.8\" font-family=\"Helvetica,sans-Serif\" font-size=\"14.00\" fill=\"#000000\">entropy = 0.98</text>\n<text text-anchor=\"middle\" x=\"535.5\" y=\"-379.8\" font-family=\"Helvetica,sans-Serif\" font-size=\"14.00\" fill=\"#000000\">samples = 131</text>\n<text text-anchor=\"middle\" x=\"535.5\" y=\"-364.8\" font-family=\"Helvetica,sans-Serif\" font-size=\"14.00\" fill=\"#000000\">value = [76, 55]</text>\n<text text-anchor=\"middle\" x=\"535.5\" y=\"-349.8\" font-family=\"Helvetica,sans-Serif\" font-size=\"14.00\" fill=\"#000000\">class = 0</text>\n</g>\n<!-- 14&#45;&gt;19 -->\n<g id=\"edge15\" class=\"edge\">\n<title>14&#45;&gt;19</title>\n<path fill=\"none\" stroke=\"#000000\" d=\"M545.904,-460.8796C544.7899,-452.5938 543.6073,-443.798 542.4542,-435.2216\"/>\n<polygon fill=\"#000000\" stroke=\"#000000\" points=\"545.9213,-434.7425 541.1199,-425.2981 538.9838,-435.6753 545.9213,-434.7425\"/>\n</g>\n<!-- 20 -->\n<g id=\"node23\" class=\"node\">\n<title>20</title>\n<path fill=\"#8ec7f0\" stroke=\"#000000\" d=\"M709.5,-417.5C709.5,-417.5 623.5,-417.5 623.5,-417.5 617.5,-417.5 611.5,-411.5 611.5,-405.5 611.5,-405.5 611.5,-361.5 611.5,-361.5 611.5,-355.5 617.5,-349.5 623.5,-349.5 623.5,-349.5 709.5,-349.5 709.5,-349.5 715.5,-349.5 721.5,-355.5 721.5,-361.5 721.5,-361.5 721.5,-405.5 721.5,-405.5 721.5,-411.5 715.5,-417.5 709.5,-417.5\"/>\n<text text-anchor=\"middle\" x=\"666.5\" y=\"-402.3\" font-family=\"Helvetica,sans-Serif\" font-size=\"14.00\" fill=\"#000000\">entropy = 0.88</text>\n<text text-anchor=\"middle\" x=\"666.5\" y=\"-387.3\" font-family=\"Helvetica,sans-Serif\" font-size=\"14.00\" fill=\"#000000\">samples = 30</text>\n<text text-anchor=\"middle\" x=\"666.5\" y=\"-372.3\" font-family=\"Helvetica,sans-Serif\" font-size=\"14.00\" fill=\"#000000\">value = [9, 21]</text>\n<text text-anchor=\"middle\" x=\"666.5\" y=\"-357.3\" font-family=\"Helvetica,sans-Serif\" font-size=\"14.00\" fill=\"#000000\">class = 1</text>\n</g>\n<!-- 14&#45;&gt;20 -->\n<g id=\"edge22\" class=\"edge\">\n<title>14&#45;&gt;20</title>\n<path fill=\"none\" stroke=\"#000000\" d=\"M591.7214,-460.8796C602.8792,-449.3337 614.9939,-436.7976 626.1586,-425.2446\"/>\n<polygon fill=\"#000000\" stroke=\"#000000\" points=\"628.9061,-427.4381 633.3385,-417.8149 623.8725,-422.5736 628.9061,-427.4381\"/>\n</g>\n<!-- 23 -->\n<g id=\"node17\" class=\"node\">\n<title>23</title>\n<path fill=\"#f1bd98\" stroke=\"#000000\" d=\"M526,-306C526,-306 385,-306 385,-306 379,-306 373,-300 373,-294 373,-294 373,-235 373,-235 373,-229 379,-223 385,-223 385,-223 526,-223 526,-223 532,-223 538,-229 538,-235 538,-235 538,-294 538,-294 538,-300 532,-306 526,-306\"/>\n<text text-anchor=\"middle\" x=\"455.5\" y=\"-290.8\" font-family=\"Helvetica,sans-Serif\" font-size=\"14.00\" fill=\"#000000\">BloodPressure &lt;= 81.0</text>\n<text text-anchor=\"middle\" x=\"455.5\" y=\"-275.8\" font-family=\"Helvetica,sans-Serif\" font-size=\"14.00\" fill=\"#000000\">entropy = 0.91</text>\n<text text-anchor=\"middle\" x=\"455.5\" y=\"-260.8\" font-family=\"Helvetica,sans-Serif\" font-size=\"14.00\" fill=\"#000000\">samples = 68</text>\n<text text-anchor=\"middle\" x=\"455.5\" y=\"-245.8\" font-family=\"Helvetica,sans-Serif\" font-size=\"14.00\" fill=\"#000000\">value = [46, 22]</text>\n<text text-anchor=\"middle\" x=\"455.5\" y=\"-230.8\" font-family=\"Helvetica,sans-Serif\" font-size=\"14.00\" fill=\"#000000\">class = 0</text>\n</g>\n<!-- 19&#45;&gt;23 -->\n<g id=\"edge16\" class=\"edge\">\n<title>19&#45;&gt;23</title>\n<path fill=\"none\" stroke=\"#000000\" d=\"M507.5199,-341.8796C501.6469,-333.1434 495.3927,-323.8404 489.3321,-314.8253\"/>\n<polygon fill=\"#000000\" stroke=\"#000000\" points=\"492.0834,-312.6444 483.5995,-306.2981 486.2741,-316.5498 492.0834,-312.6444\"/>\n</g>\n<!-- 24 -->\n<g id=\"node22\" class=\"node\">\n<title>24</title>\n<path fill=\"#edf6fd\" stroke=\"#000000\" d=\"M660.5,-298.5C660.5,-298.5 568.5,-298.5 568.5,-298.5 562.5,-298.5 556.5,-292.5 556.5,-286.5 556.5,-286.5 556.5,-242.5 556.5,-242.5 556.5,-236.5 562.5,-230.5 568.5,-230.5 568.5,-230.5 660.5,-230.5 660.5,-230.5 666.5,-230.5 672.5,-236.5 672.5,-242.5 672.5,-242.5 672.5,-286.5 672.5,-286.5 672.5,-292.5 666.5,-298.5 660.5,-298.5\"/>\n<text text-anchor=\"middle\" x=\"614.5\" y=\"-283.3\" font-family=\"Helvetica,sans-Serif\" font-size=\"14.00\" fill=\"#000000\">entropy = 1.0</text>\n<text text-anchor=\"middle\" x=\"614.5\" y=\"-268.3\" font-family=\"Helvetica,sans-Serif\" font-size=\"14.00\" fill=\"#000000\">samples = 63</text>\n<text text-anchor=\"middle\" x=\"614.5\" y=\"-253.3\" font-family=\"Helvetica,sans-Serif\" font-size=\"14.00\" fill=\"#000000\">value = [30, 33]</text>\n<text text-anchor=\"middle\" x=\"614.5\" y=\"-238.3\" font-family=\"Helvetica,sans-Serif\" font-size=\"14.00\" fill=\"#000000\">class = 1</text>\n</g>\n<!-- 19&#45;&gt;24 -->\n<g id=\"edge21\" class=\"edge\">\n<title>19&#45;&gt;24</title>\n<path fill=\"none\" stroke=\"#000000\" d=\"M563.1304,-341.8796C570.5763,-330.6636 578.6425,-318.5131 586.1282,-307.2372\"/>\n<polygon fill=\"#000000\" stroke=\"#000000\" points=\"589.1046,-309.082 591.7195,-298.8149 583.2727,-305.2104 589.1046,-309.082\"/>\n</g>\n<!-- 25 -->\n<g id=\"node18\" class=\"node\">\n<title>25</title>\n<path fill=\"#f6d3b9\" stroke=\"#000000\" d=\"M436.5,-187C436.5,-187 344.5,-187 344.5,-187 338.5,-187 332.5,-181 332.5,-175 332.5,-175 332.5,-116 332.5,-116 332.5,-110 338.5,-104 344.5,-104 344.5,-104 436.5,-104 436.5,-104 442.5,-104 448.5,-110 448.5,-116 448.5,-116 448.5,-175 448.5,-175 448.5,-181 442.5,-187 436.5,-187\"/>\n<text text-anchor=\"middle\" x=\"390.5\" y=\"-171.8\" font-family=\"Helvetica,sans-Serif\" font-size=\"14.00\" fill=\"#000000\">BMI &lt;= 31.75</text>\n<text text-anchor=\"middle\" x=\"390.5\" y=\"-156.8\" font-family=\"Helvetica,sans-Serif\" font-size=\"14.00\" fill=\"#000000\">entropy = 0.97</text>\n<text text-anchor=\"middle\" x=\"390.5\" y=\"-141.8\" font-family=\"Helvetica,sans-Serif\" font-size=\"14.00\" fill=\"#000000\">samples = 56</text>\n<text text-anchor=\"middle\" x=\"390.5\" y=\"-126.8\" font-family=\"Helvetica,sans-Serif\" font-size=\"14.00\" fill=\"#000000\">value = [34, 22]</text>\n<text text-anchor=\"middle\" x=\"390.5\" y=\"-111.8\" font-family=\"Helvetica,sans-Serif\" font-size=\"14.00\" fill=\"#000000\">class = 0</text>\n</g>\n<!-- 23&#45;&gt;25 -->\n<g id=\"edge17\" class=\"edge\">\n<title>23&#45;&gt;25</title>\n<path fill=\"none\" stroke=\"#000000\" d=\"M432.7662,-222.8796C428.0435,-214.2335 423.0176,-205.0322 418.141,-196.1042\"/>\n<polygon fill=\"#000000\" stroke=\"#000000\" points=\"421.1963,-194.3964 413.3309,-187.2981 415.053,-197.752 421.1963,-194.3964\"/>\n</g>\n<!-- 26 -->\n<g id=\"node21\" class=\"node\">\n<title>26</title>\n<path fill=\"#e58139\" stroke=\"#000000\" d=\"M562,-179.5C562,-179.5 479,-179.5 479,-179.5 473,-179.5 467,-173.5 467,-167.5 467,-167.5 467,-123.5 467,-123.5 467,-117.5 473,-111.5 479,-111.5 479,-111.5 562,-111.5 562,-111.5 568,-111.5 574,-117.5 574,-123.5 574,-123.5 574,-167.5 574,-167.5 574,-173.5 568,-179.5 562,-179.5\"/>\n<text text-anchor=\"middle\" x=\"520.5\" y=\"-164.3\" font-family=\"Helvetica,sans-Serif\" font-size=\"14.00\" fill=\"#000000\">entropy = 0.0</text>\n<text text-anchor=\"middle\" x=\"520.5\" y=\"-149.3\" font-family=\"Helvetica,sans-Serif\" font-size=\"14.00\" fill=\"#000000\">samples = 12</text>\n<text text-anchor=\"middle\" x=\"520.5\" y=\"-134.3\" font-family=\"Helvetica,sans-Serif\" font-size=\"14.00\" fill=\"#000000\">value = [12, 0]</text>\n<text text-anchor=\"middle\" x=\"520.5\" y=\"-119.3\" font-family=\"Helvetica,sans-Serif\" font-size=\"14.00\" fill=\"#000000\">class = 0</text>\n</g>\n<!-- 23&#45;&gt;26 -->\n<g id=\"edge20\" class=\"edge\">\n<title>23&#45;&gt;26</title>\n<path fill=\"none\" stroke=\"#000000\" d=\"M478.2338,-222.8796C484.2401,-211.8835 490.737,-199.9893 496.7933,-188.9015\"/>\n<polygon fill=\"#000000\" stroke=\"#000000\" points=\"500.0345,-190.2689 501.7565,-179.8149 493.8912,-186.9133 500.0345,-190.2689\"/>\n</g>\n<!-- 27 -->\n<g id=\"node19\" class=\"node\">\n<title>27</title>\n<path fill=\"#c6e3f8\" stroke=\"#000000\" d=\"M371.5,-68C371.5,-68 279.5,-68 279.5,-68 273.5,-68 267.5,-62 267.5,-56 267.5,-56 267.5,-12 267.5,-12 267.5,-6 273.5,0 279.5,0 279.5,0 371.5,0 371.5,0 377.5,0 383.5,-6 383.5,-12 383.5,-12 383.5,-56 383.5,-56 383.5,-62 377.5,-68 371.5,-68\"/>\n<text text-anchor=\"middle\" x=\"325.5\" y=\"-52.8\" font-family=\"Helvetica,sans-Serif\" font-size=\"14.00\" fill=\"#000000\">entropy = 0.98</text>\n<text text-anchor=\"middle\" x=\"325.5\" y=\"-37.8\" font-family=\"Helvetica,sans-Serif\" font-size=\"14.00\" fill=\"#000000\">samples = 24</text>\n<text text-anchor=\"middle\" x=\"325.5\" y=\"-22.8\" font-family=\"Helvetica,sans-Serif\" font-size=\"14.00\" fill=\"#000000\">value = [10, 14]</text>\n<text text-anchor=\"middle\" x=\"325.5\" y=\"-7.8\" font-family=\"Helvetica,sans-Serif\" font-size=\"14.00\" fill=\"#000000\">class = 1</text>\n</g>\n<!-- 25&#45;&gt;27 -->\n<g id=\"edge18\" class=\"edge\">\n<title>25&#45;&gt;27</title>\n<path fill=\"none\" stroke=\"#000000\" d=\"M366.2964,-103.9815C361.1529,-95.1585 355.7123,-85.8258 350.5384,-76.9506\"/>\n<polygon fill=\"#000000\" stroke=\"#000000\" points=\"353.5344,-75.1402 345.4743,-68.2637 347.487,-78.6656 353.5344,-75.1402\"/>\n</g>\n<!-- 28 -->\n<g id=\"node20\" class=\"node\">\n<title>28</title>\n<path fill=\"#eeab7b\" stroke=\"#000000\" d=\"M499.5,-68C499.5,-68 413.5,-68 413.5,-68 407.5,-68 401.5,-62 401.5,-56 401.5,-56 401.5,-12 401.5,-12 401.5,-6 407.5,0 413.5,0 413.5,0 499.5,0 499.5,0 505.5,0 511.5,-6 511.5,-12 511.5,-12 511.5,-56 511.5,-56 511.5,-62 505.5,-68 499.5,-68\"/>\n<text text-anchor=\"middle\" x=\"456.5\" y=\"-52.8\" font-family=\"Helvetica,sans-Serif\" font-size=\"14.00\" fill=\"#000000\">entropy = 0.81</text>\n<text text-anchor=\"middle\" x=\"456.5\" y=\"-37.8\" font-family=\"Helvetica,sans-Serif\" font-size=\"14.00\" fill=\"#000000\">samples = 32</text>\n<text text-anchor=\"middle\" x=\"456.5\" y=\"-22.8\" font-family=\"Helvetica,sans-Serif\" font-size=\"14.00\" fill=\"#000000\">value = [24, 8]</text>\n<text text-anchor=\"middle\" x=\"456.5\" y=\"-7.8\" font-family=\"Helvetica,sans-Serif\" font-size=\"14.00\" fill=\"#000000\">class = 0</text>\n</g>\n<!-- 25&#45;&gt;28 -->\n<g id=\"edge19\" class=\"edge\">\n<title>25&#45;&gt;28</title>\n<path fill=\"none\" stroke=\"#000000\" d=\"M415.076,-103.9815C420.2986,-95.1585 425.8229,-85.8258 431.0763,-76.9506\"/>\n<polygon fill=\"#000000\" stroke=\"#000000\" points=\"434.1364,-78.652 436.2184,-68.2637 428.1126,-75.0863 434.1364,-78.652\"/>\n</g>\n<!-- 7 -->\n<g id=\"node26\" class=\"node\">\n<title>7</title>\n<path fill=\"#d1e8f9\" stroke=\"#000000\" d=\"M541.5,-893.5C541.5,-893.5 449.5,-893.5 449.5,-893.5 443.5,-893.5 437.5,-887.5 437.5,-881.5 437.5,-881.5 437.5,-837.5 437.5,-837.5 437.5,-831.5 443.5,-825.5 449.5,-825.5 449.5,-825.5 541.5,-825.5 541.5,-825.5 547.5,-825.5 553.5,-831.5 553.5,-837.5 553.5,-837.5 553.5,-881.5 553.5,-881.5 553.5,-887.5 547.5,-893.5 541.5,-893.5\"/>\n<text text-anchor=\"middle\" x=\"495.5\" y=\"-878.3\" font-family=\"Helvetica,sans-Serif\" font-size=\"14.00\" fill=\"#000000\">entropy = 0.99</text>\n<text text-anchor=\"middle\" x=\"495.5\" y=\"-863.3\" font-family=\"Helvetica,sans-Serif\" font-size=\"14.00\" fill=\"#000000\">samples = 23</text>\n<text text-anchor=\"middle\" x=\"495.5\" y=\"-848.3\" font-family=\"Helvetica,sans-Serif\" font-size=\"14.00\" fill=\"#000000\">value = [10, 13]</text>\n<text text-anchor=\"middle\" x=\"495.5\" y=\"-833.3\" font-family=\"Helvetica,sans-Serif\" font-size=\"14.00\" fill=\"#000000\">class = 1</text>\n</g>\n<!-- 2&#45;&gt;7 -->\n<g id=\"edge25\" class=\"edge\">\n<title>2&#45;&gt;7</title>\n<path fill=\"none\" stroke=\"#000000\" d=\"M505.2537,-936.8796C503.9092,-926.2134 502.4582,-914.7021 501.0968,-903.9015\"/>\n<polygon fill=\"#000000\" stroke=\"#000000\" points=\"504.5486,-903.2987 499.8254,-893.8149 497.6036,-904.1742 504.5486,-903.2987\"/>\n</g>\n<!-- 8 -->\n<g id=\"node27\" class=\"node\">\n<title>8</title>\n<path fill=\"#4ca6e8\" stroke=\"#000000\" d=\"M679,-901C679,-901 584,-901 584,-901 578,-901 572,-895 572,-889 572,-889 572,-830 572,-830 572,-824 578,-818 584,-818 584,-818 679,-818 679,-818 685,-818 691,-824 691,-830 691,-830 691,-889 691,-889 691,-895 685,-901 679,-901\"/>\n<text text-anchor=\"middle\" x=\"631.5\" y=\"-885.8\" font-family=\"Helvetica,sans-Serif\" font-size=\"14.00\" fill=\"#000000\">Insulin &lt;= 350.0</text>\n<text text-anchor=\"middle\" x=\"631.5\" y=\"-870.8\" font-family=\"Helvetica,sans-Serif\" font-size=\"14.00\" fill=\"#000000\">entropy = 0.43</text>\n<text text-anchor=\"middle\" x=\"631.5\" y=\"-855.8\" font-family=\"Helvetica,sans-Serif\" font-size=\"14.00\" fill=\"#000000\">samples = 57</text>\n<text text-anchor=\"middle\" x=\"631.5\" y=\"-840.8\" font-family=\"Helvetica,sans-Serif\" font-size=\"14.00\" fill=\"#000000\">value = [5, 52]</text>\n<text text-anchor=\"middle\" x=\"631.5\" y=\"-825.8\" font-family=\"Helvetica,sans-Serif\" font-size=\"14.00\" fill=\"#000000\">class = 1</text>\n</g>\n<!-- 2&#45;&gt;8 -->\n<g id=\"edge26\" class=\"edge\">\n<title>2&#45;&gt;8</title>\n<path fill=\"none\" stroke=\"#000000\" d=\"M552.8199,-936.8796C562.1608,-927.6931 572.139,-917.8798 581.744,-908.4336\"/>\n<polygon fill=\"#000000\" stroke=\"#000000\" points=\"584.3238,-910.8054 588.9994,-901.2981 579.4155,-905.8146 584.3238,-910.8054\"/>\n</g>\n<!-- 9 -->\n<g id=\"node28\" class=\"node\">\n<title>9</title>\n<path fill=\"#399de5\" stroke=\"#000000\" d=\"M652,-774.5C652,-774.5 569,-774.5 569,-774.5 563,-774.5 557,-768.5 557,-762.5 557,-762.5 557,-718.5 557,-718.5 557,-712.5 563,-706.5 569,-706.5 569,-706.5 652,-706.5 652,-706.5 658,-706.5 664,-712.5 664,-718.5 664,-718.5 664,-762.5 664,-762.5 664,-768.5 658,-774.5 652,-774.5\"/>\n<text text-anchor=\"middle\" x=\"610.5\" y=\"-759.3\" font-family=\"Helvetica,sans-Serif\" font-size=\"14.00\" fill=\"#000000\">entropy = 0.0</text>\n<text text-anchor=\"middle\" x=\"610.5\" y=\"-744.3\" font-family=\"Helvetica,sans-Serif\" font-size=\"14.00\" fill=\"#000000\">samples = 46</text>\n<text text-anchor=\"middle\" x=\"610.5\" y=\"-729.3\" font-family=\"Helvetica,sans-Serif\" font-size=\"14.00\" fill=\"#000000\">value = [0, 46]</text>\n<text text-anchor=\"middle\" x=\"610.5\" y=\"-714.3\" font-family=\"Helvetica,sans-Serif\" font-size=\"14.00\" fill=\"#000000\">class = 1</text>\n</g>\n<!-- 8&#45;&gt;9 -->\n<g id=\"edge27\" class=\"edge\">\n<title>8&#45;&gt;9</title>\n<path fill=\"none\" stroke=\"#000000\" d=\"M624.1552,-817.8796C622.2729,-807.2134 620.2415,-795.7021 618.3356,-784.9015\"/>\n<polygon fill=\"#000000\" stroke=\"#000000\" points=\"621.7403,-784.0545 616.5556,-774.8149 614.8468,-785.2711 621.7403,-784.0545\"/>\n</g>\n<!-- 10 -->\n<g id=\"node29\" class=\"node\">\n<title>10</title>\n<path fill=\"#deeffb\" stroke=\"#000000\" d=\"M780.5,-774.5C780.5,-774.5 694.5,-774.5 694.5,-774.5 688.5,-774.5 682.5,-768.5 682.5,-762.5 682.5,-762.5 682.5,-718.5 682.5,-718.5 682.5,-712.5 688.5,-706.5 694.5,-706.5 694.5,-706.5 780.5,-706.5 780.5,-706.5 786.5,-706.5 792.5,-712.5 792.5,-718.5 792.5,-718.5 792.5,-762.5 792.5,-762.5 792.5,-768.5 786.5,-774.5 780.5,-774.5\"/>\n<text text-anchor=\"middle\" x=\"737.5\" y=\"-759.3\" font-family=\"Helvetica,sans-Serif\" font-size=\"14.00\" fill=\"#000000\">entropy = 0.99</text>\n<text text-anchor=\"middle\" x=\"737.5\" y=\"-744.3\" font-family=\"Helvetica,sans-Serif\" font-size=\"14.00\" fill=\"#000000\">samples = 11</text>\n<text text-anchor=\"middle\" x=\"737.5\" y=\"-729.3\" font-family=\"Helvetica,sans-Serif\" font-size=\"14.00\" fill=\"#000000\">value = [5, 6]</text>\n<text text-anchor=\"middle\" x=\"737.5\" y=\"-714.3\" font-family=\"Helvetica,sans-Serif\" font-size=\"14.00\" fill=\"#000000\">class = 1</text>\n</g>\n<!-- 8&#45;&gt;10 -->\n<g id=\"edge28\" class=\"edge\">\n<title>8&#45;&gt;10</title>\n<path fill=\"none\" stroke=\"#000000\" d=\"M668.5737,-817.8796C678.7603,-806.4436 689.8122,-794.0363 700.0215,-782.575\"/>\n<polygon fill=\"#000000\" stroke=\"#000000\" points=\"702.8958,-784.6101 706.9338,-774.8149 697.6688,-779.9541 702.8958,-784.6101\"/>\n</g>\n</g>\n</svg>\n"
          },
          "metadata": {},
          "execution_count": 111
        }
      ]
    },
    {
      "cell_type": "code",
      "source": [
        "y_pred = clf.predict(X_test)"
      ],
      "metadata": {
        "id": "-r4tdnBN7wAv"
      },
      "execution_count": null,
      "outputs": []
    },
    {
      "cell_type": "code",
      "source": [
        "metrics.confusion_matrix(y_test, y_pred)"
      ],
      "metadata": {
        "colab": {
          "base_uri": "https://localhost:8080/"
        },
        "id": "A0yRTvEE73TN",
        "outputId": "fd4bfcbf-f1db-4ac8-ea59-e0f68b4bf03e"
      },
      "execution_count": null,
      "outputs": [
        {
          "output_type": "execute_result",
          "data": {
            "text/plain": [
              "array([[71, 17],\n",
              "       [10, 14]])"
            ]
          },
          "metadata": {},
          "execution_count": 113
        }
      ]
    },
    {
      "cell_type": "code",
      "source": [
        "print(metrics.classification_report(y_test, y_pred))"
      ],
      "metadata": {
        "colab": {
          "base_uri": "https://localhost:8080/"
        },
        "id": "2PmzUUgE8GOk",
        "outputId": "3234ef63-116b-44e1-886d-e7bab59ef6a0"
      },
      "execution_count": null,
      "outputs": [
        {
          "output_type": "stream",
          "name": "stdout",
          "text": [
            "              precision    recall  f1-score   support\n",
            "\n",
            "           0       0.88      0.81      0.84        88\n",
            "           1       0.45      0.58      0.51        24\n",
            "\n",
            "    accuracy                           0.76       112\n",
            "   macro avg       0.66      0.70      0.67       112\n",
            "weighted avg       0.79      0.76      0.77       112\n",
            "\n"
          ]
        }
      ]
    },
    {
      "cell_type": "code",
      "source": [
        "clf.predict(df.iloc[[743], 0:-1])"
      ],
      "metadata": {
        "colab": {
          "base_uri": "https://localhost:8080/"
        },
        "id": "rBGGlIHr9llk",
        "outputId": "7d759a8a-aea6-4abc-8f96-12207781b190"
      },
      "execution_count": null,
      "outputs": [
        {
          "output_type": "execute_result",
          "data": {
            "text/plain": [
              "array([1])"
            ]
          },
          "metadata": {},
          "execution_count": 118
        }
      ]
    }
  ]
}
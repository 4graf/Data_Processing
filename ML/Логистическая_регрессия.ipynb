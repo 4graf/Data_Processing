{
  "nbformat": 4,
  "nbformat_minor": 0,
  "metadata": {
    "colab": {
      "provenance": [],
      "authorship_tag": "ABX9TyOnFX1gJAY6DCPkLkU6itZi",
      "include_colab_link": true
    },
    "kernelspec": {
      "name": "python3",
      "display_name": "Python 3"
    },
    "language_info": {
      "name": "python"
    }
  },
  "cells": [
    {
      "cell_type": "markdown",
      "metadata": {
        "id": "view-in-github",
        "colab_type": "text"
      },
      "source": [
        "<a href=\"https://colab.research.google.com/github/4graf/Data_Processing/blob/main/ML/%D0%9B%D0%BE%D0%B3%D0%B8%D1%81%D1%82%D0%B8%D1%87%D0%B5%D1%81%D0%BA%D0%B0%D1%8F_%D1%80%D0%B5%D0%B3%D1%80%D0%B5%D1%81%D1%81%D0%B8%D1%8F.ipynb\" target=\"_parent\"><img src=\"https://colab.research.google.com/assets/colab-badge.svg\" alt=\"Open In Colab\"/></a>"
      ]
    },
    {
      "cell_type": "code",
      "source": [
        "import numpy as np\n",
        "import pandas as pd\n",
        "import matplotlib.pyplot as plt"
      ],
      "metadata": {
        "id": "1g7vGtFgpIIC"
      },
      "execution_count": null,
      "outputs": []
    },
    {
      "cell_type": "code",
      "execution_count": null,
      "metadata": {
        "colab": {
          "base_uri": "https://localhost:8080/"
        },
        "id": "mixp9lXuoPmO",
        "outputId": "e345b291-3482-40a1-8d94-76df3e33878d"
      },
      "outputs": [
        {
          "output_type": "execute_result",
          "data": {
            "text/plain": [
              "0.6229292233842624"
            ]
          },
          "metadata": {},
          "execution_count": 4
        }
      ],
      "source": [
        "psi = -0.046+4*0.541+40*(-0.014)+8*(-0.132)\n",
        "p = 1/(1+np.exp(-psi))\n",
        "p"
      ]
    },
    {
      "cell_type": "code",
      "source": [
        "# Биномиальное распределение. n = 5, вероятность одинакова для каждого эксперимента\n",
        "n = 5\n",
        "X = [3, 5]\n",
        "# f(X, p) = P(X1) * P(X2) = C(3, 5) * p^3 * (1-p)^2 * C(5, 5) * p^5 * (1-p)^0\n",
        "# l(X, p) = 8*np.ln(p) + 2*np.ln(1-p)\n",
        "# l(X, p)' = 8/p - 2/(1-p)\n",
        "# 8/p - 2/(1-p) = 0\n",
        "# 8(1-p) = 2p\n",
        "# 10p = 8\n",
        "# p = 0.8"
      ],
      "metadata": {
        "id": "Z8GV_UE3wLfE"
      },
      "execution_count": null,
      "outputs": []
    },
    {
      "cell_type": "code",
      "source": [
        "np.log2(4)\n",
        "np.log(4) / np.log(2)"
      ],
      "metadata": {
        "colab": {
          "base_uri": "https://localhost:8080/"
        },
        "id": "dlLne0jm5wzq",
        "outputId": "b053b8ba-5b13-424f-c396-ecde45c3cade"
      },
      "execution_count": null,
      "outputs": [
        {
          "output_type": "execute_result",
          "data": {
            "text/plain": [
              "2.0"
            ]
          },
          "metadata": {},
          "execution_count": 19
        }
      ]
    },
    {
      "cell_type": "code",
      "source": [
        "1 / (1+np.exp(-(-2.992)))"
      ],
      "metadata": {
        "colab": {
          "base_uri": "https://localhost:8080/"
        },
        "id": "KDl3exBy-LOY",
        "outputId": "43f35b1e-295e-4848-c147-4496e812606b"
      },
      "execution_count": null,
      "outputs": [
        {
          "output_type": "execute_result",
          "data": {
            "text/plain": [
              "0.047788597799115824"
            ]
          },
          "metadata": {},
          "execution_count": 20
        }
      ]
    },
    {
      "cell_type": "markdown",
      "source": [
        "# SKLEARN"
      ],
      "metadata": {
        "id": "kzXBvVovqu2F"
      }
    },
    {
      "cell_type": "code",
      "source": [
        "! head -3 \"candy-data (1).csv\""
      ],
      "metadata": {
        "colab": {
          "base_uri": "https://localhost:8080/"
        },
        "id": "_Dbc2wdlrrNc",
        "outputId": "f5eac10d-c2ba-49f2-b455-ea22306551d7"
      },
      "execution_count": null,
      "outputs": [
        {
          "output_type": "stream",
          "name": "stdout",
          "text": [
            "﻿competitorname,chocolate,fruity,caramel,peanutyalmondy,nougat,crispedricewafer,hard,bar,pluribus,sugarpercent,pricepercent,winpercent,Y\r\n",
            "100 Grand,1,0,1,0,0,1,0,1,0,0.73199999,0.86000001,66.971725,1\r\n",
            "3 Musketeers,1,0,0,0,1,0,0,1,0,0.60399997,0.51099998,67.602936,1\r\n"
          ]
        }
      ]
    },
    {
      "cell_type": "code",
      "source": [
        "from sklearn.linear_model import LogisticRegression\n",
        "\n",
        "df_train = pd.read_csv('candy-data (1).csv')\n",
        "predictors = ['chocolate', 'fruity', 'caramel', 'peanutyalmondy', 'nougat', \n",
        "              'crispedricewafer', 'hard', 'bar', 'pluribus', 'sugarpercent', \n",
        "              'pricepercent']\n",
        "not_include_competitors = ['Dots', 'Hersheys Milk Chocolate', 'Nik L Nip']\n",
        "\n",
        "X_train = df_train[~df_train['competitorname'].\\\n",
        "             isin(not_include_competitors)]\\\n",
        "             [predictors]\n",
        "\n",
        "y_train = df_train[~df_train['competitorname'].isin(not_include_competitors)]['Y']\n",
        "\n",
        "reg = LogisticRegression(random_state = 2019, solver = 'lbfgs').fit(X_train, y_train)\n",
        "\n",
        "df_test = pd.read_csv('candy-test.csv')\n",
        "X_test = df_test[predictors]\n",
        "\n",
        "df_test['predict'] = reg.predict(X_test)\n",
        "df_test[['competitorname', 'predict']]"
      ],
      "metadata": {
        "colab": {
          "base_uri": "https://localhost:8080/",
          "height": 519
        },
        "id": "NKrl1A05qt8Q",
        "outputId": "0746b916-dbe3-4f75-d4c7-e05ae50b3b07"
      },
      "execution_count": null,
      "outputs": [
        {
          "output_type": "execute_result",
          "data": {
            "text/plain": [
              "               competitorname  predict\n",
              "0                Sugar Babies        0\n",
              "1                 Sugar Daddy        0\n",
              "2                Super Bubble        0\n",
              "3                Swedish Fish        0\n",
              "4                 Tootsie Pop        1\n",
              "5        Tootsie Roll Juniors        1\n",
              "6        Tootsie Roll Midgies        1\n",
              "7     Tootsie Roll Snack Bars        1\n",
              "8           Trolli Sour Bites        0\n",
              "9                        Twix        0\n",
              "10                  Twizzlers        0\n",
              "11                   Warheads        0\n",
              "12        Welchs Fruit Snacks        0\n",
              "13  Werthers Original Caramel        1\n",
              "14                   Whoppers        1"
            ],
            "text/html": [
              "\n",
              "  <div id=\"df-cf8eedd5-bddd-4bed-97cb-ac4875a96b6b\">\n",
              "    <div class=\"colab-df-container\">\n",
              "      <div>\n",
              "<style scoped>\n",
              "    .dataframe tbody tr th:only-of-type {\n",
              "        vertical-align: middle;\n",
              "    }\n",
              "\n",
              "    .dataframe tbody tr th {\n",
              "        vertical-align: top;\n",
              "    }\n",
              "\n",
              "    .dataframe thead th {\n",
              "        text-align: right;\n",
              "    }\n",
              "</style>\n",
              "<table border=\"1\" class=\"dataframe\">\n",
              "  <thead>\n",
              "    <tr style=\"text-align: right;\">\n",
              "      <th></th>\n",
              "      <th>competitorname</th>\n",
              "      <th>predict</th>\n",
              "    </tr>\n",
              "  </thead>\n",
              "  <tbody>\n",
              "    <tr>\n",
              "      <th>0</th>\n",
              "      <td>Sugar Babies</td>\n",
              "      <td>0</td>\n",
              "    </tr>\n",
              "    <tr>\n",
              "      <th>1</th>\n",
              "      <td>Sugar Daddy</td>\n",
              "      <td>0</td>\n",
              "    </tr>\n",
              "    <tr>\n",
              "      <th>2</th>\n",
              "      <td>Super Bubble</td>\n",
              "      <td>0</td>\n",
              "    </tr>\n",
              "    <tr>\n",
              "      <th>3</th>\n",
              "      <td>Swedish Fish</td>\n",
              "      <td>0</td>\n",
              "    </tr>\n",
              "    <tr>\n",
              "      <th>4</th>\n",
              "      <td>Tootsie Pop</td>\n",
              "      <td>1</td>\n",
              "    </tr>\n",
              "    <tr>\n",
              "      <th>5</th>\n",
              "      <td>Tootsie Roll Juniors</td>\n",
              "      <td>1</td>\n",
              "    </tr>\n",
              "    <tr>\n",
              "      <th>6</th>\n",
              "      <td>Tootsie Roll Midgies</td>\n",
              "      <td>1</td>\n",
              "    </tr>\n",
              "    <tr>\n",
              "      <th>7</th>\n",
              "      <td>Tootsie Roll Snack Bars</td>\n",
              "      <td>1</td>\n",
              "    </tr>\n",
              "    <tr>\n",
              "      <th>8</th>\n",
              "      <td>Trolli Sour Bites</td>\n",
              "      <td>0</td>\n",
              "    </tr>\n",
              "    <tr>\n",
              "      <th>9</th>\n",
              "      <td>Twix</td>\n",
              "      <td>0</td>\n",
              "    </tr>\n",
              "    <tr>\n",
              "      <th>10</th>\n",
              "      <td>Twizzlers</td>\n",
              "      <td>0</td>\n",
              "    </tr>\n",
              "    <tr>\n",
              "      <th>11</th>\n",
              "      <td>Warheads</td>\n",
              "      <td>0</td>\n",
              "    </tr>\n",
              "    <tr>\n",
              "      <th>12</th>\n",
              "      <td>Welchs Fruit Snacks</td>\n",
              "      <td>0</td>\n",
              "    </tr>\n",
              "    <tr>\n",
              "      <th>13</th>\n",
              "      <td>Werthers Original Caramel</td>\n",
              "      <td>1</td>\n",
              "    </tr>\n",
              "    <tr>\n",
              "      <th>14</th>\n",
              "      <td>Whoppers</td>\n",
              "      <td>1</td>\n",
              "    </tr>\n",
              "  </tbody>\n",
              "</table>\n",
              "</div>\n",
              "      <button class=\"colab-df-convert\" onclick=\"convertToInteractive('df-cf8eedd5-bddd-4bed-97cb-ac4875a96b6b')\"\n",
              "              title=\"Convert this dataframe to an interactive table.\"\n",
              "              style=\"display:none;\">\n",
              "        \n",
              "  <svg xmlns=\"http://www.w3.org/2000/svg\" height=\"24px\"viewBox=\"0 0 24 24\"\n",
              "       width=\"24px\">\n",
              "    <path d=\"M0 0h24v24H0V0z\" fill=\"none\"/>\n",
              "    <path d=\"M18.56 5.44l.94 2.06.94-2.06 2.06-.94-2.06-.94-.94-2.06-.94 2.06-2.06.94zm-11 1L8.5 8.5l.94-2.06 2.06-.94-2.06-.94L8.5 2.5l-.94 2.06-2.06.94zm10 10l.94 2.06.94-2.06 2.06-.94-2.06-.94-.94-2.06-.94 2.06-2.06.94z\"/><path d=\"M17.41 7.96l-1.37-1.37c-.4-.4-.92-.59-1.43-.59-.52 0-1.04.2-1.43.59L10.3 9.45l-7.72 7.72c-.78.78-.78 2.05 0 2.83L4 21.41c.39.39.9.59 1.41.59.51 0 1.02-.2 1.41-.59l7.78-7.78 2.81-2.81c.8-.78.8-2.07 0-2.86zM5.41 20L4 18.59l7.72-7.72 1.47 1.35L5.41 20z\"/>\n",
              "  </svg>\n",
              "      </button>\n",
              "      \n",
              "  <style>\n",
              "    .colab-df-container {\n",
              "      display:flex;\n",
              "      flex-wrap:wrap;\n",
              "      gap: 12px;\n",
              "    }\n",
              "\n",
              "    .colab-df-convert {\n",
              "      background-color: #E8F0FE;\n",
              "      border: none;\n",
              "      border-radius: 50%;\n",
              "      cursor: pointer;\n",
              "      display: none;\n",
              "      fill: #1967D2;\n",
              "      height: 32px;\n",
              "      padding: 0 0 0 0;\n",
              "      width: 32px;\n",
              "    }\n",
              "\n",
              "    .colab-df-convert:hover {\n",
              "      background-color: #E2EBFA;\n",
              "      box-shadow: 0px 1px 2px rgba(60, 64, 67, 0.3), 0px 1px 3px 1px rgba(60, 64, 67, 0.15);\n",
              "      fill: #174EA6;\n",
              "    }\n",
              "\n",
              "    [theme=dark] .colab-df-convert {\n",
              "      background-color: #3B4455;\n",
              "      fill: #D2E3FC;\n",
              "    }\n",
              "\n",
              "    [theme=dark] .colab-df-convert:hover {\n",
              "      background-color: #434B5C;\n",
              "      box-shadow: 0px 1px 3px 1px rgba(0, 0, 0, 0.15);\n",
              "      filter: drop-shadow(0px 1px 2px rgba(0, 0, 0, 0.3));\n",
              "      fill: #FFFFFF;\n",
              "    }\n",
              "  </style>\n",
              "\n",
              "      <script>\n",
              "        const buttonEl =\n",
              "          document.querySelector('#df-cf8eedd5-bddd-4bed-97cb-ac4875a96b6b button.colab-df-convert');\n",
              "        buttonEl.style.display =\n",
              "          google.colab.kernel.accessAllowed ? 'block' : 'none';\n",
              "\n",
              "        async function convertToInteractive(key) {\n",
              "          const element = document.querySelector('#df-cf8eedd5-bddd-4bed-97cb-ac4875a96b6b');\n",
              "          const dataTable =\n",
              "            await google.colab.kernel.invokeFunction('convertToInteractive',\n",
              "                                                     [key], {});\n",
              "          if (!dataTable) return;\n",
              "\n",
              "          const docLinkHtml = 'Like what you see? Visit the ' +\n",
              "            '<a target=\"_blank\" href=https://colab.research.google.com/notebooks/data_table.ipynb>data table notebook</a>'\n",
              "            + ' to learn more about interactive tables.';\n",
              "          element.innerHTML = '';\n",
              "          dataTable['output_type'] = 'display_data';\n",
              "          await google.colab.output.renderOutput(dataTable, element);\n",
              "          const docLink = document.createElement('div');\n",
              "          docLink.innerHTML = docLinkHtml;\n",
              "          element.appendChild(docLink);\n",
              "        }\n",
              "      </script>\n",
              "    </div>\n",
              "  </div>\n",
              "  "
            ]
          },
          "metadata": {},
          "execution_count": 68
        }
      ]
    },
    {
      "cell_type": "code",
      "source": [
        "reg.predict_proba(X_test.loc[df_test['competitorname'] == 'Warheads'])"
      ],
      "metadata": {
        "colab": {
          "base_uri": "https://localhost:8080/"
        },
        "id": "PcWM62Ka-rFK",
        "outputId": "18932430-5dd9-4a3f-a748-7cc9e4edcea9"
      },
      "execution_count": null,
      "outputs": [
        {
          "output_type": "execute_result",
          "data": {
            "text/plain": [
              "array([[0.86202258, 0.13797742]])"
            ]
          },
          "metadata": {},
          "execution_count": 67
        }
      ]
    },
    {
      "cell_type": "markdown",
      "source": [
        "**Recall** - из скольких + предсказано правильно: TP / (TP+FN)\n",
        "\n",
        "**Precision** - сколько + предсказано правильно: TP / (TP+FP)"
      ],
      "metadata": {
        "id": "Ho2_MGASP-Sq"
      }
    },
    {
      "cell_type": "code",
      "source": [
        "from sklearn import metrics\n",
        "\n",
        "y_predicts = df_test['predict']\n",
        "y_true = df_test['Y']\n",
        "y_score = reg.predict_proba(X_test)\n",
        "\n",
        "print('Matrix confusion:\\n', metrics.confusion_matrix(y_true, y_predicts))\n",
        "print(metrics.classification_report(y_true, y_predicts, digits=3))\n",
        "\n",
        "fpr, tpr, thresholds = metrics.roc_curve(y_true, y_score[:, 1])\n",
        "print(f'{fpr=}\\n{tpr=}\\n{thresholds=}')\n",
        "print('AUC =', metrics.auc(fpr, tpr))"
      ],
      "metadata": {
        "colab": {
          "base_uri": "https://localhost:8080/"
        },
        "id": "F1VIN5XgCuCg",
        "outputId": "78df8e2b-22d5-4760-de2d-9f0e17017755"
      },
      "execution_count": null,
      "outputs": [
        {
          "output_type": "stream",
          "name": "stdout",
          "text": [
            "Matrix confusion:\n",
            " [[7 3]\n",
            " [2 3]]\n",
            "              precision    recall  f1-score   support\n",
            "\n",
            "           0      0.778     0.700     0.737        10\n",
            "           1      0.500     0.600     0.545         5\n",
            "\n",
            "    accuracy                          0.667        15\n",
            "   macro avg      0.639     0.650     0.641        15\n",
            "weighted avg      0.685     0.667     0.673        15\n",
            "\n",
            "fpr=array([0. , 0. , 0. , 0.3, 0.3, 1. ])\n",
            "tpr=array([0. , 0.2, 0.6, 0.6, 1. , 1. ])\n",
            "thresholds=array([1.74956115, 0.74956115, 0.73484237, 0.50541168, 0.435741  ,\n",
            "       0.13797742])\n",
            "AUC = 0.8799999999999999\n"
          ]
        }
      ]
    }
  ]
}
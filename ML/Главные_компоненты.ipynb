{
  "nbformat": 4,
  "nbformat_minor": 0,
  "metadata": {
    "colab": {
      "provenance": [],
      "authorship_tag": "ABX9TyPuA7/EFgzicGzV/jpj4Ng1",
      "include_colab_link": true
    },
    "kernelspec": {
      "name": "python3",
      "display_name": "Python 3"
    },
    "language_info": {
      "name": "python"
    }
  },
  "cells": [
    {
      "cell_type": "markdown",
      "metadata": {
        "id": "view-in-github",
        "colab_type": "text"
      },
      "source": [
        "<a href=\"https://colab.research.google.com/github/4graf/Data_Processing/blob/main/ML/%D0%93%D0%BB%D0%B0%D0%B2%D0%BD%D1%8B%D0%B5_%D0%BA%D0%BE%D0%BC%D0%BF%D0%BE%D0%BD%D0%B5%D0%BD%D1%82%D1%8B.ipynb\" target=\"_parent\"><img src=\"https://colab.research.google.com/assets/colab-badge.svg\" alt=\"Open In Colab\"/></a>"
      ]
    },
    {
      "cell_type": "code",
      "source": [
        "import pandas as pd\n",
        "import numpy as np\n",
        "import matplotlib.pyplot as plt\n",
        "from sklearn.decomposition import PCA\n",
        "from sklearn.preprocessing import StandardScaler"
      ],
      "metadata": {
        "id": "h2K9F9WA_0Q2"
      },
      "execution_count": null,
      "outputs": []
    },
    {
      "cell_type": "code",
      "execution_count": null,
      "metadata": {
        "colab": {
          "base_uri": "https://localhost:8080/"
        },
        "id": "LAikJit18WMC",
        "outputId": "2f774366-e9ed-44a8-af12-3f2e868367e8"
      },
      "outputs": [
        {
          "output_type": "stream",
          "name": "stdout",
          "text": [
            "        X1  X2    Z1\n",
            "Object              \n",
            "1        1   3  3.17\n",
            "2        1  -2 -1.58\n",
            "3       -2  -1 -1.59\n"
          ]
        }
      ],
      "source": [
        "fi = pd.Series(data=(0.32, 0.95))\n",
        "f = pd.DataFrame(\n",
        "    {\n",
        "        'X1' : [1, 1, -2],\n",
        "        'X2' : [3, -2, -1]\n",
        "    }\n",
        ")\n",
        "f.index = np.arange(1, 3+1)\n",
        "f.index.name = 'Object'\n",
        "\n",
        "z1_data = {}\n",
        "# for i, row in zip(range(1, len(f.index)+1), f.itertuples(index=False)):\n",
        "for i, row in enumerate(f.itertuples(index=False)):\n",
        "    scalar_mult = sum(map(lambda x, y : x*y, row, fi))\n",
        "    z1_data[i+1] = round(scalar_mult, 2)\n",
        "    # print(round(scalar_mult, 2))\n",
        "\n",
        "f['Z1'] = pd.Series(data=z1_data, name='Z1')\n",
        "\n",
        "print(f)"
      ]
    },
    {
      "cell_type": "code",
      "source": [
        "a = np.array([2, 3])\n",
        "b = np.array([-3, 2])\n",
        "print(np.dot(a, b))\n",
        "\n",
        "ones_matrix = np.eye(a.size)\n",
        "print(ones_matrix)\n",
        "\n",
        "norm = np.linalg.norm(a)\n",
        "print(list(map(lambda x: round(x, 2), a/norm)))\n",
        "print(*(map(lambda x: round(x, 2), b/norm)))\n"
      ],
      "metadata": {
        "colab": {
          "base_uri": "https://localhost:8080/"
        },
        "id": "cbWdOI3xlmXu",
        "outputId": "37d6b77e-e818-4599-9dd4-054c61570c4b"
      },
      "execution_count": null,
      "outputs": [
        {
          "output_type": "stream",
          "name": "stdout",
          "text": [
            "0\n",
            "[[1. 0.]\n",
            " [0. 1.]]\n",
            "[0.55, 0.83]\n",
            "-0.83 0.55\n"
          ]
        }
      ]
    },
    {
      "cell_type": "code",
      "source": [
        "print(2/15)"
      ],
      "metadata": {
        "colab": {
          "base_uri": "https://localhost:8080/"
        },
        "id": "kl3wsDcy22dm",
        "outputId": "d0631b30-2014-4122-fe1a-2fb457fcd928"
      },
      "execution_count": null,
      "outputs": [
        {
          "output_type": "stream",
          "name": "stdout",
          "text": [
            "0.13333333333333333\n"
          ]
        }
      ]
    },
    {
      "cell_type": "markdown",
      "source": [
        "**Нормализация!**"
      ],
      "metadata": {
        "id": "VMecgqkOSTVI"
      }
    },
    {
      "cell_type": "markdown",
      "source": [
        "![image.png](data:image/png;base64,iVBORw0KGgoAAAANSUhEUgAAARUAAABdCAYAAACLkvJXAAAAAXNSR0IArs4c6QAAAARnQU1BAACxjwv8YQUAAAAJcEhZcwAADsMAAA7DAcdvqGQAABOcSURBVHhe7Z0JtFXTH8c3YuVp0sKyHqVUpMzyGlU0kmiW1Gs1IdKkDA1CeSUSWUiKKJSGtdJMgwqleU6FqNWgiVeGVsX+78+vu+//9tz3enJ49973+6x11jl7333OO3u/s7/nt397OGdYh1EURQmIM0N7RVGUQFBRURQlUFRUFEUJFBUVRVECRUVFUZRAUVFRFCVQVFQURQkUFRVFUQJFRUVRlEBRUVEUJVBUVBRFCRQVFUVRAkVFRVGUQFFRURQlUFRUFEUJFBUVRVECRUVFUZRAUVFRFCVQVFQURQkUFRVFUQJFRUVRlEBRUVEUJVBUVBRFCRQVFUVRAkVFJZfw559/mu3bt5s5c+bInjDbV199ZZYtW2aOHz8eSpm4kN9Dhw6ZxYsXm6+//jqc5/3795tx48aZPXv2mD/++EPilNNHv1CYC6Ci1KtXz8yePds0bdpUKlHlypWlUr3yyiumdOnSZv369ea3334zefLkCZ2VWFAGY8eONe3btzf33nuvCEiBAgVMq1atTIMGDUytWrXMN998Y7Zt22a0SvxDEBUlcXGVybZr185WrFhRjqFbt27UGlumTBm7ZcsW6yqWhJ966in5PTu4t751oiT7zPBp/N/NScgneWQfGWZzwmo/+OADOa5atWpM3G88o82fBOe7776TN/TkyZPNmWee+Hfny5dP9l27djWXX365WbRokUlOTjblypWT+Oxw6623ilXDnmZFNJo1a2YuvPBCc9ZZZ2Wa5r8AK6VHjx6mS5cuplSpUhKXnp4ueye4plOnTmbevHkSrlatmuyDgGs+88wzoVDuQZs/Cc748ePNkiVLzNChQyVM5b7++uvNunXrzIYNG4yzVkR48ufPby644AJzxhlnSLpTwWODoBQrVsy88847Uc+jMqempoof4+OPPz7ltefOnWsWLFgQCmUf8tC8efNQ6K9wrwgq9+OFdcyYMXJvI0eOFGEhDWVy9dVXh9P8U55++mkRld27d5uLL744FJv4qKWS4Nxzzz1hQQF8CVQe/ChsgLWCRZFdQQF8DwgAApXZecTjCK5evXq2rk2l/zfgb3thAY6XLl0qx/iWgDTXXnttYIIC/fr1M99++22uEhTBFbCSi5g2bZr4Dtq3b5+lP8RDmmjp3JterrN+/fpQzP/BJ8E53m/hKnDol9jg6NGj1gmqLVGihPh8MoN8ROLz5eE4M78ScdHOz05cvKOWSoLjHlgx8adOnSpNH3p5oEqVKmHrAauDY373uGdDmiz169eXt3fx4sWlyeDB2ilSpIi56qqrQjEn/lavXr3Eh4IV9Mknn5hLL73U3HTTTaEUOQN5oSudbmPyiPVElzJlEGmZPPnkk6Znz55yTF7IB+XihNh8+OGHEiY9TZrDhw+btLQ0U758eWl6vf/++3IerFixQsqGzZcp+9tuu81ceeWVch9cr2jRosYJm/h7uMeEAWVREhPegPTo8G+uVq2avFXr1q0r4a1bt4ZSWdumTRs7ePBge+zYMQm7CmDfeOMNW6xYMTtq1CgJL1y40BYqVMi6CiPX5Xpt27YNv2XZu8phL7nkErtr1y75W/ydZs2a5fib2Imb3Asb99KnTx857tu3byiFtU5obEpKilgxQHk4QbWuCWNLlixpnWhIOezYsUPOrVSpUjhfnTt3tg0bNpTwgQMHrGsSSv5dkzLco+ZEzaampkq4QoUK8rcjr7dy5UpJlwioqCQwPOQNGjSwpUqVskuWLLHu7WjLlSsnDzEVjd/feustCfvKBMuXLxcBGTJkSCjG2vT0dElHes7LkyePdMN6Jk6caJOSkqyzACRMGgSmf//+Es5Jhg8fLvf+8ssv2ylTplhnXUn4wQcflN8Rypo1a9rPPvtMKjo0bdpUhOHOO+8UYSE/QD45d+7cuRIGzvXNSeK7d+9uZ86cKenYA9ebNWuWiHH16tXD11u0aJGkQ3QSBRWVBGfs2LHy0PIgs8fPwVvyoosukrBrmpwkKMC4jQIFCtidO3eGYqxdvHixpJ80aZL94osv5Hj//v3yG5WpcuXK8ob2lXLVqlWSxjWhJJyTUIFr164tFTpv3rwihlgeN954o9yja6KJZYaIREL+ST99+vRQjBVLAwvEi8Lvv/8u10CwIhk0aJAIkk8HHCO0jz32WCjG2scff1zO3759eygm/lFRSXCo5FQWHmj/gLOnqcOWsSLxW6NGjaQSeoEAhCY5OVnM++eff16aRpzL25d0+fPnt82bNw+ltnbgwIFSWbje/PnzQ7E5B/eKeJJnny+OieO3yLx6vCAfPHhQwuQFy69jx47h9FOnTpU0M2bMsPPmzZM40iFgI0aMkDifFhEm7eTJkyVMPJbj7bffLvewbt06iY931FGb4OBo9A5G75Rkz8A1Nn7LiKsQ0s3sHbmMM3FvdzN48GDjmkXGWSoyUG7lypUysM49R+JwxAkJrrIYJzZyHbqwJ0yYIGlyEvJ59tlnS559vjgmzjtkM/L555+Ls7VgwYISdlaJ+fTTT2UsC+nJE/OmKItbbrnFPPzwwxLHoDe62ytUqCDOWcargGteyZ5ygR9//NFs2rTJNGnSxLimmHn33XclPt5RUVFOAsGpWrWqDGhjRGyHDh2kd+OJJ56QOTNUJga8JSUlmZSUFNOwYUOJa9GihYz9GD58uFRS17wy5513nnHNAuPexFErbSyDOGzcuNFcd9114Xun1+jXX38VAQXimS/EvCoGD9LLRtwvv/wivzPuxTWXZLwK10NoXZPInH/++fI7ZcT1EG3OdRagxMc9LrOK8hf27dtn09LS7IABA8S3ENk8wLynaeDNeOB3nMHMM/LNKvfmFmdv5LnxhLMwTvJ10IwbNmxYKHQCyuLVV1+V3hufT+LefPNNcQpz7Ml4PaCcx40bd1K6eCdmh+ljQnNrGc1z4r0ZryhK7BFzouIUWwZZ0Z7FjGRKeuvWrWWeCm1z2qE1atTIcq6Hoig5R0y98rFC+vTpYwYNGiSjDRmJyfoXjGBkDgsOLmaZ0t535nXorNiEvCCQp7PFet4UJStiylLBGsGzfvToUfHKU8HwrK9evVocWZUqVZIZqYULFzZ79+6N2nMRK+Cce/bZZ0Ohvw9512aeEo/EjKjwZqdbDc+494IfO3bMnHPOOSImCxcuFB8LzSG67+imi/VKhzBkRqRvKFrPiAqKEq/ElKWS0QnLeAgmfTHhijESVD5uN1olzK0grv379w+FlNwAkzmx2GOVmO39ASoL/fyTJk0yjRo1CsUqkdAsVHIX3g0Qq8ScqHhLBKuFpg6jE5mmHjlaE7xFQxPjo48+MnfccYcsZLxv3z6zdu1aWRiIEZMZOXjwoCz2jCP4rrvuksWJYOfOnWbz5s2ympm3hLgXNv4WI0NZGJqRptlhzZo1IoanSzw07xQlGjHz1FJ5R40aJUOd+YTEli1bwuuGlixZUvZAM4gRmsA5CAdCwQpe+GJYOhGhoeeITzF4EKMRI0aIUPE7a4UwopF40rHuB13Z+HWAa3fu3FlGS3JMt3adOnXkODv80yaaCooSt7hKEhMw0pDbYWPqPbM+OWYmqRMBSfPll19K3E8//SRhZowyE5SZs8SzBoYTCRnNec0114TXsgB/vcip+YRJ6ywWGQVKeiaCcQ1+ZwIdoyVh9erVtnDhwpJeUZTMiZnXIb0+V1xxhXn00Udl4hVWB2NWaHYMGzZMVhRjngkT25hnAWXLljUtW7YUq4N1QHHoYiH88MMP4sxiDgswv2LIkCGmd+/e5rXXXpNJYnRHDxw4UCwCrBSguUKTiGvMnz/f7Nq1K7yymRMpsZjUglCUUxASl5hg6NChYimw4A0L52A9jBw50jZu3Fimm7MOhrdaPISZhh+5RoW3Svw8i40bN0qYBXRYyWzZsmVicWCReFj5izROkCSM1RK5bgbpe/bsKceKomROTIkKZBQNIC5aPDAhCzFg4SBAKFq3bi3ihBCw4tamTZvCopIZLNLjLKXw3+E8FjbywsNCPqyWpihK1sScLR+teUFcZs2OrVu3yp6mE7g8yZoXDOtn0WZ6jRjaX7du3fCiz04ozNtvvy2jdv0aF5A3b15p+nANepGAMOn5Jk7NmjUlTlGULBBpiWOYWh9pUWBp+KUT2bzlwfRyH8fmBEWaWJ6ff/45vLzgDTfcYGfPni3NKp9+27ZtoZSKomRFTA9+yw7+9iO7cLEsiCcu0sJxAiN7nzaj9cN54M/1VkrG6yiKkjlxLyrKX4kmqoRVIDPHv3AoG8oI/EuGsI9TTo0+XQnG8ePHpSuepR5vvvlmmebArG8GFTJQkMF8fLNYOQHCwYe92rRpI+XDEpqMhmZjuMJll11mHnroobDoKKdGLZUEggefisFaslQEFmquXbu2iMzkyZPNqlWrZH2aHTt2iLDkdouFR5+Fv5g/hZiwSDULgLG2LmXZtWtXc+6558poajoEIkd2K1mAqCjxj3vjyqcz7r777rBzmnE+/IsLFiwo3+FhxDFhvrinI4NPlI8TEPkWkocPjFFGfMWQ3xlFTTjaN6OV6GjzJ0HAjJ8+fbqMRPYWyMyZM2XPrFZWdk9OTpaJln7F+3iBJh2Ww9/dTgUrCnbr1k2GHABlyCczwImzlBHNor59+570zeh/CpNWGbmdsITERUkAXEUKHZ2ALxHyL3aVJxQTf3hr63Q2hhFkBeWFhefZs2ePfBSNLy1mLMug4Lp+QGaiopZKAhHpI+Gty8e+gBnc8Qo+IicsYq383Y0BkFkR2dMDDIQ8fPiwDJr8t3p7+Jss1VG6dOlQTOKhopJAICTe7HcvDHHMMmo4UlQQGiZbevjCIEtC4Lzl3NGjR5uOHTuKI5drsD7wCy+8IPFcPyPE0eyiqUVF5uNakXBNHJ58fY+0LFrOejbRrpUZCAtNkb+7nQrugXv298IkUqDHJ7Jb2ccD4e7du5spU6ZI+cyePdu89NJLMkLb/05vEs5fP4Lbg7PXWSnhvweUDz10CA3xfPGQ8uG66enpoVTxhYpKgsDD2bZtW1OxYkXxC/AAM8saQWGdXw+9PytWrJDj3bt3m1atWpkjR47IGjX0ciAmfLWAKQlUlIkTJ0oFQzhYXyayQrBuMGlZ+4Y1cPAV4J+gsgFf+EMQ+GwoM8BZCJwZ5yx2hXD5dDkBfxufCqKLj4l8+SkbiIoHEYzMN2LF1I8GDRqYRx55RNbvoVcIYSF/zITnMzIszt64cWOxfGD8+PEylYTywr/lr1e+fHm5B6wqfF9Tp041xYsXl9n6AwYMOKm84wZXuEoCsGbNmrAvgd4MP1Mbv4p7MCWNe4PaevXqhXt+nAVh33vvPZmRTdq1a9dKPL8TrlOnTvjcBx54QHpCnHhJ2Fk2st5Mjx49JEw6pkc4YZNjtho1athp06bJ7/369bNFixYVH4mrSCfdV07A3+b+yScfUncCacuWLSthPtoO5JWpGsxqB87x5cSej9D7PFCGnO8/su7XB5ozZ46EWbOH/wmbE/6wP4c0HLOPLBPKm0mxvrzjCRWVBOHQoUMyy5qHk8+NlihRwr7++usS5kFOTU2VY19hgM948tDSDc3Mbv9A+0rDwlRAPBWhZcuWcszmhWjz5s2ShuuwVAQV1DNr1izZ8xuLaTmrSM4l7P9WTsE9ILAtWrSQvOCgZS5Y3rx5JUw+EAkqOmk9fMr0ueeek7zj2AXyggA0b95cwkA60viuaGfpiVjXrVv3pGU65s2bJwuHkdY7b7ke5d2oUaMcL6fTQUUlgdiwYYNUBsZYYLlQGSZMmGA7dOgg69JgJWSEB71QoULWteNDMVauwRvaV6a9e/fafPnyWdfulzDxKSkp4Tcu+AmbXmQi4e/yN1jLJpbgG9GDBg2yXbp0sWPGjJGymDFjhqz2x3ePFy1aFLVS169fP7xCICAu5P3FF1+UMGWCMJUpU+ak871Ye+vNg+iztIZP65pPUt6jR4+WcLyhopLL4e3Mgx65Hg1vbywXLxg0kZjVfeTIEVurVi2pFAUKFJAmjYdKRFcs69vQDEpPTxcRYelPKip/A6Hzae+//345jjcon9KlS4sYeRDuyDL0okvziEGH5Jfz2FepUkVEFiuIOLYmTZpImUeWNwMWDx48KNf18fGCOmpzOTgnmSdUoUIFCbtnwrhmi8wR8l3UOH1x+OJ05cuQLADOkHYckrBgwQJx6PIbvUB8qWD58uWmXbt28j1svwA5X5+k5wmHpnurS1y8Qfl8//33spSphx4vyhAnOVCmS5cuNffdd584wL3jF8d2p06dZIF1BtXhAOd6OHtZ78eXNw5yplpwnSAH3f1noCxK7gVrg403JrDnsaCt78Ey4c3Ksp5OYCSOZg5OWdJipuME5hg/wK5du+Ttiq+GuN69e9u0tDQ5ZuONHa84gZT1dg4cOBCKObFKYKTVRhmSd5qQ5NVbGr169Qrn38dh3XA9LDwPvpUiRYpIWidYodj4QScUKtnCPyaRg8KIcxUoPIiMcMbfPcSTln1kmniELvGkpKRQKDrkFbz1kRXRrhetvOMFFRVFUQJFfSqKogSKioqiKIGioqIoSqCoqCiKEigqKoqiBIqKiqIogaKioihKoKioKIoSKCoqiqIEioqKoiiBoqKiKEqgqKgoihIoKiqKogSKioqiKIGioqIoSqCoqCiKEigqKoqiBIqKiqIogaKioihKoKioKIoSIMb8D5JpVSDUstURAAAAAElFTkSuQmCC)"
      ],
      "metadata": {
        "id": "UTB2pAReSLAI"
      }
    },
    {
      "cell_type": "code",
      "source": [
        "# Нормализация \n",
        "X = f.loc[:, 'X1':'X2']\n",
        "v_mean = X.mean()\n",
        "X = X-v_mean\n",
        "print(X, end='\\n\\n')\n",
        "matrix_cov = np.cov(X, rowvar=False) # Переменные (признаки) в столбцах, а не в строках\n",
        "print(matrix_cov, end='\\n\\n')\n",
        "print(X.var(), end='\\n\\n')\n",
        "\n",
        "eig_values, eig_vectors = np.linalg.eig(matrix_cov)\n",
        "print(f'{eig_values=}\\n{eig_vectors=}', end='\\n\\n')\n",
        "# print(np.sqrt(eig_vectors[1][0]**2 + eig_vectors[1][1]**2))\n",
        "# plt.plot(eig_vectors)\n",
        "X_new = np.dot(X, -eig_vectors[:,1])\n",
        "print(X_new)\n",
        "\n",
        "print('X original =\\n', X.loc[2])\n",
        "print('X restored =\\n', np.dot(X_new[1], -eig_vectors[:,1])+v_mean)\n",
        "\n",
        "\n"
      ],
      "metadata": {
        "id": "v8hNBN8X2RqV",
        "colab": {
          "base_uri": "https://localhost:8080/"
        },
        "outputId": "b8a4fd64-f0de-424a-b99c-1481aa643f84"
      },
      "execution_count": null,
      "outputs": [
        {
          "output_type": "stream",
          "name": "stdout",
          "text": [
            "         X1   X2\n",
            "Object          \n",
            "1       1.0  3.0\n",
            "2       1.0 -2.0\n",
            "3      -2.0 -1.0\n",
            "\n",
            "[[3.  1.5]\n",
            " [1.5 7. ]]\n",
            "\n",
            "X1    3.0\n",
            "X2    7.0\n",
            "dtype: float64\n",
            "\n",
            "eig_values=array([2.5, 7.5])\n",
            "eig_vectors=array([[-0.9486833 , -0.31622777],\n",
            "       [ 0.31622777, -0.9486833 ]])\n",
            "\n",
            "[ 3.16227766 -1.58113883 -1.58113883]\n",
            "X original =\n",
            " X1    1.0\n",
            "X2   -2.0\n",
            "Name: 2, dtype: float64\n",
            "X restored =\n",
            " X1   -0.5\n",
            "X2   -1.5\n",
            "dtype: float64\n"
          ]
        }
      ]
    },
    {
      "cell_type": "code",
      "source": [
        "plt.scatter(f.X1, f.X2)\n",
        "\n",
        "plt.rcParams[\"figure.figsize\"] = (15, 10)\n",
        "plt.show()"
      ],
      "metadata": {
        "id": "-BKf6gKQZude"
      },
      "execution_count": null,
      "outputs": []
    },
    {
      "cell_type": "code",
      "source": [
        "Z1 = np.array([3.17, -1.58, -1.59])\n",
        "fi1 = np.array([0.32, 0.95])\n",
        "\n",
        "print([np.dot(z, fi1.T) for z in Z1])\n"
      ],
      "metadata": {
        "colab": {
          "base_uri": "https://localhost:8080/"
        },
        "id": "ST8cVth51exh",
        "outputId": "b7a9789e-fe3c-4b0d-b09b-3dc95b91ecca"
      },
      "execution_count": null,
      "outputs": [
        {
          "output_type": "stream",
          "name": "stdout",
          "text": [
            "[array([1.0144, 3.0115]), array([-0.5056, -1.501 ]), array([-0.5088, -1.5105])]\n"
          ]
        }
      ]
    },
    {
      "cell_type": "markdown",
      "source": [
        "# SKLEARN"
      ],
      "metadata": {
        "id": "4lteqOPNX17Y"
      }
    },
    {
      "cell_type": "code",
      "source": [
        "! head -5 49_25.csv"
      ],
      "metadata": {
        "colab": {
          "base_uri": "https://localhost:8080/"
        },
        "id": "OdKTmMnuRlWJ",
        "outputId": "567f87cb-1a92-4a14-afc9-0779774f6e0b"
      },
      "execution_count": null,
      "outputs": [
        {
          "output_type": "stream",
          "name": "stdout",
          "text": [
            "8.696454044611822809e+00,8.806511185561955557e+00,2.186314306480774050e+01,4.765461026899723507e+00,-8.010448233461943346e+00,-1.769030323369205071e+00,1.894840253380107598e+01,-1.314173781769121874e+01,-1.013611245515744308e+01,-2.160417884908799735e+01\n",
            "9.435582225690231084e+00,1.042322953009039921e+01,2.126504872893275788e+01,4.957357147232182015e+00,-7.422432033347941882e+00,-2.966881736125469793e+00,2.034245281518345294e+01,-1.301521221788750537e+01,-1.012764213467030494e+01,-2.130842475866629115e+01\n",
            "9.085047279491243799e+00,1.131883804501665836e+01,2.249631511502978753e+01,5.148429397453211820e+00,-5.248281430294944094e+00,-5.460962678200279363e+00,2.065243513546736764e+01,-1.197008237165443667e+01,-7.785082893161602513e+00,-2.020238583220560002e+01\n",
            "-1.289857225442553279e+01,2.149605575017793058e+01,1.665668037192365958e+01,6.630722910329705400e+00,2.611521392094761040e+01,2.297237978473280151e+01,1.643298312895263891e+01,2.119925295147713129e+01,7.331390737763841869e+00,-5.667718902398972247e+00\n",
            "4.103203197891137854e+00,-2.374787756200577249e+00,-2.314852301182676264e+00,-6.169015587862920924e+00,-1.783214319059828412e+01,2.089570198237427689e+01,6.485450599695554708e-01,1.575507092377059415e+01,2.656735533487629475e+00,-2.324928995819869115e+01\n"
          ]
        }
      ]
    },
    {
      "cell_type": "code",
      "source": [
        "df = pd.read_csv('49_25.csv', sep=',', header=None)\n",
        "# display(df)\n",
        "# df.head()\n",
        "# scaler = StandardScaler()\n",
        "# x = scaler.fit_transform(df)\n",
        "\n",
        "print(df.shape)\n",
        "\n",
        "pca = PCA(svd_solver='full')\n",
        "pca.fit(df)\n",
        "print(f'{pca.explained_variance_ratio_=}\\n{pca.explained_variance_=}\\n{pca.singular_values_=}')\n",
        "pca.transform(df)[0]"
      ],
      "metadata": {
        "colab": {
          "base_uri": "https://localhost:8080/"
        },
        "id": "bsGxwR1fRPFC",
        "outputId": "f22c37c4-e54f-4db8-8895-2f6b952dfc2c"
      },
      "execution_count": null,
      "outputs": [
        {
          "output_type": "stream",
          "name": "stdout",
          "text": [
            "(60, 10)\n",
            "pca.explained_variance_ratio_=array([0.39906129, 0.32893912, 0.18788053, 0.07677308, 0.00204686,\n",
            "       0.00156089, 0.00131508, 0.00093292, 0.00087408, 0.00061616])\n",
            "pca.explained_variance_=array([666.13170518, 549.08051794, 313.61893927, 128.15319904,\n",
            "         3.41671342,   2.60550469,   2.19519091,   1.55727131,\n",
            "         1.45904974,   1.0285174 ])\n",
            "pca.singular_values_=array([198.24674173, 179.98819561, 136.02763476,  86.95423361,\n",
            "        14.1981017 ,  12.39857964,  11.38052124,   9.58535378,\n",
            "         9.27814285,   7.78989901])\n"
          ]
        },
        {
          "output_type": "execute_result",
          "data": {
            "text/plain": [
              "array([ -3.57879876, -23.18920982,   2.96786311,  18.45429531,\n",
              "        -1.63660206,   0.197481  ,  -0.35112549,   1.05750746,\n",
              "        -0.81267577,  -0.61733241])"
            ]
          },
          "metadata": {},
          "execution_count": 43
        }
      ]
    },
    {
      "cell_type": "code",
      "source": [
        "pca = PCA(n_components=2, svd_solver='full')\n",
        "pca.fit(df)\n",
        "print(f'{pca.explained_variance_ratio_=}\\n{pca.explained_variance_=}\\n{pca.singular_values_=}')\n",
        "print(sum(pca.explained_variance_ratio_))\n",
        "\n",
        "x_new = pca.transform(df)\n",
        "plt.scatter(x_new[:, 0], x_new[:, 1])\n",
        "\n"
      ],
      "metadata": {
        "colab": {
          "base_uri": "https://localhost:8080/",
          "height": 352
        },
        "id": "4PW17LfIbZnp",
        "outputId": "41fb4ea0-baf1-414e-f9c4-73e52c6ed858"
      },
      "execution_count": null,
      "outputs": [
        {
          "output_type": "stream",
          "name": "stdout",
          "text": [
            "pca.explained_variance_ratio_=array([0.39906129, 0.32893912])\n",
            "pca.explained_variance_=array([666.13170518, 549.08051794])\n",
            "pca.singular_values_=array([198.24674173, 179.98819561])\n",
            "0.7280004144603317\n"
          ]
        },
        {
          "output_type": "execute_result",
          "data": {
            "text/plain": [
              "<matplotlib.collections.PathCollection at 0x7fd881d4cfa0>"
            ]
          },
          "metadata": {},
          "execution_count": 55
        },
        {
          "output_type": "display_data",
          "data": {
            "text/plain": [
              "<Figure size 432x288 with 1 Axes>"
            ],
            "image/png": "[encoded data removed]"
          },
          "metadata": {
            "needs_background": "light"
          }
        }
      ]
    },
    {
      "cell_type": "code",
      "source": [
        "pca = PCA(0.85, svd_solver='full')\n",
        "pca.fit(df)\n",
        "print(pca.n_components_)\n",
        "print(sum(pca.explained_variance_ratio_))\n",
        "pca.transform(df)[0]"
      ],
      "metadata": {
        "colab": {
          "base_uri": "https://localhost:8080/"
        },
        "id": "UvMpXD0gb2uf",
        "outputId": "69281d00-2176-4146-df0d-52f7ebc99709"
      },
      "execution_count": null,
      "outputs": [
        {
          "output_type": "stream",
          "name": "stdout",
          "text": [
            "3\n",
            "0.9158809454741212\n"
          ]
        },
        {
          "output_type": "execute_result",
          "data": {
            "text/plain": [
              "array([ -3.57879876, -23.18920982,   2.96786311])"
            ]
          },
          "metadata": {},
          "execution_count": 48
        }
      ]
    },
    {
      "cell_type": "code",
      "source": [
        "! head -5 X_reduced_792.csv\n",
        "! echo\n",
        "! head -5 X_loadings_792.csv"
      ],
      "metadata": {
        "colab": {
          "base_uri": "https://localhost:8080/"
        },
        "outputId": "afa8acf9-c20d-40fe-9e8a-6a5dfa9fcba2",
        "id": "Y_a7fMbVgY-l"
      },
      "execution_count": null,
      "outputs": [
        {
          "output_type": "stream",
          "name": "stdout",
          "text": [
            "-4.015805527973519133e+02;9.958990131518648070e+01;-9.145517854087043474e+01;-1.210646767898599023e+02;3.670645582088958747e+01;-2.753687775426996165e+00;6.458641141050010859e+00;-2.553152024065674652e+00;-1.231753296834150024e+00;-5.070816929219813113e-02\n",
            "-4.015805527973512312e+02;9.958990131518633859e+01;-9.145517854087044896e+01;-1.210646767898599876e+02;3.670645582088960879e+01;-2.753687775426990392e+00;6.458641141050033063e+00;-2.553152024065646675e+00;-1.231753296834156020e+00;-5.070816929219253838e-02\n",
            "-4.015805527973521407e+02;9.958990131518665123e+01;-9.145517854087063370e+01;-1.210646767898603855e+02;3.670645582088960879e+01;-2.753687775426990836e+00;6.458641141050011747e+00;-2.553152024065663550e+00;-1.231753296834138700e+00;-5.070816929222743408e-02\n",
            "-4.015805527973520839e+02;9.958990131518665123e+01;-9.145517854087052001e+01;-1.210646767898601581e+02;3.670645582088950931e+01;-2.753687775426977069e+00;6.458641141050016188e+00;-2.553152024065659997e+00;-1.231753296834151357e+00;-5.070816929221742819e-02\n",
            "-4.015805527973520839e+02;9.958990131518658018e+01;-9.145517854087039211e+01;-1.210646767898601013e+02;3.670645582088931747e+01;-2.753687775426953976e+00;6.458641141049974443e+00;-2.553152024065717729e+00;-1.231753296834136480e+00;-5.070816929220017116e-02\n",
            "\n",
            "-1.000941609847282421e-17;1.127667240913074544e-17;-2.512861906096386299e-17;-4.057838772460275019e-17;1.638476573991013181e-17;-1.822665532178947330e-18;9.874229341441626283e-18;-4.650378944196870659e-18;-3.193855840363752880e-18;-1.562509705475361351e-19\n",
            "-3.330669073875469621e-16;0.000000000000000000e+00;-1.110223024625156540e-16;-0.000000000000000000e+00;2.775557561562891351e-17;1.353084311261909534e-16;-2.151057110211240797e-16;3.122502256758252770e-17;1.045170894276026274e-16;-5.248893767545448341e-17\n",
            "-0.000000000000000000e+00;0.000000000000000000e+00;5.551115123125782702e-17;-0.000000000000000000e+00;2.775557561562891351e-17;-7.285838599102589797e-17;1.387778780781445676e-17;7.806255641895631925e-17;-0.000000000000000000e+00;1.056012916000881319e-16\n",
            "-0.000000000000000000e+00;2.220446049250313081e-16;8.326672684688674053e-17;2.775557561562891351e-16;-5.551115123125782702e-17;5.551115123125782702e-17;1.457167719820517959e-16;8.673617379884035472e-17;7.285838599102589797e-17;-6.754579534584692624e-17\n",
            "-0.000000000000000000e+00;0.000000000000000000e+00;-1.110223024625156540e-16;1.387778780781445676e-17;-5.551115123125782702e-17;-4.163336342344337027e-17;-1.110223024625156540e-16;-1.387778780781445676e-16;3.469446951953614189e-17;-4.119968255444916849e-17\n"
          ]
        }
      ]
    },
    {
      "cell_type": "code",
      "source": [
        "x_reduce = pd.read_csv('X_reduced_792.csv', sep=';', header=None)\n",
        "x_load = pd.read_csv('X_loadings_792.csv', sep=';', header=None)\n",
        "\n",
        "x_orig = np.dot(x_reduce, x_load.T)\n",
        "plt.imshow(x_orig)"
      ],
      "metadata": {
        "colab": {
          "base_uri": "https://localhost:8080/",
          "height": 285
        },
        "id": "GblBzimlgOBH",
        "outputId": "c447c9e6-5da7-44bb-e95f-68360dc71f5f"
      },
      "execution_count": null,
      "outputs": [
        {
          "output_type": "execute_result",
          "data": {
            "text/plain": [
              "<matplotlib.image.AxesImage at 0x7f42ed8027f0>"
            ]
          },
          "metadata": {},
          "execution_count": 5
        },
        {
          "output_type": "display_data",
          "data": {
            "text/plain": [
              "<Figure size 432x288 with 1 Axes>"
            ],
            "image/png": "[encoded data removed]"
          },
          "metadata": {
            "needs_background": "light"
          }
        }
      ]
    },
    {
      "cell_type": "code",
      "source": [
        "x = np.arange(5, 15)\n",
        "y = x**2\n",
        "xp = x[-5]\n",
        "yp = y[-5]\n",
        "\n",
        "plt.plot(x, y, xp, yp, marker='o')\n",
        "\n",
        "plt.vlines(xp, min(y), yp, linestyles='dashed')\n",
        "plt.hlines(yp, min(x), xp, linestyles='dashed')\n",
        "\n",
        "plt.xlim(min(x), None)\n",
        "plt.ylim(min(y), None)"
      ],
      "metadata": {
        "colab": {
          "base_uri": "https://localhost:8080/",
          "height": 282
        },
        "id": "4ria99Galo5U",
        "outputId": "f089a965-c54b-48fb-fe1a-5347c9310c5a"
      },
      "execution_count": null,
      "outputs": [
        {
          "output_type": "execute_result",
          "data": {
            "text/plain": [
              "(25.0, 204.55)"
            ]
          },
          "metadata": {},
          "execution_count": 11
        },
        {
          "output_type": "display_data",
          "data": {
            "text/plain": [
              "<Figure size 432x288 with 1 Axes>"
            ],
            "image/png": "[encoded data removed]"
          },
          "metadata": {
            "needs_background": "light"
          }
        }
      ]
    }
  ]
}
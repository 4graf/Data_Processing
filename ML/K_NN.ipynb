{
  "nbformat": 4,
  "nbformat_minor": 0,
  "metadata": {
    "colab": {
      "provenance": [],
      "authorship_tag": "ABX9TyOV+kLn4NOOW/kVD4PFxj4/",
      "include_colab_link": true
    },
    "kernelspec": {
      "name": "python3",
      "display_name": "Python 3"
    },
    "language_info": {
      "name": "python"
    }
  },
  "cells": [
    {
      "cell_type": "markdown",
      "metadata": {
        "id": "view-in-github",
        "colab_type": "text"
      },
      "source": [
        "<a href=\"https://colab.research.google.com/github/4graf/Data_Processing/blob/main/ML/K_NN.ipynb\" target=\"_parent\"><img src=\"https://colab.research.google.com/assets/colab-badge.svg\" alt=\"Open In Colab\"/></a>"
      ]
    },
    {
      "cell_type": "code",
      "source": [
        "import numpy as np \n",
        "import pandas as pd\n",
        "import matplotlib.pyplot as plt"
      ],
      "metadata": {
        "id": "T83k-7x1abwB"
      },
      "execution_count": null,
      "outputs": []
    },
    {
      "cell_type": "code",
      "execution_count": null,
      "metadata": {
        "colab": {
          "base_uri": "https://localhost:8080/"
        },
        "id": "5NxdPocBZDuA",
        "outputId": "f1dcc958-da93-4ba2-ae0e-017dd39698df"
      },
      "outputs": [
        {
          "output_type": "stream",
          "name": "stdout",
          "text": [
            "14.0\n",
            "8.717797887081348\n",
            "7\n"
          ]
        }
      ],
      "source": [
        "x = np.array([1, 3, -5, 7])\n",
        "x_prime = np.array([2, -4, 0, 8])\n",
        "\n",
        "def d(x, x_prime, q):\n",
        "    if np.isinf(q):\n",
        "        return max(np.abs(x-x_prime))\n",
        "    else:\n",
        "        return (sum(np.abs(x-x_prime)**q))**(1/q)\n",
        "\n",
        "# 1 - манхэттенское, 2 - евклидово, inf - Чебышёва\n",
        "print(f'{d(x, x_prime, 1)}\\n{d(x, x_prime, 2)}\\n{d(x, x_prime, np.inf)}')"
      ]
    },
    {
      "cell_type": "code",
      "source": [
        "# ! touch 1.txt"
      ],
      "metadata": {
        "id": "AaSQHZ15o_sg"
      },
      "execution_count": null,
      "outputs": []
    },
    {
      "cell_type": "code",
      "source": [
        "# ! mv 1.txt 1.csv"
      ],
      "metadata": {
        "id": "IypSer1_pMGM"
      },
      "execution_count": null,
      "outputs": []
    },
    {
      "cell_type": "code",
      "source": [
        "df = pd.read_csv('1.csv', delimiter='\\t', index_col='id')\n",
        "X = df['X']\n",
        "Y = df['Y']\n",
        "\n",
        "XY = df[['X', 'Y']]\n",
        "XY_1 = XY.loc[df['Class'] == 1]\n",
        "XY_0 = XY.loc[df['Class'] == 0]\n",
        "\n",
        "new_obj = np.array([33, 47])\n",
        "\n",
        "# plt.rcParams['figure.figsize'] = (6, 4)\n",
        "plt.scatter(XY_0['X'], XY_0['Y'], c='b')\n",
        "plt.scatter(XY_1['X'], XY_1['Y'], c='r')\n",
        "plt.scatter(new_obj[0], new_obj[1], c='g', marker='^')\n",
        "\n",
        "distances = [d(pred, new_obj, 2) for pred in XY.values]\n",
        "df_dist = df.copy()\n",
        "df_dist['distance_new'] = distances\n",
        "df_dist.sort_values(by='distance_new', inplace=True)\n",
        "df_dist['weight'] = 1/df_dist['distance_new']**2\n",
        "\n",
        "for cl in df_dist['Class'].unique():\n",
        "    print(f'sum weights of class {cl} = {df_dist[\"weight\"].loc[df_dist[\"Class\"] == cl].sum()}')"
      ],
      "metadata": {
        "colab": {
          "base_uri": "https://localhost:8080/",
          "height": 300
        },
        "id": "rAEz-3QvpUba",
        "outputId": "45ed933e-0a4e-4406-960f-fd7a4455fa28"
      },
      "execution_count": null,
      "outputs": [
        {
          "output_type": "stream",
          "name": "stdout",
          "text": [
            "sum weights of class 0 = 0.007891374250530072\n",
            "sum weights of class 1 = 0.00944156274141927\n"
          ]
        },
        {
          "output_type": "display_data",
          "data": {
            "text/plain": [
              "<Figure size 432x288 with 1 Axes>"
            ],
            "image/png": "[encoded data removed]"
          },
          "metadata": {
            "needs_background": "light"
          }
        }
      ]
    },
    {
      "cell_type": "code",
      "source": [
        "((6/30)*(30/70)) / (11/70)"
      ],
      "metadata": {
        "colab": {
          "base_uri": "https://localhost:8080/"
        },
        "id": "KBvtzVgR7Tq2",
        "outputId": "f89e628c-5f8b-4369-dfa0-ffaccc1aefea"
      },
      "execution_count": null,
      "outputs": [
        {
          "output_type": "execute_result",
          "data": {
            "text/plain": [
              "0.5454545454545455"
            ]
          },
          "metadata": {},
          "execution_count": 38
        }
      ]
    },
    {
      "cell_type": "code",
      "source": [
        "p_spam = 11/37\n",
        "print(f'{p_spam=}')\n",
        "\n",
        "p_not_spam = 26/37\n",
        "print(f'{p_not_spam=}')"
      ],
      "metadata": {
        "colab": {
          "base_uri": "https://localhost:8080/"
        },
        "id": "Egkb0gKwL7px",
        "outputId": "3c04393a-21b5-4ba6-f87d-7b36dedb0b16"
      },
      "execution_count": null,
      "outputs": [
        {
          "output_type": "stream",
          "name": "stdout",
          "text": [
            "p_spam=0.2972972972972973\n",
            "p_not_spam=0.7027027027027027\n"
          ]
        }
      ]
    },
    {
      "cell_type": "code",
      "source": [
        "print(p_spam_win := (1+6)/(8+1+69)) # win\n",
        "print(p_spam_million := (1+10)/(8+1+69)) # million\n",
        "print(p_spam_dollars := (1+0)/(8+1+69)) # dollars"
      ],
      "metadata": {
        "colab": {
          "base_uri": "https://localhost:8080/"
        },
        "id": "0QZS8GhVMpgX",
        "outputId": "de2c80a4-1b15-4c87-ecfe-b5749ac29295"
      },
      "execution_count": null,
      "outputs": [
        {
          "output_type": "stream",
          "name": "stdout",
          "text": [
            "0.08974358974358974\n",
            "0.14102564102564102\n",
            "0.01282051282051282\n"
          ]
        }
      ]
    },
    {
      "cell_type": "code",
      "source": [
        "print(p_not_spam_win := (1+3)/(8+1+48)) # win\n",
        "print(p_not_spam_million := (1+5)/(8+1+48)) # million\n",
        "print(p_not_spam_dollars := (1+0)/(8+1+48)) # dollars"
      ],
      "metadata": {
        "colab": {
          "base_uri": "https://localhost:8080/"
        },
        "id": "aUa07W85Phoh",
        "outputId": "e2d658ef-00aa-4ddf-9539-1e9e2e6f019b"
      },
      "execution_count": null,
      "outputs": [
        {
          "output_type": "stream",
          "name": "stdout",
          "text": [
            "0.07017543859649122\n",
            "0.10526315789473684\n",
            "0.017543859649122806\n"
          ]
        }
      ]
    },
    {
      "cell_type": "code",
      "source": [
        "f_spam = np.log(p_spam) + np.log(p_spam_win) + np.log(p_spam_million) + np.log(p_spam_dollars)\n",
        "f_not_spam = np.log(p_not_spam) + np.log(p_not_spam_win) + np.log(p_not_spam_million) + np.log(p_not_spam_dollars)\n",
        "print('Спам F =', f_spam) \n",
        "print('Не спам F =', f_not_spam)\n",
        "\n",
        "p_prediction_spam = 1/(1+np.exp(-f_spam+f_not_spam))\n",
        "print('Вероятность \\'win million dollars\\' спам =', p_prediction_spam)"
      ],
      "metadata": {
        "colab": {
          "base_uri": "https://localhost:8080/"
        },
        "id": "XSXwBJdyNyLw",
        "outputId": "0f8c311f-7070-4783-bb99-31ae1933a107"
      },
      "execution_count": null,
      "outputs": [
        {
          "output_type": "stream",
          "name": "stdout",
          "text": [
            "Спам F = -9.939343698060945\n",
            "Не спам F = -9.303921347778449\n",
            "Вероятность 'win million dollars' спам = 0.34628205512583726\n"
          ]
        }
      ]
    },
    {
      "cell_type": "code",
      "source": [
        "11/37\n"
      ],
      "metadata": {
        "colab": {
          "base_uri": "https://localhost:8080/"
        },
        "id": "LlL-wZWtOX_G",
        "outputId": "729d8be1-a405-4c2c-8ace-2ad3dd6109b2"
      },
      "execution_count": null,
      "outputs": [
        {
          "output_type": "execute_result",
          "data": {
            "text/plain": [
              "-1.213022639845854"
            ]
          },
          "metadata": {},
          "execution_count": 67
        }
      ]
    },
    {
      "cell_type": "markdown",
      "source": [
        "# SKLEARN"
      ],
      "metadata": {
        "id": "z6RU1d4ydgN8"
      }
    },
    {
      "cell_type": "code",
      "source": [
        "# ! touch task.txt"
      ],
      "metadata": {
        "id": "oQzixvm8dkKJ"
      },
      "execution_count": null,
      "outputs": []
    },
    {
      "cell_type": "code",
      "source": [
        "# ! mv task.txt task.csv"
      ],
      "metadata": {
        "id": "3XCqu6g5doet"
      },
      "execution_count": null,
      "outputs": []
    },
    {
      "cell_type": "code",
      "source": [
        "from sklearn.neighbors import KNeighborsClassifier\n",
        "\n",
        "df = pd.read_csv('task.csv', index_col='id')\n",
        "X = df[['X', 'Y']]\n",
        "X = X.to_numpy().reshape(-1, len(X.columns))\n",
        "y = df['Class']\n",
        "test = np.array([94, 37])\n",
        "test = test.reshape(-1, len(test))\n",
        "df\n"
      ],
      "metadata": {
        "colab": {
          "base_uri": "https://localhost:8080/",
          "height": 394
        },
        "id": "yu3ghxebaA91",
        "outputId": "42927f57-9686-469d-d55a-e134897f0623"
      },
      "execution_count": null,
      "outputs": [
        {
          "output_type": "execute_result",
          "data": {
            "text/plain": [
              "     X   Y  Class\n",
              "id               \n",
              "1   61  48      1\n",
              "2   62  28      1\n",
              "3   83  84      0\n",
              "4   68  24      1\n",
              "5   56  39      1\n",
              "6   32  95      1\n",
              "7   99  14      1\n",
              "8   87  64      0\n",
              "9   44  35      0\n",
              "10  70  51      0"
            ],
            "text/html": [
              "\n",
              "  <div id=\"df-48e19015-9849-43b1-8342-8f8f344e5b26\">\n",
              "    <div class=\"colab-df-container\">\n",
              "      <div>\n",
              "<style scoped>\n",
              "    .dataframe tbody tr th:only-of-type {\n",
              "        vertical-align: middle;\n",
              "    }\n",
              "\n",
              "    .dataframe tbody tr th {\n",
              "        vertical-align: top;\n",
              "    }\n",
              "\n",
              "    .dataframe thead th {\n",
              "        text-align: right;\n",
              "    }\n",
              "</style>\n",
              "<table border=\"1\" class=\"dataframe\">\n",
              "  <thead>\n",
              "    <tr style=\"text-align: right;\">\n",
              "      <th></th>\n",
              "      <th>X</th>\n",
              "      <th>Y</th>\n",
              "      <th>Class</th>\n",
              "    </tr>\n",
              "    <tr>\n",
              "      <th>id</th>\n",
              "      <th></th>\n",
              "      <th></th>\n",
              "      <th></th>\n",
              "    </tr>\n",
              "  </thead>\n",
              "  <tbody>\n",
              "    <tr>\n",
              "      <th>1</th>\n",
              "      <td>61</td>\n",
              "      <td>48</td>\n",
              "      <td>1</td>\n",
              "    </tr>\n",
              "    <tr>\n",
              "      <th>2</th>\n",
              "      <td>62</td>\n",
              "      <td>28</td>\n",
              "      <td>1</td>\n",
              "    </tr>\n",
              "    <tr>\n",
              "      <th>3</th>\n",
              "      <td>83</td>\n",
              "      <td>84</td>\n",
              "      <td>0</td>\n",
              "    </tr>\n",
              "    <tr>\n",
              "      <th>4</th>\n",
              "      <td>68</td>\n",
              "      <td>24</td>\n",
              "      <td>1</td>\n",
              "    </tr>\n",
              "    <tr>\n",
              "      <th>5</th>\n",
              "      <td>56</td>\n",
              "      <td>39</td>\n",
              "      <td>1</td>\n",
              "    </tr>\n",
              "    <tr>\n",
              "      <th>6</th>\n",
              "      <td>32</td>\n",
              "      <td>95</td>\n",
              "      <td>1</td>\n",
              "    </tr>\n",
              "    <tr>\n",
              "      <th>7</th>\n",
              "      <td>99</td>\n",
              "      <td>14</td>\n",
              "      <td>1</td>\n",
              "    </tr>\n",
              "    <tr>\n",
              "      <th>8</th>\n",
              "      <td>87</td>\n",
              "      <td>64</td>\n",
              "      <td>0</td>\n",
              "    </tr>\n",
              "    <tr>\n",
              "      <th>9</th>\n",
              "      <td>44</td>\n",
              "      <td>35</td>\n",
              "      <td>0</td>\n",
              "    </tr>\n",
              "    <tr>\n",
              "      <th>10</th>\n",
              "      <td>70</td>\n",
              "      <td>51</td>\n",
              "      <td>0</td>\n",
              "    </tr>\n",
              "  </tbody>\n",
              "</table>\n",
              "</div>\n",
              "      <button class=\"colab-df-convert\" onclick=\"convertToInteractive('df-48e19015-9849-43b1-8342-8f8f344e5b26')\"\n",
              "              title=\"Convert this dataframe to an interactive table.\"\n",
              "              style=\"display:none;\">\n",
              "        \n",
              "  <svg xmlns=\"http://www.w3.org/2000/svg\" height=\"24px\"viewBox=\"0 0 24 24\"\n",
              "       width=\"24px\">\n",
              "    <path d=\"M0 0h24v24H0V0z\" fill=\"none\"/>\n",
              "    <path d=\"M18.56 5.44l.94 2.06.94-2.06 2.06-.94-2.06-.94-.94-2.06-.94 2.06-2.06.94zm-11 1L8.5 8.5l.94-2.06 2.06-.94-2.06-.94L8.5 2.5l-.94 2.06-2.06.94zm10 10l.94 2.06.94-2.06 2.06-.94-2.06-.94-.94-2.06-.94 2.06-2.06.94z\"/><path d=\"M17.41 7.96l-1.37-1.37c-.4-.4-.92-.59-1.43-.59-.52 0-1.04.2-1.43.59L10.3 9.45l-7.72 7.72c-.78.78-.78 2.05 0 2.83L4 21.41c.39.39.9.59 1.41.59.51 0 1.02-.2 1.41-.59l7.78-7.78 2.81-2.81c.8-.78.8-2.07 0-2.86zM5.41 20L4 18.59l7.72-7.72 1.47 1.35L5.41 20z\"/>\n",
              "  </svg>\n",
              "      </button>\n",
              "      \n",
              "  <style>\n",
              "    .colab-df-container {\n",
              "      display:flex;\n",
              "      flex-wrap:wrap;\n",
              "      gap: 12px;\n",
              "    }\n",
              "\n",
              "    .colab-df-convert {\n",
              "      background-color: #E8F0FE;\n",
              "      border: none;\n",
              "      border-radius: 50%;\n",
              "      cursor: pointer;\n",
              "      display: none;\n",
              "      fill: #1967D2;\n",
              "      height: 32px;\n",
              "      padding: 0 0 0 0;\n",
              "      width: 32px;\n",
              "    }\n",
              "\n",
              "    .colab-df-convert:hover {\n",
              "      background-color: #E2EBFA;\n",
              "      box-shadow: 0px 1px 2px rgba(60, 64, 67, 0.3), 0px 1px 3px 1px rgba(60, 64, 67, 0.15);\n",
              "      fill: #174EA6;\n",
              "    }\n",
              "\n",
              "    [theme=dark] .colab-df-convert {\n",
              "      background-color: #3B4455;\n",
              "      fill: #D2E3FC;\n",
              "    }\n",
              "\n",
              "    [theme=dark] .colab-df-convert:hover {\n",
              "      background-color: #434B5C;\n",
              "      box-shadow: 0px 1px 3px 1px rgba(0, 0, 0, 0.15);\n",
              "      filter: drop-shadow(0px 1px 2px rgba(0, 0, 0, 0.3));\n",
              "      fill: #FFFFFF;\n",
              "    }\n",
              "  </style>\n",
              "\n",
              "      <script>\n",
              "        const buttonEl =\n",
              "          document.querySelector('#df-48e19015-9849-43b1-8342-8f8f344e5b26 button.colab-df-convert');\n",
              "        buttonEl.style.display =\n",
              "          google.colab.kernel.accessAllowed ? 'block' : 'none';\n",
              "\n",
              "        async function convertToInteractive(key) {\n",
              "          const element = document.querySelector('#df-48e19015-9849-43b1-8342-8f8f344e5b26');\n",
              "          const dataTable =\n",
              "            await google.colab.kernel.invokeFunction('convertToInteractive',\n",
              "                                                     [key], {});\n",
              "          if (!dataTable) return;\n",
              "\n",
              "          const docLinkHtml = 'Like what you see? Visit the ' +\n",
              "            '<a target=\"_blank\" href=https://colab.research.google.com/notebooks/data_table.ipynb>data table notebook</a>'\n",
              "            + ' to learn more about interactive tables.';\n",
              "          element.innerHTML = '';\n",
              "          dataTable['output_type'] = 'display_data';\n",
              "          await google.colab.output.renderOutput(dataTable, element);\n",
              "          const docLink = document.createElement('div');\n",
              "          docLink.innerHTML = docLinkHtml;\n",
              "          element.appendChild(docLink);\n",
              "        }\n",
              "      </script>\n",
              "    </div>\n",
              "  </div>\n",
              "  "
            ]
          },
          "metadata": {},
          "execution_count": 99
        }
      ]
    },
    {
      "cell_type": "code",
      "source": [
        "neigh = KNeighborsClassifier(p=2)\n",
        "neigh.fit(X, y)\n",
        "\n",
        "neigh.kneighbors(test, 3)"
      ],
      "metadata": {
        "colab": {
          "base_uri": "https://localhost:8080/"
        },
        "id": "MueOfitZgr_B",
        "outputId": "54fc1aa9-fbcd-4cf4-d486-87e359476311"
      },
      "execution_count": null,
      "outputs": [
        {
          "output_type": "execute_result",
          "data": {
            "text/plain": [
              "(array([[23.53720459, 27.78488798, 27.89265136]]), array([[6, 9, 7]]))"
            ]
          },
          "metadata": {},
          "execution_count": 100
        }
      ]
    },
    {
      "cell_type": "code",
      "source": [
        "neigh = KNeighborsClassifier(n_neighbors=3, p=2)\n",
        "neigh.fit(X, y)\n",
        "\n",
        "neigh.predict(test)"
      ],
      "metadata": {
        "colab": {
          "base_uri": "https://localhost:8080/"
        },
        "id": "bV6ksctzhsZ7",
        "outputId": "576e2a8d-5c7a-4f4d-cb85-f03127e6d961"
      },
      "execution_count": null,
      "outputs": [
        {
          "output_type": "execute_result",
          "data": {
            "text/plain": [
              "array([0])"
            ]
          },
          "metadata": {},
          "execution_count": 101
        }
      ]
    },
    {
      "cell_type": "code",
      "source": [
        "neigh = KNeighborsClassifier(p=1)\n",
        "neigh.fit(X, y)\n",
        "\n",
        "neigh.kneighbors(test, 3)"
      ],
      "metadata": {
        "colab": {
          "base_uri": "https://localhost:8080/"
        },
        "id": "V5rHFXdZiUO9",
        "outputId": "cd777d36-02c3-4c65-eaf8-f3c1648e5d59"
      },
      "execution_count": null,
      "outputs": [
        {
          "output_type": "execute_result",
          "data": {
            "text/plain": [
              "(array([[28., 34., 38.]]), array([[6, 7, 9]]))"
            ]
          },
          "metadata": {},
          "execution_count": 103
        }
      ]
    },
    {
      "cell_type": "code",
      "source": [
        "neigh = KNeighborsClassifier(n_neighbors=3, p=1)\n",
        "neigh.fit(X, y)\n",
        "\n",
        "neigh.predict(test)"
      ],
      "metadata": {
        "colab": {
          "base_uri": "https://localhost:8080/"
        },
        "id": "INau2GKuikX0",
        "outputId": "d6400d3d-e549-4e1a-bca5-b2f0a8e457d7"
      },
      "execution_count": null,
      "outputs": [
        {
          "output_type": "execute_result",
          "data": {
            "text/plain": [
              "array([0])"
            ]
          },
          "metadata": {},
          "execution_count": 104
        }
      ]
    },
    {
      "cell_type": "markdown",
      "source": [
        "# НАИВНЫЙ БАЙЕСОВСКИЙ КЛАССИФИКАТОР"
      ],
      "metadata": {
        "id": "YCAS3xUpkaOZ"
      }
    },
    {
      "cell_type": "markdown",
      "source": [
        "![image.png](data:image/png;base64,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)"
      ],
      "metadata": {
        "id": "Ax_ar9w9lHxo"
      }
    },
    {
      "cell_type": "code",
      "source": [
        "p_spam = 14/35\n",
        "p_not_spam = 1 - p_spam\n",
        "print(f'{p_spam=}\\n{p_not_spam=}')"
      ],
      "metadata": {
        "colab": {
          "base_uri": "https://localhost:8080/"
        },
        "id": "xZfPRIeQlfva",
        "outputId": "ad8d1da8-c4d3-482c-a811-45056f300ede"
      },
      "execution_count": null,
      "outputs": [
        {
          "output_type": "stream",
          "name": "stdout",
          "text": [
            "p_spam=0.4\n",
            "p_not_spam=0.6\n"
          ]
        }
      ]
    },
    {
      "cell_type": "code",
      "source": [
        "def p_x(count_x, count_dict_words, count_missing_words, count_occurring_words):\n",
        "    return (1+count_x)/(count_dict_words+count_missing_words+count_occurring_words)\n",
        "\n",
        "p_x_spam = [p_x(14, 10, 2, 68), p_x(3, 10, 2, 68), p_x(0, 10, 2, 68), \n",
        "          p_x(13, 10, 2, 68), p_x(3, 10, 2, 68), p_x(1, 10, 2, 68), \n",
        "          p_x(0, 10, 2, 68)]\n",
        "\n",
        "p_x_not_spam = [p_x(23, 10, 2, 127), p_x(1, 10, 2, 127), p_x(0, 10, 2, 127),\n",
        "                p_x(11, 10, 2, 127), p_x(14, 10, 2, 127), p_x(26, 10, 2, 127),\n",
        "                p_x(0, 10, 2, 127)]"
      ],
      "metadata": {
        "id": "4_EGwFkyldjJ"
      },
      "execution_count": null,
      "outputs": []
    },
    {
      "cell_type": "markdown",
      "source": [
        "![image.png](data:image/png;base64,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)"
      ],
      "metadata": {
        "id": "GDDX9H_YlV_F"
      }
    },
    {
      "cell_type": "code",
      "source": [
        "f_spam = np.log(p_spam) + sum(map(np.log, p_x_spam))\n",
        "f_not_spam = np.log(p_not_spam) + sum(map(np.log, p_x_not_spam))\n",
        "\n",
        "print(f'{f_spam=}\\n{f_not_spam=}')\n",
        "\n",
        "p_predict_spam = 1/(1+np.exp(-f_spam+f_not_spam))\n",
        "\n",
        "print(f'{p_predict_spam=}\\n')"
      ],
      "metadata": {
        "colab": {
          "base_uri": "https://localhost:8080/"
        },
        "id": "JXyRF8jykZsY",
        "outputId": "fa66b7df-f29a-4a54-82c7-0e2203f10cfb"
      },
      "execution_count": null,
      "outputs": [
        {
          "output_type": "stream",
          "name": "stdout",
          "text": [
            "f_spam=-22.77763374107413\n",
            "f_not_spam=-22.692148427878404\n",
            "p_predict_spam=0.4786416768710148\n",
            "\n"
          ]
        }
      ]
    }
  ]
}
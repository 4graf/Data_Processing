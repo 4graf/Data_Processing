{
  "nbformat": 4,
  "nbformat_minor": 0,
  "metadata": {
    "colab": {
      "provenance": [],
      "authorship_tag": "ABX9TyPotsNCOcikhbL2E4IZLGcC",
      "include_colab_link": true
    },
    "kernelspec": {
      "name": "python3",
      "display_name": "Python 3"
    },
    "language_info": {
      "name": "python"
    }
  },
  "cells": [
    {
      "cell_type": "markdown",
      "metadata": {
        "id": "view-in-github",
        "colab_type": "text"
      },
      "source": [
        "<a href=\"https://colab.research.google.com/github/4graf/Data_Processing/blob/main/ML/%D0%A0%D0%B5%D0%B3%D1%80%D0%B5%D1%81%D1%81%D0%B8%D1%8F.ipynb\" target=\"_parent\"><img src=\"https://colab.research.google.com/assets/colab-badge.svg\" alt=\"Open In Colab\"/></a>"
      ]
    },
    {
      "cell_type": "code",
      "execution_count": null,
      "metadata": {
        "id": "VP7_YEVkqs6Q"
      },
      "outputs": [],
      "source": [
        "import pandas as pd\n",
        "import numpy as np\n",
        "import matplotlib.pyplot as plt"
      ]
    },
    {
      "cell_type": "code",
      "source": [
        "df = pd.DataFrame({'Кол-во товаров': [13, 4, 11, 20], 'Время в магазине': [8, 5, 6, 15]}, index=np.arange(1, 5))\n",
        "x = df['Кол-во товаров']\n",
        "y = df['Время в магазине']\n",
        "\n",
        "x_mean = x.mean()\n",
        "y_mean = y.mean()\n",
        "print(f'{x_mean=}, {y_mean=}')\n",
        "\n",
        "theta1 = sum((x-x_mean)*(y-y_mean))/sum((x-x_mean)**2)\n",
        "theta0 = y_mean - theta1*x_mean\n",
        "print(f'{theta1=}, {theta0=}')"
      ],
      "metadata": {
        "colab": {
          "base_uri": "https://localhost:8080/"
        },
        "id": "0OTjwrtVrHTm",
        "outputId": "dc2ee81b-f252-4218-dc7c-86353e007971"
      },
      "execution_count": null,
      "outputs": [
        {
          "output_type": "stream",
          "name": "stdout",
          "text": [
            "x_mean=12.0, y_mean=8.5\n",
            "theta1=0.6307692307692307, theta0=0.930769230769231\n"
          ]
        }
      ]
    },
    {
      "cell_type": "code",
      "source": [
        "n = len(x)\n",
        "se_theta0 = (sum((y-theta0-theta1*x)**2)/(n-2))**0.5 * ((1/n)+(x_mean**2/sum((x-x_mean)**2)))**0.5\n",
        "se_theta1 = (sum((y-theta0-theta1*x)**2)/(n-2))**0.5 * (1/sum((x-x_mean)**2))**0.5\n",
        "\n",
        "conf_inter_theta0 = (theta0-4.303*se_theta0, theta0+4.303*se_theta0)\n",
        "conf_inter_theta1 = (theta1-4.303*se_theta1, theta1+4.303*se_theta1)\n",
        "\n",
        "print(f'{se_theta1=}, {se_theta0=}')\n",
        "print(f'{conf_inter_theta1=}, {conf_inter_theta0=}')\n"
      ],
      "metadata": {
        "colab": {
          "base_uri": "https://localhost:8080/"
        },
        "id": "9lrOKKBo3uog",
        "outputId": "059611c4-40fb-4327-ea16-813435950f60"
      },
      "execution_count": null,
      "outputs": [
        {
          "output_type": "stream",
          "name": "stdout",
          "text": [
            "se_theta1=0.18889275627397964, se_theta0=2.5095026499878137\n",
            "conf_inter_theta1=(-0.1820362994777036, 1.443574761016165), conf_inter_theta0=(-9.86762067212833, 11.729159133666792)\n"
          ]
        }
      ]
    },
    {
      "cell_type": "code",
      "source": [
        "import scipy.stats as sps\n",
        "import scipy.optimize as spo\n",
        "\n",
        "def linear(x, a, b):\n",
        "    return a * x + b\n",
        "\n",
        "n = len(x)\n",
        "((a,b), cov) = spo.curve_fit(linear, xdata=x, ydata=y)\n",
        "a_err, b_err = np.sqrt(np.diag(cov))\n",
        "a_conf = sps.t.interval(0.975, df = n-2, loc=a, scale=a_err)\n",
        "b_conf = sps.t.interval(0.975, df = n-2, loc=b, scale=b_err)\n",
        "print(a_err, b_err)\n",
        "print(a_conf, b_conf)\n"
      ],
      "metadata": {
        "colab": {
          "base_uri": "https://localhost:8080/"
        },
        "id": "VFLOGgX-7kVs",
        "outputId": "1e8a7bf1-77a8-4bd1-f3f2-0e75e24a6049"
      },
      "execution_count": null,
      "outputs": [
        {
          "output_type": "stream",
          "name": "stdout",
          "text": [
            "0.18889277231823284 2.509502747439228\n",
            "(-0.5413759339042284, 1.8029143954410825) (-14.64156567142614, 16.503104132964335)\n"
          ]
        }
      ]
    },
    {
      "cell_type": "code",
      "source": [
        "import scipy.stats as sps\n",
        "\n",
        "n = len(x)\n",
        "lin_model = sps.linregress(x, y)\n",
        "a,b = lin_model.slope, lin_model.intercept\n",
        "# оценка ср.кв. ошибки для a и b\n",
        "a_err, b_err = lin_model.stderr, lin_model.intercept_stderr\n",
        "# Доверительный интервал для alpha=2.5%\n",
        "a_conf = sps.t.interval(0.975, df = n-2, loc=a, scale=a_err)\n",
        "b_conf = sps.t.interval(0.975, df = n-2, loc=b, scale=b_err)\n",
        "\n",
        "print(a_err, b_err)\n",
        "\n",
        "\n",
        "print(f\"a = {a:0.4f}, α=5% [{a_conf[0]:0.4f} - {a_conf[1]:0.4f}]\")\n",
        "print(f\"b = {b:0.4f}, α=5% [{b_conf[0]:0.4f} - {b_conf[1]:0.4f}]\")"
      ],
      "metadata": {
        "colab": {
          "base_uri": "https://localhost:8080/"
        },
        "id": "sEtMpvHX9R3k",
        "outputId": "2f6916a8-08eb-4ddf-e141-02854491dbd4"
      },
      "execution_count": null,
      "outputs": [
        {
          "output_type": "stream",
          "name": "stdout",
          "text": [
            "0.18889275627397964 2.5095026499878137\n",
            "a = 0.6308, α=5% [-0.5414 - 1.8029]\n",
            "b = 0.9308, α=5% [-14.6416 - 16.5031]\n"
          ]
        }
      ]
    },
    {
      "cell_type": "code",
      "source": [
        "t = np.abs(theta1)/se_theta1\n",
        "t"
      ],
      "metadata": {
        "colab": {
          "base_uri": "https://localhost:8080/"
        },
        "id": "3s2FIDfiA2Aw",
        "outputId": "1be4f113-274e-49a0-ea64-57b00079361a"
      },
      "execution_count": null,
      "outputs": [
        {
          "output_type": "execute_result",
          "data": {
            "text/plain": [
              "3.3392981457390087"
            ]
          },
          "metadata": {},
          "execution_count": 6
        }
      ]
    },
    {
      "cell_type": "code",
      "source": [
        "rse = ((1/(n-2))*sum((y-theta0-theta1*x)**2))**0.5\n",
        "r2 = 1 - (sum((y-theta0-theta1*x)**2)/sum((y-y_mean)**2))\n",
        "\n",
        "print(rse) \n",
        "print(r2)"
      ],
      "metadata": {
        "colab": {
          "base_uri": "https://localhost:8080/"
        },
        "id": "dsaCngbmGxXP",
        "outputId": "586f5a8c-dd07-4061-cd09-9daebf7e8002"
      },
      "execution_count": null,
      "outputs": [
        {
          "output_type": "stream",
          "name": "stdout",
          "text": [
            "2.153708786828326\n",
            "0.8479192938209331\n"
          ]
        }
      ]
    },
    {
      "cell_type": "code",
      "source": [
        "x = np.array([3, -4])\n",
        "x = np.insert(x, 0, 1)\n",
        "\n",
        "theta = np.array([13.32, 5.08, -3.78])\n",
        "\n",
        "y = sum(x*theta)\n",
        "y"
      ],
      "metadata": {
        "colab": {
          "base_uri": "https://localhost:8080/"
        },
        "id": "D-gZiR__ku4Y",
        "outputId": "6837e81e-0272-4f3b-d6a7-e56f836deac4"
      },
      "execution_count": null,
      "outputs": [
        {
          "output_type": "execute_result",
          "data": {
            "text/plain": [
              "43.68"
            ]
          },
          "metadata": {},
          "execution_count": 15
        }
      ]
    },
    {
      "cell_type": "markdown",
      "source": [
        "# SKLEARN"
      ],
      "metadata": {
        "id": "e5MsEPLyGHtF"
      }
    },
    {
      "cell_type": "code",
      "source": [
        "! touch task1.txt\n",
        "# input data to task1.txt\n",
        "! mv task1.txt task1.csv"
      ],
      "metadata": {
        "id": "Jsq39nVdxOcB"
      },
      "execution_count": null,
      "outputs": []
    },
    {
      "cell_type": "code",
      "source": [
        "from sklearn.linear_model import LinearRegression\n",
        "\n",
        "df = pd.read_csv('task1.csv', index_col='id')\n",
        "X = df['X'].to_numpy().reshape(-1, 1)\n",
        "y = df['Y'].to_numpy().reshape(-1, 1)\n",
        "\n",
        "reg = LinearRegression().fit(X, y)\n",
        "Y = reg.predict(X)\n",
        "\n",
        "plt.scatter(X, y, color='red')\n",
        "plt.plot(X, Y, color='blue')\n",
        "\n",
        "print(f'{X.mean()=}\\n{y.mean()=}\\n{reg.intercept_=}\\n{reg.coef_=}\\\n",
        "      \\n{reg.score(X, y)=}')"
      ],
      "metadata": {
        "colab": {
          "base_uri": "https://localhost:8080/",
          "height": 352
        },
        "id": "FVYW4Vhxwlj4",
        "outputId": "3a378359-bf59-4449-ac21-c06d05f7313f"
      },
      "execution_count": null,
      "outputs": [
        {
          "output_type": "stream",
          "name": "stdout",
          "text": [
            "X.mean()=12.0\n",
            "y.mean()=27.6\n",
            "reg.intercept_=array([-0.19787234])\n",
            "reg.coef_=array([[2.31648936]])      \n",
            "reg.score(X, y)=0.8606305383221947\n"
          ]
        },
        {
          "output_type": "display_data",
          "data": {
            "text/plain": [
              "<Figure size 432x288 with 1 Axes>"
            ],
            "image/png": "[encoded data removed]"
          },
          "metadata": {
            "needs_background": "light"
          }
        }
      ]
    },
    {
      "cell_type": "code",
      "source": [
        "! head -3 candy-data.csv"
      ],
      "metadata": {
        "colab": {
          "base_uri": "https://localhost:8080/"
        },
        "id": "V3bkuBzU-KdW",
        "outputId": "768e1273-d6c3-47b1-bf43-21a2d1e79c2c"
      },
      "execution_count": null,
      "outputs": [
        {
          "output_type": "stream",
          "name": "stdout",
          "text": [
            "﻿competitorname,chocolate,fruity,caramel,peanutyalmondy,nougat,crispedricewafer,hard,bar,pluribus,sugarpercent,pricepercent,winpercent,Y\r\n",
            "100 Grand,1,0,1,0,0,1,0,1,0,0.73199999,0.86000001,66.971725,1\r\n",
            "3 Musketeers,1,0,0,0,1,0,0,1,0,0.60399997,0.51099998,67.602936,1\r\n"
          ]
        }
      ]
    },
    {
      "cell_type": "code",
      "source": [
        "df = pd.read_csv('candy-data.csv')\n",
        "X = df[['chocolate', 'fruity', 'caramel', 'peanutyalmondy', 'nougat', \n",
        "        'crispedricewafer', 'hard', 'bar', 'pluribus', 'sugarpercent', \n",
        "        'pricepercent']]\n",
        "X_train = X.loc[~df['competitorname'].isin(['Dum Dums', 'Nestle Smarties'])]\n",
        "X_test = X.loc[df['competitorname'].isin(['Dum Dums', 'Nestle Smarties'])]\n",
        "\n",
        "y = df['winpercent']\n",
        "y_train = y.loc[~df['competitorname'].isin(['Dum Dums', 'Nestle Smarties'])].\\\n",
        "          to_numpy().reshape(-1, 1)\n",
        "# y_test = y.loc[df['competitorname'].isin(['Dum Dums', 'Nestle Smarties'])].\\\n",
        "#          to_numpy().reshape(-1, 1)\n",
        "\n",
        "reg = LinearRegression().fit(X_train, y_train)\n",
        "print(f'''{reg.predict(X_test)=}\n",
        "     {reg.predict(np.array([[1,1,1,1,0,1,0,0,0,0.128,0.37]]))=}''')\n",
        "# df.loc[df['competitorname'] == 'Dum Dums']"
      ],
      "metadata": {
        "colab": {
          "base_uri": "https://localhost:8080/"
        },
        "id": "Smnz7B2xI-JK",
        "outputId": "85be2162-ea52-4bd0-8990-442afcce4ab3"
      },
      "execution_count": null,
      "outputs": [
        {
          "output_type": "stream",
          "name": "stdout",
          "text": [
            "reg.predict(X_test)=array([[47.69312171],\n",
            "       [55.29253178]])\n",
            "     reg.predict(np.array([[1,1,1,1,0,1,0,0,0,0.128,0.37]]))=array([[87.62803508]])\n"
          ]
        },
        {
          "output_type": "stream",
          "name": "stderr",
          "text": [
            "/usr/local/lib/python3.8/dist-packages/sklearn/base.py:450: UserWarning: X does not have valid feature names, but LinearRegression was fitted with feature names\n",
            "  warnings.warn(\n"
          ]
        }
      ]
    }
  ]
}
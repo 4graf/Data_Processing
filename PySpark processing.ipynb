{
  "nbformat": 4,
  "nbformat_minor": 0,
  "metadata": {
    "colab": {
      "provenance": [],
      "authorship_tag": "ABX9TyOHqHlx7SU+B3MHe1ph39FH",
      "include_colab_link": true
    },
    "kernelspec": {
      "name": "python3",
      "display_name": "Python 3"
    },
    "language_info": {
      "name": "python"
    }
  },
  "cells": [
    {
      "cell_type": "markdown",
      "metadata": {
        "id": "view-in-github",
        "colab_type": "text"
      },
      "source": [
        "<a href=\"https://colab.research.google.com/github/4graf/Data_Processing/blob/main/PySpark%20processing.ipynb\" target=\"_parent\"><img src=\"https://colab.research.google.com/assets/colab-badge.svg\" alt=\"Open In Colab\"/></a>"
      ]
    },
    {
      "cell_type": "markdown",
      "source": [
        "# Подготовка к работе с PySpark"
      ],
      "metadata": {
        "id": "8Xb_jGconQKW"
      }
    },
    {
      "cell_type": "markdown",
      "source": [
        "> Установка библиотек для работы с PySpark в Google Colab (актуальную версию Spark можно посмотреть на официальном сайте https://spark.apache.org/downloads.html):"
      ],
      "metadata": {
        "id": "hZmqouJImr4m"
      }
    },
    {
      "cell_type": "code",
      "execution_count": null,
      "metadata": {
        "id": "XzT1sKIJmph0",
        "colab": {
          "base_uri": "https://localhost:8080/"
        },
        "outputId": "1fc36465-d863-485b-ddfc-dc88faeda49b"
      },
      "outputs": [
        {
          "output_type": "stream",
          "name": "stdout",
          "text": [
            "--2022-12-29 20:38:36--  https://dlcdn.apache.org/spark/spark-3.3.1/spark-3.3.1-bin-hadoop3.tgz\n",
            "Resolving dlcdn.apache.org (dlcdn.apache.org)... 151.101.2.132, 2a04:4e42::644\n",
            "Connecting to dlcdn.apache.org (dlcdn.apache.org)|151.101.2.132|:443... connected.\n",
            "HTTP request sent, awaiting response... 200 OK\n",
            "Length: 299350810 (285M) [application/x-gzip]\n",
            "Saving to: ‘spark-3.3.1-bin-hadoop3.tgz’\n",
            "\n",
            "spark-3.3.1-bin-had 100%[===================>] 285.48M   247MB/s    in 1.2s    \n",
            "\n",
            "2022-12-29 20:38:38 (247 MB/s) - ‘spark-3.3.1-bin-hadoop3.tgz’ saved [299350810/299350810]\n",
            "\n"
          ]
        }
      ],
      "source": [
        "!apt-get install openjdk-8-jdk-headless -qq > /dev/null\n",
        "!wget https://dlcdn.apache.org/spark/spark-3.3.1/spark-3.3.1-bin-hadoop3.tgz\n",
        "!tar xf spark-3.3.1-bin-hadoop3.tgz\n",
        "\n",
        "!pip install -q findspark"
      ]
    },
    {
      "cell_type": "markdown",
      "source": [
        "> Указываем пути на установленные модули:"
      ],
      "metadata": {
        "id": "4VWbocaom5i0"
      }
    },
    {
      "cell_type": "code",
      "source": [
        "import os\n",
        "os.environ[\"JAVA_HOME\"] = \"/usr/lib/jvm/java-8-openjdk-amd64\"\n",
        "os.environ[\"SPARK_HOME\"] = \"/content/spark-3.3.1-bin-hadoop3\""
      ],
      "metadata": {
        "id": "YWqQfikLm49V"
      },
      "execution_count": null,
      "outputs": []
    },
    {
      "cell_type": "markdown",
      "source": [
        "> Инициализация сессии PySpark:"
      ],
      "metadata": {
        "id": "iAhds2aUm4tr"
      }
    },
    {
      "cell_type": "code",
      "source": [
        "import findspark\n",
        "findspark.init()\n",
        "\n",
        "from pyspark.sql import SparkSession\n",
        "spark = SparkSession.builder.master(\"local[*]\").getOrCreate()"
      ],
      "metadata": {
        "id": "khn7ztDmoKMy"
      },
      "execution_count": null,
      "outputs": []
    },
    {
      "cell_type": "markdown",
      "source": [
        "# **Подключение необходимых для работы библиотек:**"
      ],
      "metadata": {
        "id": "s_jKhvpM6P5z"
      }
    },
    {
      "cell_type": "code",
      "source": [
        "import pandas as pd\n",
        "import numpy as np\n",
        "import pyspark.sql.functions as F"
      ],
      "metadata": {
        "id": "Igm_AUXY6Xam"
      },
      "execution_count": null,
      "outputs": []
    },
    {
      "cell_type": "markdown",
      "source": [
        "# Работа с PySpark"
      ],
      "metadata": {
        "id": "EL3cdaOQVSw8"
      }
    },
    {
      "cell_type": "markdown",
      "source": [
        "Загрузим исходные данные из *.csv* файла (https://docs.google.com/spreadsheets/d/1SK5LL-0HVERsrqAl-wXk8kH2yz2raO8tO_whfhxIBr4/edit#gid=447851735):"
      ],
      "metadata": {
        "id": "DKpeWvwvVkDu"
      }
    },
    {
      "cell_type": "code",
      "source": [
        "df = spark.read.csv(\"Арсений Набатов - daily_weather.csv\",\n",
        "               sep=',', header=True, inferSchema=True)"
      ],
      "metadata": {
        "id": "I0fykqJrVjfK"
      },
      "execution_count": null,
      "outputs": []
    },
    {
      "cell_type": "markdown",
      "source": [
        "Описание исходных данных:"
      ],
      "metadata": {
        "id": "5bXJw49kk7_-"
      }
    },
    {
      "cell_type": "code",
      "source": [
        "print(f'Столбцов - {len(df.columns)}')\n",
        "print(f'Строк - {df.count()}')\n",
        "df.printSchema()\n",
        "\n",
        "df_descript = df.describe().toPandas().T\n",
        "df_descript.rename(columns=dict(zip(df_descript.columns, df_descript.iloc[0])), inplace=True)\n",
        "df_descript.drop(df_descript.index[0:2], inplace=True)\n",
        "df_descript = df_descript.apply(pd.to_numeric)\n",
        "df_descript"
      ],
      "metadata": {
        "colab": {
          "base_uri": "https://localhost:8080/",
          "height": 623
        },
        "id": "SxtxhfbNlI1z",
        "outputId": "504eef13-1565-41bc-813a-eef8dd3c2162"
      },
      "execution_count": null,
      "outputs": [
        {
          "output_type": "stream",
          "name": "stdout",
          "text": [
            "Столбцов - 11\n",
            "Строк - 1095\n",
            "root\n",
            " |-- number: integer (nullable = true)\n",
            " |-- air_pressure_9am: double (nullable = true)\n",
            " |-- air_temp_9am: double (nullable = true)\n",
            " |-- avg_wind_direction_9am: double (nullable = true)\n",
            " |-- avg_wind_speed_9am: double (nullable = true)\n",
            " |-- max_wind_direction_9am: double (nullable = true)\n",
            " |-- max_wind_speed_9am: double (nullable = true)\n",
            " |-- rain_accumulation_9am: double (nullable = true)\n",
            " |-- rain_duration_9am: double (nullable = true)\n",
            " |-- relative_humidity_9am: double (nullable = true)\n",
            " |-- relative_humidity_3pm: double (nullable = true)\n",
            "\n"
          ]
        },
        {
          "output_type": "execute_result",
          "data": {
            "text/plain": [
              "                        count        mean       stddev         min  \\\n",
              "air_pressure_9am         1092  918.882551     3.184161  907.990000   \n",
              "air_temp_9am             1090   64.933001    11.175514   36.752000   \n",
              "avg_wind_direction_9am   1091  142.235511    69.137859   15.500000   \n",
              "avg_wind_speed_9am       1092    5.508284     4.552813    0.693451   \n",
              "max_wind_direction_9am   1092  148.953518    67.238013   28.900000   \n",
              "max_wind_speed_9am       1091    7.019514     5.598209    1.185578   \n",
              "rain_accumulation_9am    1089    0.203079     1.593952    0.000000   \n",
              "rain_duration_9am        1092  294.108052  1598.078779    0.000000   \n",
              "relative_humidity_9am    1095   34.241402    25.472067    6.090000   \n",
              "relative_humidity_3pm    1095   35.344727    22.524079    5.300000   \n",
              "\n",
              "                                 max  \n",
              "air_pressure_9am          929.320000  \n",
              "air_temp_9am               98.906000  \n",
              "avg_wind_direction_9am    343.400000  \n",
              "avg_wind_speed_9am         23.554978  \n",
              "max_wind_direction_9am    312.200000  \n",
              "max_wind_speed_9am         29.840780  \n",
              "rain_accumulation_9am      24.020000  \n",
              "rain_duration_9am       17704.000000  \n",
              "relative_humidity_9am      92.620000  \n",
              "relative_humidity_3pm      92.250000  "
            ],
            "text/html": [
              "\n",
              "  <div id=\"df-5cd70146-81dd-4ccb-aaf0-43c5e39fe8d8\">\n",
              "    <div class=\"colab-df-container\">\n",
              "      <div>\n",
              "<style scoped>\n",
              "    .dataframe tbody tr th:only-of-type {\n",
              "        vertical-align: middle;\n",
              "    }\n",
              "\n",
              "    .dataframe tbody tr th {\n",
              "        vertical-align: top;\n",
              "    }\n",
              "\n",
              "    .dataframe thead th {\n",
              "        text-align: right;\n",
              "    }\n",
              "</style>\n",
              "<table border=\"1\" class=\"dataframe\">\n",
              "  <thead>\n",
              "    <tr style=\"text-align: right;\">\n",
              "      <th></th>\n",
              "      <th>count</th>\n",
              "      <th>mean</th>\n",
              "      <th>stddev</th>\n",
              "      <th>min</th>\n",
              "      <th>max</th>\n",
              "    </tr>\n",
              "  </thead>\n",
              "  <tbody>\n",
              "    <tr>\n",
              "      <th>air_pressure_9am</th>\n",
              "      <td>1092</td>\n",
              "      <td>918.882551</td>\n",
              "      <td>3.184161</td>\n",
              "      <td>907.990000</td>\n",
              "      <td>929.320000</td>\n",
              "    </tr>\n",
              "    <tr>\n",
              "      <th>air_temp_9am</th>\n",
              "      <td>1090</td>\n",
              "      <td>64.933001</td>\n",
              "      <td>11.175514</td>\n",
              "      <td>36.752000</td>\n",
              "      <td>98.906000</td>\n",
              "    </tr>\n",
              "    <tr>\n",
              "      <th>avg_wind_direction_9am</th>\n",
              "      <td>1091</td>\n",
              "      <td>142.235511</td>\n",
              "      <td>69.137859</td>\n",
              "      <td>15.500000</td>\n",
              "      <td>343.400000</td>\n",
              "    </tr>\n",
              "    <tr>\n",
              "      <th>avg_wind_speed_9am</th>\n",
              "      <td>1092</td>\n",
              "      <td>5.508284</td>\n",
              "      <td>4.552813</td>\n",
              "      <td>0.693451</td>\n",
              "      <td>23.554978</td>\n",
              "    </tr>\n",
              "    <tr>\n",
              "      <th>max_wind_direction_9am</th>\n",
              "      <td>1092</td>\n",
              "      <td>148.953518</td>\n",
              "      <td>67.238013</td>\n",
              "      <td>28.900000</td>\n",
              "      <td>312.200000</td>\n",
              "    </tr>\n",
              "    <tr>\n",
              "      <th>max_wind_speed_9am</th>\n",
              "      <td>1091</td>\n",
              "      <td>7.019514</td>\n",
              "      <td>5.598209</td>\n",
              "      <td>1.185578</td>\n",
              "      <td>29.840780</td>\n",
              "    </tr>\n",
              "    <tr>\n",
              "      <th>rain_accumulation_9am</th>\n",
              "      <td>1089</td>\n",
              "      <td>0.203079</td>\n",
              "      <td>1.593952</td>\n",
              "      <td>0.000000</td>\n",
              "      <td>24.020000</td>\n",
              "    </tr>\n",
              "    <tr>\n",
              "      <th>rain_duration_9am</th>\n",
              "      <td>1092</td>\n",
              "      <td>294.108052</td>\n",
              "      <td>1598.078779</td>\n",
              "      <td>0.000000</td>\n",
              "      <td>17704.000000</td>\n",
              "    </tr>\n",
              "    <tr>\n",
              "      <th>relative_humidity_9am</th>\n",
              "      <td>1095</td>\n",
              "      <td>34.241402</td>\n",
              "      <td>25.472067</td>\n",
              "      <td>6.090000</td>\n",
              "      <td>92.620000</td>\n",
              "    </tr>\n",
              "    <tr>\n",
              "      <th>relative_humidity_3pm</th>\n",
              "      <td>1095</td>\n",
              "      <td>35.344727</td>\n",
              "      <td>22.524079</td>\n",
              "      <td>5.300000</td>\n",
              "      <td>92.250000</td>\n",
              "    </tr>\n",
              "  </tbody>\n",
              "</table>\n",
              "</div>\n",
              "      <button class=\"colab-df-convert\" onclick=\"convertToInteractive('df-5cd70146-81dd-4ccb-aaf0-43c5e39fe8d8')\"\n",
              "              title=\"Convert this dataframe to an interactive table.\"\n",
              "              style=\"display:none;\">\n",
              "        \n",
              "  <svg xmlns=\"http://www.w3.org/2000/svg\" height=\"24px\"viewBox=\"0 0 24 24\"\n",
              "       width=\"24px\">\n",
              "    <path d=\"M0 0h24v24H0V0z\" fill=\"none\"/>\n",
              "    <path d=\"M18.56 5.44l.94 2.06.94-2.06 2.06-.94-2.06-.94-.94-2.06-.94 2.06-2.06.94zm-11 1L8.5 8.5l.94-2.06 2.06-.94-2.06-.94L8.5 2.5l-.94 2.06-2.06.94zm10 10l.94 2.06.94-2.06 2.06-.94-2.06-.94-.94-2.06-.94 2.06-2.06.94z\"/><path d=\"M17.41 7.96l-1.37-1.37c-.4-.4-.92-.59-1.43-.59-.52 0-1.04.2-1.43.59L10.3 9.45l-7.72 7.72c-.78.78-.78 2.05 0 2.83L4 21.41c.39.39.9.59 1.41.59.51 0 1.02-.2 1.41-.59l7.78-7.78 2.81-2.81c.8-.78.8-2.07 0-2.86zM5.41 20L4 18.59l7.72-7.72 1.47 1.35L5.41 20z\"/>\n",
              "  </svg>\n",
              "      </button>\n",
              "      \n",
              "  <style>\n",
              "    .colab-df-container {\n",
              "      display:flex;\n",
              "      flex-wrap:wrap;\n",
              "      gap: 12px;\n",
              "    }\n",
              "\n",
              "    .colab-df-convert {\n",
              "      background-color: #E8F0FE;\n",
              "      border: none;\n",
              "      border-radius: 50%;\n",
              "      cursor: pointer;\n",
              "      display: none;\n",
              "      fill: #1967D2;\n",
              "      height: 32px;\n",
              "      padding: 0 0 0 0;\n",
              "      width: 32px;\n",
              "    }\n",
              "\n",
              "    .colab-df-convert:hover {\n",
              "      background-color: #E2EBFA;\n",
              "      box-shadow: 0px 1px 2px rgba(60, 64, 67, 0.3), 0px 1px 3px 1px rgba(60, 64, 67, 0.15);\n",
              "      fill: #174EA6;\n",
              "    }\n",
              "\n",
              "    [theme=dark] .colab-df-convert {\n",
              "      background-color: #3B4455;\n",
              "      fill: #D2E3FC;\n",
              "    }\n",
              "\n",
              "    [theme=dark] .colab-df-convert:hover {\n",
              "      background-color: #434B5C;\n",
              "      box-shadow: 0px 1px 3px 1px rgba(0, 0, 0, 0.15);\n",
              "      filter: drop-shadow(0px 1px 2px rgba(0, 0, 0, 0.3));\n",
              "      fill: #FFFFFF;\n",
              "    }\n",
              "  </style>\n",
              "\n",
              "      <script>\n",
              "        const buttonEl =\n",
              "          document.querySelector('#df-5cd70146-81dd-4ccb-aaf0-43c5e39fe8d8 button.colab-df-convert');\n",
              "        buttonEl.style.display =\n",
              "          google.colab.kernel.accessAllowed ? 'block' : 'none';\n",
              "\n",
              "        async function convertToInteractive(key) {\n",
              "          const element = document.querySelector('#df-5cd70146-81dd-4ccb-aaf0-43c5e39fe8d8');\n",
              "          const dataTable =\n",
              "            await google.colab.kernel.invokeFunction('convertToInteractive',\n",
              "                                                     [key], {});\n",
              "          if (!dataTable) return;\n",
              "\n",
              "          const docLinkHtml = 'Like what you see? Visit the ' +\n",
              "            '<a target=\"_blank\" href=https://colab.research.google.com/notebooks/data_table.ipynb>data table notebook</a>'\n",
              "            + ' to learn more about interactive tables.';\n",
              "          element.innerHTML = '';\n",
              "          dataTable['output_type'] = 'display_data';\n",
              "          await google.colab.output.renderOutput(dataTable, element);\n",
              "          const docLink = document.createElement('div');\n",
              "          docLink.innerHTML = docLinkHtml;\n",
              "          element.appendChild(docLink);\n",
              "        }\n",
              "      </script>\n",
              "    </div>\n",
              "  </div>\n",
              "  "
            ]
          },
          "metadata": {},
          "execution_count": 33
        }
      ]
    },
    {
      "cell_type": "markdown",
      "source": [
        "Количества элементов в столбцах различно, что означает наличие **пустых значений**. Количество **пустых значений**:"
      ],
      "metadata": {
        "id": "GMyq0nertiFh"
      }
    },
    {
      "cell_type": "code",
      "source": [
        "print((df.count() - df_descript['count']))\n",
        "# df.select([F.count(F.when(F.col(c).isNull(), c)).alias(c) for c in df.columns]).show()"
      ],
      "metadata": {
        "colab": {
          "base_uri": "https://localhost:8080/"
        },
        "id": "CLw3hwHIuJvZ",
        "outputId": "f8ed6da1-631d-40d9-8990-6c3c4008e2b4"
      },
      "execution_count": null,
      "outputs": [
        {
          "output_type": "stream",
          "name": "stdout",
          "text": [
            "air_pressure_9am          3\n",
            "air_temp_9am              5\n",
            "avg_wind_direction_9am    4\n",
            "avg_wind_speed_9am        3\n",
            "max_wind_direction_9am    3\n",
            "max_wind_speed_9am        4\n",
            "rain_accumulation_9am     6\n",
            "rain_duration_9am         3\n",
            "relative_humidity_9am     0\n",
            "relative_humidity_3pm     0\n",
            "Name: count, dtype: int64\n"
          ]
        }
      ]
    },
    {
      "cell_type": "markdown",
      "source": [
        "Рассмотрим 3 способа заполнения пустых значений: **среднее, медиана и мода**. Сравним их на примере столбца *air_temp_9am*:"
      ],
      "metadata": {
        "id": "pAeiOKku0h9K"
      }
    },
    {
      "cell_type": "code",
      "source": [
        "air_temp_9am = {}\n",
        "\n",
        "\n",
        "# Среднее значение\n",
        "df_mean = df.select(['air_temp_9am'])\n",
        "mean_value = df_mean.select(F.mean(F.col('air_temp_9am'))).\\\n",
        "                            first()[0]\n",
        "print(f'mean_value = {mean_value}')\n",
        "df_mean = df_mean.fillna(mean_value)\n",
        "\n",
        "air_temp_9am['mean'] = df_mean\n",
        "\n",
        "\n",
        "# Медианное значение\n",
        "df_median = df.select(['air_temp_9am'])\n",
        "median_value = df_median.agg(F.percentile_approx('air_temp_9am', 0.5)).\\\n",
        "                            first()[0]\n",
        "print(f'median_value = {median_value}')\n",
        "df_median = df_median.fillna(median_value)\n",
        "\n",
        "air_temp_9am['median'] = df_median\n",
        "\n",
        "\n",
        "# Наиболее частое значение\n",
        "df_mode = df.select(['air_temp_9am'])\n",
        "mode_value = df_mode.filter(F.col('air_temp_9am').isNotNull()).\\\n",
        "            groupBy('air_temp_9am').count().orderBy('count', ascending=False).\\\n",
        "            first()[0]\n",
        "\n",
        "print(f'mode_value = {mode_value}')\n",
        "df_mode = df_mode.fillna(mode_value)\n",
        "\n",
        "air_temp_9am['mode'] = df_mode\n",
        "\n",
        "\n",
        "# Сводная информация по получившимся столбцам\n",
        "air_temp_9am['describe'] = df.select(F.col('air_temp_9am').alias('default')).describe().\\\n",
        "                            join(\n",
        "                                air_temp_9am['mean'].select(F.col('air_temp_9am').alias('mean')).describe(),\n",
        "                                 on='summary'\n",
        "                            ).\\\n",
        "                            join(\n",
        "                                air_temp_9am['median'].select(F.col('air_temp_9am').alias('median')).describe(),\n",
        "                                 on='summary'\n",
        "                            ).\\\n",
        "                            join(\n",
        "                                air_temp_9am['mode'].select(F.col('air_temp_9am').alias('mode')).describe(),\n",
        "                                 on='summary'\n",
        "                            )\n",
        "\n",
        "air_temp_9am['describe'].show()    "
      ],
      "metadata": {
        "colab": {
          "base_uri": "https://localhost:8080/"
        },
        "id": "K2Iw4VvZzqd9",
        "outputId": "b3ad6603-cd7f-4005-ef36-7aa2cd086d58"
      },
      "execution_count": null,
      "outputs": [
        {
          "output_type": "stream",
          "name": "stdout",
          "text": [
            "mean_value = 64.93300141287072\n",
            "median_value = 65.69599999999856\n",
            "mode_value = 62.870000000002186\n",
            "+-------+------------------+------------------+------------------+------------------+\n",
            "|summary|           default|              mean|            median|              mode|\n",
            "+-------+------------------+------------------+------------------+------------------+\n",
            "|  count|              1090|              1095|              1095|              1095|\n",
            "|   mean| 64.93300141287072| 64.93300141287071| 64.93648542468407| 64.92358131509505|\n",
            "| stddev|11.175514003175877|11.149946561759078|11.150065331944358|11.150814811018039|\n",
            "|    min|36.752000000000685|36.752000000000685|36.752000000000685|36.752000000000685|\n",
            "|    max| 98.90599999999992| 98.90599999999992| 98.90599999999992| 98.90599999999992|\n",
            "+-------+------------------+------------------+------------------+------------------+\n",
            "\n"
          ]
        }
      ]
    },
    {
      "cell_type": "markdown",
      "source": [
        "Для наглядности выбора более подходящего метода найдём отклонение полученных данных от исходных и посмотрим на графики распределения полученных столбцов (***Внимание!*** *Перевод большого количества данных в Dataframe Pandas слишком дорогостоящая операция, т.к. перед этим они выгрузятся на драйвер Spark, в котором памяти может не хватить, а потом уже в память Pandas*):"
      ],
      "metadata": {
        "id": "VUM-ZH4SYooq"
      }
    },
    {
      "cell_type": "code",
      "source": [
        "import seaborn as sns\n",
        "import matplotlib.pyplot as plt\n",
        "\n",
        "\n",
        "air_temp_9am['deviance'] = air_temp_9am['describe'].withColumn('mean', F.col('default')-F.col('mean')).\\\n",
        "                                                    withColumn('median', F.col('default')-F.col('median')).\\\n",
        "                                                    withColumn('mode', F.col('default')-F.col('mode'))\n",
        "\n",
        "air_temp_9am['deviance'].show(truncate=False)\n",
        "\n",
        "fig, axs = plt.subplots(2, sharex=True, sharey=False, figsize=(15, 10))\n",
        "\n",
        "# sns.set(rc={'figure.figsize' : (15, 10)})\n",
        "\n",
        "methods = ['mean', 'median', 'mode']\n",
        "\n",
        "for ax in axs:\n",
        "    sns.kdeplot(df.select(['air_temp_9am']).toPandas()['air_temp_9am'],\n",
        "                linewidth=3, label='default', ax=ax)\n",
        "    for method in methods:\n",
        "        sns.kdeplot(air_temp_9am[method].toPandas()['air_temp_9am'],\n",
        "                linewidth=3, label=method, ax=ax)\n",
        "        \n",
        "    ax.legend(prop={'size': 16}, title = 'Methods')\n",
        "    \n",
        "axs[1].set_ylim(0.030, 0.035)\n",
        "\n",
        "plt.xlabel('Value')\n",
        "plt.ylabel('Density')   \n",
        "fig.suptitle('Density Plot with Methods Imputing Data')\n",
        "\n",
        "plt.show()"
      ],
      "metadata": {
        "colab": {
          "base_uri": "https://localhost:8080/",
          "height": 851
        },
        "id": "IPsreLPobgXr",
        "outputId": "8025eb8a-f143-4b72-c203-33c0cbc3cb37"
      },
      "execution_count": null,
      "outputs": [
        {
          "output_type": "stream",
          "name": "stdout",
          "text": [
            "+-------+------------------+----------------------+---------------------+--------------------+\n",
            "|summary|default           |mean                  |median               |mode                |\n",
            "+-------+------------------+----------------------+---------------------+--------------------+\n",
            "|count  |1090              |-5.0                  |-5.0                 |-5.0                |\n",
            "|mean   |64.93300141287072 |1.4210854715202004E-14|-0.003484011813341681|0.009420097775674208|\n",
            "|stddev |11.175514003175877|0.025567441416798786  |0.02544867123151917  |0.024699192157838112|\n",
            "|min    |36.752000000000685|0.0                   |0.0                  |0.0                 |\n",
            "|max    |98.90599999999992 |0.0                   |0.0                  |0.0                 |\n",
            "+-------+------------------+----------------------+---------------------+--------------------+\n",
            "\n"
          ]
        },
        {
          "output_type": "display_data",
          "data": {
            "text/plain": [
              "<Figure size 1080x720 with 2 Axes>"
            ],
            "image/png": "[encoded data removed]"
          },
          "metadata": {
            "needs_background": "light"
          }
        }
      ]
    },
    {
      "cell_type": "markdown",
      "source": [
        "Незначительное отличие среднего значения в методе замены средним значением объясняется ошибкой в вычислениях чисел с плавающей точкой.\n",
        "\n",
        "Методы практически одинаково влияют на всю выборку данных, т.к. вставлялось *слишком малое* количество элементов и вставляемые значения зависили только от *самого столбца* (не анализировались значения других столбцов, как, например, в методе KNN).\n",
        "\n",
        "Таким образом, можем выбрать метод, который будет выполняться быстрее всего: замена средним значением. А можем посчитать **усечённое среднее** и заменить пустые значения им:"
      ],
      "metadata": {
        "id": "6tuXaP4V9SD8"
      }
    },
    {
      "cell_type": "code",
      "source": [
        "imputer = {}\n",
        "for c in df.columns:\n",
        "    quantiles_20th = df.approxQuantile(c, [0.2, 0.8], 0.1)\n",
        "    imputer[c] = df.filter((quantiles_20th[0] <= F.col(c)) & (F.col(c) <= quantiles_20th[1])).\\\n",
        "                 select(F.mean(F.col(c))).first()[0]\n",
        "    print(c, '=', imputer[c])\n",
        "    \n",
        "    # Заполнение средним значением\n",
        "    # imputer[c] = df.select(F.mean(F.col(c))).first()[0] \n",
        "\n",
        "df = df.fillna(imputer)\n",
        "df_descript = df.describe().toPandas().T\n",
        "df_descript.rename(columns=dict(zip(df_descript.columns, df_descript.iloc[0])), inplace=True)\n",
        "df_descript.drop(df_descript.index[0:2], inplace=True)\n",
        "df_descript = df_descript.apply(pd.to_numeric)\n",
        "df_descript"
      ],
      "metadata": {
        "colab": {
          "base_uri": "https://localhost:8080/",
          "height": 554
        },
        "id": "55_z7i3pDm2Z",
        "outputId": "2b4c8309-edaa-4053-ab41-82140eed128c"
      },
      "execution_count": null,
      "outputs": [
        {
          "output_type": "stream",
          "name": "stdout",
          "text": [
            "number = 474.0\n",
            "air_pressure_9am = 918.3073218228056\n",
            "air_temp_9am = 63.300605366286284\n",
            "avg_wind_direction_9am = 130.1679325891029\n",
            "avg_wind_speed_9am = 3.537799433735242\n",
            "max_wind_direction_9am = 135.41216310174508\n",
            "max_wind_speed_9am = 4.599078921243573\n",
            "rain_accumulation_9am = 0.0\n",
            "rain_duration_9am = 0.0\n",
            "relative_humidity_9am = 22.445035838629718\n",
            "relative_humidity_3pm = 26.152412754079148\n"
          ]
        },
        {
          "output_type": "execute_result",
          "data": {
            "text/plain": [
              "                        count        mean       stddev         min  \\\n",
              "air_pressure_9am         1095  918.880821     3.179964  907.990000   \n",
              "air_temp_9am             1095   64.925421    11.150509   36.752000   \n",
              "avg_wind_direction_9am   1095  142.182222    69.016965   15.500000   \n",
              "avg_wind_speed_9am       1095    5.502780     4.547780    0.693451   \n",
              "max_wind_direction_9am   1095  148.912790    67.150259   28.900000   \n",
              "max_wind_speed_9am       1095    7.010407     5.589991    1.185578   \n",
              "rain_accumulation_9am    1095    0.201966     1.589646    0.000000   \n",
              "rain_duration_9am        1095  293.302277  1595.960236    0.000000   \n",
              "relative_humidity_9am    1095   34.241402    25.472067    6.090000   \n",
              "relative_humidity_3pm    1095   35.344727    22.524079    5.300000   \n",
              "\n",
              "                                 max  \n",
              "air_pressure_9am          929.320000  \n",
              "air_temp_9am               98.906000  \n",
              "avg_wind_direction_9am    343.400000  \n",
              "avg_wind_speed_9am         23.554978  \n",
              "max_wind_direction_9am    312.200000  \n",
              "max_wind_speed_9am         29.840780  \n",
              "rain_accumulation_9am      24.020000  \n",
              "rain_duration_9am       17704.000000  \n",
              "relative_humidity_9am      92.620000  \n",
              "relative_humidity_3pm      92.250000  "
            ],
            "text/html": [
              "\n",
              "  <div id=\"df-5a7af31d-665e-4e60-bf4b-78ea87307b10\">\n",
              "    <div class=\"colab-df-container\">\n",
              "      <div>\n",
              "<style scoped>\n",
              "    .dataframe tbody tr th:only-of-type {\n",
              "        vertical-align: middle;\n",
              "    }\n",
              "\n",
              "    .dataframe tbody tr th {\n",
              "        vertical-align: top;\n",
              "    }\n",
              "\n",
              "    .dataframe thead th {\n",
              "        text-align: right;\n",
              "    }\n",
              "</style>\n",
              "<table border=\"1\" class=\"dataframe\">\n",
              "  <thead>\n",
              "    <tr style=\"text-align: right;\">\n",
              "      <th></th>\n",
              "      <th>count</th>\n",
              "      <th>mean</th>\n",
              "      <th>stddev</th>\n",
              "      <th>min</th>\n",
              "      <th>max</th>\n",
              "    </tr>\n",
              "  </thead>\n",
              "  <tbody>\n",
              "    <tr>\n",
              "      <th>air_pressure_9am</th>\n",
              "      <td>1095</td>\n",
              "      <td>918.880821</td>\n",
              "      <td>3.179964</td>\n",
              "      <td>907.990000</td>\n",
              "      <td>929.320000</td>\n",
              "    </tr>\n",
              "    <tr>\n",
              "      <th>air_temp_9am</th>\n",
              "      <td>1095</td>\n",
              "      <td>64.925421</td>\n",
              "      <td>11.150509</td>\n",
              "      <td>36.752000</td>\n",
              "      <td>98.906000</td>\n",
              "    </tr>\n",
              "    <tr>\n",
              "      <th>avg_wind_direction_9am</th>\n",
              "      <td>1095</td>\n",
              "      <td>142.182222</td>\n",
              "      <td>69.016965</td>\n",
              "      <td>15.500000</td>\n",
              "      <td>343.400000</td>\n",
              "    </tr>\n",
              "    <tr>\n",
              "      <th>avg_wind_speed_9am</th>\n",
              "      <td>1095</td>\n",
              "      <td>5.502780</td>\n",
              "      <td>4.547780</td>\n",
              "      <td>0.693451</td>\n",
              "      <td>23.554978</td>\n",
              "    </tr>\n",
              "    <tr>\n",
              "      <th>max_wind_direction_9am</th>\n",
              "      <td>1095</td>\n",
              "      <td>148.912790</td>\n",
              "      <td>67.150259</td>\n",
              "      <td>28.900000</td>\n",
              "      <td>312.200000</td>\n",
              "    </tr>\n",
              "    <tr>\n",
              "      <th>max_wind_speed_9am</th>\n",
              "      <td>1095</td>\n",
              "      <td>7.010407</td>\n",
              "      <td>5.589991</td>\n",
              "      <td>1.185578</td>\n",
              "      <td>29.840780</td>\n",
              "    </tr>\n",
              "    <tr>\n",
              "      <th>rain_accumulation_9am</th>\n",
              "      <td>1095</td>\n",
              "      <td>0.201966</td>\n",
              "      <td>1.589646</td>\n",
              "      <td>0.000000</td>\n",
              "      <td>24.020000</td>\n",
              "    </tr>\n",
              "    <tr>\n",
              "      <th>rain_duration_9am</th>\n",
              "      <td>1095</td>\n",
              "      <td>293.302277</td>\n",
              "      <td>1595.960236</td>\n",
              "      <td>0.000000</td>\n",
              "      <td>17704.000000</td>\n",
              "    </tr>\n",
              "    <tr>\n",
              "      <th>relative_humidity_9am</th>\n",
              "      <td>1095</td>\n",
              "      <td>34.241402</td>\n",
              "      <td>25.472067</td>\n",
              "      <td>6.090000</td>\n",
              "      <td>92.620000</td>\n",
              "    </tr>\n",
              "    <tr>\n",
              "      <th>relative_humidity_3pm</th>\n",
              "      <td>1095</td>\n",
              "      <td>35.344727</td>\n",
              "      <td>22.524079</td>\n",
              "      <td>5.300000</td>\n",
              "      <td>92.250000</td>\n",
              "    </tr>\n",
              "  </tbody>\n",
              "</table>\n",
              "</div>\n",
              "      <button class=\"colab-df-convert\" onclick=\"convertToInteractive('df-5a7af31d-665e-4e60-bf4b-78ea87307b10')\"\n",
              "              title=\"Convert this dataframe to an interactive table.\"\n",
              "              style=\"display:none;\">\n",
              "        \n",
              "  <svg xmlns=\"http://www.w3.org/2000/svg\" height=\"24px\"viewBox=\"0 0 24 24\"\n",
              "       width=\"24px\">\n",
              "    <path d=\"M0 0h24v24H0V0z\" fill=\"none\"/>\n",
              "    <path d=\"M18.56 5.44l.94 2.06.94-2.06 2.06-.94-2.06-.94-.94-2.06-.94 2.06-2.06.94zm-11 1L8.5 8.5l.94-2.06 2.06-.94-2.06-.94L8.5 2.5l-.94 2.06-2.06.94zm10 10l.94 2.06.94-2.06 2.06-.94-2.06-.94-.94-2.06-.94 2.06-2.06.94z\"/><path d=\"M17.41 7.96l-1.37-1.37c-.4-.4-.92-.59-1.43-.59-.52 0-1.04.2-1.43.59L10.3 9.45l-7.72 7.72c-.78.78-.78 2.05 0 2.83L4 21.41c.39.39.9.59 1.41.59.51 0 1.02-.2 1.41-.59l7.78-7.78 2.81-2.81c.8-.78.8-2.07 0-2.86zM5.41 20L4 18.59l7.72-7.72 1.47 1.35L5.41 20z\"/>\n",
              "  </svg>\n",
              "      </button>\n",
              "      \n",
              "  <style>\n",
              "    .colab-df-container {\n",
              "      display:flex;\n",
              "      flex-wrap:wrap;\n",
              "      gap: 12px;\n",
              "    }\n",
              "\n",
              "    .colab-df-convert {\n",
              "      background-color: #E8F0FE;\n",
              "      border: none;\n",
              "      border-radius: 50%;\n",
              "      cursor: pointer;\n",
              "      display: none;\n",
              "      fill: #1967D2;\n",
              "      height: 32px;\n",
              "      padding: 0 0 0 0;\n",
              "      width: 32px;\n",
              "    }\n",
              "\n",
              "    .colab-df-convert:hover {\n",
              "      background-color: #E2EBFA;\n",
              "      box-shadow: 0px 1px 2px rgba(60, 64, 67, 0.3), 0px 1px 3px 1px rgba(60, 64, 67, 0.15);\n",
              "      fill: #174EA6;\n",
              "    }\n",
              "\n",
              "    [theme=dark] .colab-df-convert {\n",
              "      background-color: #3B4455;\n",
              "      fill: #D2E3FC;\n",
              "    }\n",
              "\n",
              "    [theme=dark] .colab-df-convert:hover {\n",
              "      background-color: #434B5C;\n",
              "      box-shadow: 0px 1px 3px 1px rgba(0, 0, 0, 0.15);\n",
              "      filter: drop-shadow(0px 1px 2px rgba(0, 0, 0, 0.3));\n",
              "      fill: #FFFFFF;\n",
              "    }\n",
              "  </style>\n",
              "\n",
              "      <script>\n",
              "        const buttonEl =\n",
              "          document.querySelector('#df-5a7af31d-665e-4e60-bf4b-78ea87307b10 button.colab-df-convert');\n",
              "        buttonEl.style.display =\n",
              "          google.colab.kernel.accessAllowed ? 'block' : 'none';\n",
              "\n",
              "        async function convertToInteractive(key) {\n",
              "          const element = document.querySelector('#df-5a7af31d-665e-4e60-bf4b-78ea87307b10');\n",
              "          const dataTable =\n",
              "            await google.colab.kernel.invokeFunction('convertToInteractive',\n",
              "                                                     [key], {});\n",
              "          if (!dataTable) return;\n",
              "\n",
              "          const docLinkHtml = 'Like what you see? Visit the ' +\n",
              "            '<a target=\"_blank\" href=https://colab.research.google.com/notebooks/data_table.ipynb>data table notebook</a>'\n",
              "            + ' to learn more about interactive tables.';\n",
              "          element.innerHTML = '';\n",
              "          dataTable['output_type'] = 'display_data';\n",
              "          await google.colab.output.renderOutput(dataTable, element);\n",
              "          const docLink = document.createElement('div');\n",
              "          docLink.innerHTML = docLinkHtml;\n",
              "          element.appendChild(docLink);\n",
              "        }\n",
              "      </script>\n",
              "    </div>\n",
              "  </div>\n",
              "  "
            ]
          },
          "metadata": {},
          "execution_count": 74
        }
      ]
    },
    {
      "cell_type": "markdown",
      "source": [
        "Посчитаем корреляцию и построим диаграмму рассеяния для значений длительности дождя и количества осадков."
      ],
      "metadata": {
        "id": "o0igTqZFiEbn"
      }
    },
    {
      "cell_type": "code",
      "source": [
        "print('Корреляция =', df.stat.corr('rain_duration_9am', 'rain_accumulation_9am'))\n",
        "\n",
        "plt.figure(figsize=(16, 10))\n",
        "\n",
        "plt.scatter('rain_duration_9am', 'rain_accumulation_9am', \n",
        "            data=df.toPandas(), s=20, c='blue', label='Rain accumulation (9am)')\n",
        "\n",
        "# Если значений слишком много, то выбираем из них часть (sample) и только потом строим диаграмму\n",
        "# plt.scatter('rain_duration_9am', 'rain_accumulation_9am', \n",
        "            # data=df.sample(0.1).toPandas(), s=20, c='blue', label='Rain accumulation (9am)')\n",
        "\n",
        "plt.xlabel('Rain duration', fontsize=16)\n",
        "plt.ylabel('Rain accumulation', fontsize=16)\n",
        "\n",
        "plt.xticks(fontsize=12); plt.yticks(fontsize=12)\n",
        "plt.title(\"Scatterplot of Rain Duration vs Rain Accumulation\", fontsize=22)\n",
        "plt.legend(fontsize=12)    \n",
        "plt.show()"
      ],
      "metadata": {
        "id": "5aGNUMsD2UGw",
        "colab": {
          "base_uri": "https://localhost:8080/",
          "height": 653
        },
        "outputId": "09c0ca55-6e68-461f-a4a8-def29dd87c20"
      },
      "execution_count": null,
      "outputs": [
        {
          "output_type": "stream",
          "name": "stdout",
          "text": [
            "Корреляция = 0.7337968783310989\n"
          ]
        },
        {
          "output_type": "display_data",
          "data": {
            "text/plain": [
              "<Figure size 1152x720 with 1 Axes>"
            ],
            "image/png": "[encoded data removed]"
          },
          "metadata": {
            "needs_background": "light"
          }
        }
      ]
    },
    {
      "cell_type": "markdown",
      "source": [
        "Обработка **категориальных признаков** (https://drive.google.com/file/d/1SpFfqCufgElNtNFi-9YkRSkC70aTmUY4/view?usp=sharing):"
      ],
      "metadata": {
        "id": "GCCzdCUgldUt"
      }
    },
    {
      "cell_type": "code",
      "source": [
        "! unzip ieee-fraud-detection.zip\n",
        "# ! head -5 train_transaction.csv \n",
        "train_df = spark.read.csv(\"train_transaction.csv\",\n",
        "               sep=',', header=True, inferSchema=True)"
      ],
      "metadata": {
        "colab": {
          "base_uri": "https://localhost:8080/"
        },
        "id": "hQB8YgxiobEt",
        "outputId": "46dd6c84-6234-48c2-9e7b-17f535cc3569"
      },
      "execution_count": null,
      "outputs": [
        {
          "output_type": "stream",
          "name": "stdout",
          "text": [
            "Archive:  ieee-fraud-detection.zip\n",
            "  inflating: sample_submission.csv   \n",
            "  inflating: test_identity.csv       \n",
            "  inflating: test_transaction.csv    \n",
            "  inflating: train_identity.csv      \n",
            "  inflating: train_transaction.csv   \n"
          ]
        }
      ]
    },
    {
      "cell_type": "markdown",
      "source": [
        "Метод *label encoding*:"
      ],
      "metadata": {
        "id": "84qXHpOIAStt"
      }
    },
    {
      "cell_type": "code",
      "source": [
        "from pyspark.ml.feature import StringIndexer\n",
        "\n",
        "train_df.select('card4').show(10)\n",
        "train_df_ind = train_df.fillna({'card4' : 'no'})\n",
        "indexer = StringIndexer(inputCol=\"card4\", outputCol=\"card4_index\") \n",
        "train_df_ind_fit = indexer.fit(train_df_ind)\n",
        "train_df_ind = train_df_ind_fit.transform(train_df_ind) \n",
        "train_df_ind.select(['card4', 'card4_index']).show(10)\n",
        "train_df_ind.select(['card4', 'card4_index']).distinct().show()"
      ],
      "metadata": {
        "colab": {
          "base_uri": "https://localhost:8080/"
        },
        "id": "GLQE-BRGyi97",
        "outputId": "28d092bf-3b13-4fe1-9c69-030fbd7d875b"
      },
      "execution_count": null,
      "outputs": [
        {
          "output_type": "stream",
          "name": "stdout",
          "text": [
            "+----------+\n",
            "|     card4|\n",
            "+----------+\n",
            "|  discover|\n",
            "|mastercard|\n",
            "|      visa|\n",
            "|mastercard|\n",
            "|mastercard|\n",
            "|      visa|\n",
            "|      visa|\n",
            "|      visa|\n",
            "|      visa|\n",
            "|mastercard|\n",
            "+----------+\n",
            "only showing top 10 rows\n",
            "\n",
            "+----------+-----------+\n",
            "|     card4|card4_index|\n",
            "+----------+-----------+\n",
            "|  discover|        3.0|\n",
            "|mastercard|        1.0|\n",
            "|      visa|        0.0|\n",
            "|mastercard|        1.0|\n",
            "|mastercard|        1.0|\n",
            "|      visa|        0.0|\n",
            "|      visa|        0.0|\n",
            "|      visa|        0.0|\n",
            "|      visa|        0.0|\n",
            "|mastercard|        1.0|\n",
            "+----------+-----------+\n",
            "only showing top 10 rows\n",
            "\n",
            "+----------------+-----------+\n",
            "|           card4|card4_index|\n",
            "+----------------+-----------+\n",
            "|            visa|        0.0|\n",
            "|      mastercard|        1.0|\n",
            "|american express|        2.0|\n",
            "|        discover|        3.0|\n",
            "|              no|        4.0|\n",
            "+----------------+-----------+\n",
            "\n"
          ]
        }
      ]
    },
    {
      "cell_type": "markdown",
      "source": [
        "Метод *one-hot encoding*:"
      ],
      "metadata": {
        "id": "XtWbkgZZAmf9"
      }
    },
    {
      "cell_type": "code",
      "source": [
        "from pyspark.ml.feature import OneHotEncoder\n",
        "from pyspark.ml.functions import vector_to_array\n",
        "\n",
        "encoder = OneHotEncoder(inputCols=['card4_index'], outputCols=['card4_onehot'],\n",
        "                        dropLast=False)\n",
        "train_df_onehot = encoder.fit(train_df_ind).transform(train_df_ind)\n",
        "train_df_onehot.select(['card4', 'card4_index', 'card4_onehot']).distinct().show()\n",
        "train_df_onehot = train_df_onehot.select(['card4', 'card4_index', 'card4_onehot', \n",
        "                        vector_to_array('card4_onehot').alias('card4_onehot_bincols')])\n",
        "train_df_onehot.distinct().show(truncate=False)\n",
        "                        \n",
        "count_card_types = len(train_df_onehot.first()['card4_onehot'])\n",
        "\n",
        "binary_cols = [(F.col('card4_onehot_bincols')[i].alias(f'{train_df_ind_fit.labels[i]}')) for i in range(count_card_types)]\n",
        "\n",
        "train_df_onehot.select(['card4', 'card4_index', 'card4_onehot', \n",
        "                        *binary_cols]).\\\n",
        "                        distinct().show(truncate=False)"
      ],
      "metadata": {
        "colab": {
          "base_uri": "https://localhost:8080/"
        },
        "id": "W1nNbZWHsRqW",
        "outputId": "b6898398-db2f-477e-d1c0-6988b76fda69"
      },
      "execution_count": null,
      "outputs": [
        {
          "output_type": "stream",
          "name": "stdout",
          "text": [
            "+----------------+-----------+-------------+\n",
            "|           card4|card4_index| card4_onehot|\n",
            "+----------------+-----------+-------------+\n",
            "|      mastercard|        1.0|(5,[1],[1.0])|\n",
            "|              no|        4.0|(5,[4],[1.0])|\n",
            "|        discover|        3.0|(5,[3],[1.0])|\n",
            "|            visa|        0.0|(5,[0],[1.0])|\n",
            "|american express|        2.0|(5,[2],[1.0])|\n",
            "+----------------+-----------+-------------+\n",
            "\n",
            "+----------------+-----------+-------------+-------------------------+\n",
            "|card4           |card4_index|card4_onehot |card4_onehot_bincols     |\n",
            "+----------------+-----------+-------------+-------------------------+\n",
            "|mastercard      |1.0        |(5,[1],[1.0])|[0.0, 1.0, 0.0, 0.0, 0.0]|\n",
            "|american express|2.0        |(5,[2],[1.0])|[0.0, 0.0, 1.0, 0.0, 0.0]|\n",
            "|discover        |3.0        |(5,[3],[1.0])|[0.0, 0.0, 0.0, 1.0, 0.0]|\n",
            "|no              |4.0        |(5,[4],[1.0])|[0.0, 0.0, 0.0, 0.0, 1.0]|\n",
            "|visa            |0.0        |(5,[0],[1.0])|[1.0, 0.0, 0.0, 0.0, 0.0]|\n",
            "+----------------+-----------+-------------+-------------------------+\n",
            "\n",
            "+----------------+-----------+-------------+----+----------+----------------+--------+---+\n",
            "|card4           |card4_index|card4_onehot |visa|mastercard|american express|discover|no |\n",
            "+----------------+-----------+-------------+----+----------+----------------+--------+---+\n",
            "|no              |4.0        |(5,[4],[1.0])|0.0 |0.0       |0.0             |0.0     |1.0|\n",
            "|american express|2.0        |(5,[2],[1.0])|0.0 |0.0       |1.0             |0.0     |0.0|\n",
            "|mastercard      |1.0        |(5,[1],[1.0])|0.0 |1.0       |0.0             |0.0     |0.0|\n",
            "|visa            |0.0        |(5,[0],[1.0])|1.0 |0.0       |0.0             |0.0     |0.0|\n",
            "|discover        |3.0        |(5,[3],[1.0])|0.0 |0.0       |0.0             |1.0     |0.0|\n",
            "+----------------+-----------+-------------+----+----------+----------------+--------+---+\n",
            "\n"
          ]
        }
      ]
    },
    {
      "cell_type": "markdown",
      "source": [
        "**Масштабирование переменных**:"
      ],
      "metadata": {
        "id": "lHy5DgNGist4"
      }
    },
    {
      "cell_type": "code",
      "source": [
        "card5 = train_df.select('card5')\n",
        "card5_describe = card5.describe()\n",
        "mean_card5 = card5_describe.filter(F.col('summary') == 'mean').first()[1]\n",
        "mean_card5 = float(mean_card5)\n",
        "stddev_card5 = card5_describe.filter(F.col('summary') == 'stddev').first()[1]\n",
        "stddev_card5 = float(stddev_card5)\n",
        "min_card5 = card5_describe.filter(F.col('summary') == 'min').first()[1]\n",
        "min_card5 = float(min_card5)\n",
        "max_card5 = card5_describe.filter(F.col('summary') == 'max').first()[1]\n",
        "max_card5 = float(max_card5)\n",
        "print(f'{mean_card5=}\\n{stddev_card5=}\\n{min_card5=}\\n{max_card5=}')\n",
        "card5_describe.show()"
      ],
      "metadata": {
        "colab": {
          "base_uri": "https://localhost:8080/"
        },
        "id": "1AvDHn9Omxoa",
        "outputId": "93cc54bb-c3bf-4e75-a716-410bd9776b45"
      },
      "execution_count": null,
      "outputs": [
        {
          "output_type": "stream",
          "name": "stdout",
          "text": [
            "mean_card5=199.27889697943476\n",
            "stddev_card5=41.244452965022276\n",
            "min_card5=100.0\n",
            "max_card5=237.0\n",
            "+-------+------------------+\n",
            "|summary|             card5|\n",
            "+-------+------------------+\n",
            "|  count|            586281|\n",
            "|   mean|199.27889697943476|\n",
            "| stddev|41.244452965022276|\n",
            "|    min|             100.0|\n",
            "|    max|             237.0|\n",
            "+-------+------------------+\n",
            "\n"
          ]
        }
      ]
    },
    {
      "cell_type": "markdown",
      "source": [
        "Метод *z-нормализация*: *z = (x – μ) / σ*, где *x* - исходное значение, *μ* - среднее значение, *σ* - стандартное отклонение. Итоговые значения имеют среднее значение = 0, а стандартное отклонение = 1"
      ],
      "metadata": {
        "id": "wQXZDVZ-iydz"
      }
    },
    {
      "cell_type": "code",
      "source": [
        "card5 = card5.withColumn('card5_z_score', (F.col('card5')-mean_card5)/stddev_card5)\n",
        "card5.show()\n",
        "card5.describe().show(truncate=False)"
      ],
      "metadata": {
        "colab": {
          "base_uri": "https://localhost:8080/"
        },
        "id": "IT0kH7AgsXuW",
        "outputId": "fce8679d-7259-45ca-e8ab-7271c560bf25"
      },
      "execution_count": null,
      "outputs": [
        {
          "output_type": "stream",
          "name": "stdout",
          "text": [
            "+-----+-------------------+\n",
            "|card5|      card5_z_score|\n",
            "+-----+-------------------+\n",
            "|142.0|-1.3887660730525542|\n",
            "|102.0|-2.3585934589054434|\n",
            "|166.0|-0.8068696415408206|\n",
            "|117.0|  -1.99490818921061|\n",
            "|102.0|-2.3585934589054434|\n",
            "|226.0| 0.6478714372385131|\n",
            "|166.0|-0.8068696415408206|\n",
            "|226.0| 0.6478714372385131|\n",
            "|226.0| 0.6478714372385131|\n",
            "|224.0| 0.5993800679458687|\n",
            "|134.0| -1.582731550223132|\n",
            "|224.0| 0.5993800679458687|\n",
            "|226.0| 0.6478714372385131|\n",
            "|226.0| 0.6478714372385131|\n",
            "|226.0| 0.6478714372385131|\n",
            "|226.0| 0.6478714372385131|\n",
            "|226.0| 0.6478714372385131|\n",
            "|219.0|0.47815164471425753|\n",
            "|166.0|-0.8068696415408206|\n",
            "|226.0| 0.6478714372385131|\n",
            "+-----+-------------------+\n",
            "only showing top 20 rows\n",
            "\n",
            "+-------+------------------+-----------------------+\n",
            "|summary|card5             |card5_z_score          |\n",
            "+-------+------------------+-----------------------+\n",
            "|count  |586281            |586281                 |\n",
            "|mean   |199.27889697943476|-1.2609894180775036E-14|\n",
            "|stddev |41.244452965022276|1.0000000000000042     |\n",
            "|min    |100.0             |-2.4070848281980877    |\n",
            "|max    |237.0             |0.9145739683480577     |\n",
            "+-------+------------------+-----------------------+\n",
            "\n"
          ]
        }
      ]
    },
    {
      "cell_type": "markdown",
      "source": [
        "Метод *минимакс*: *x_new = (x_old - x_min) / (x_max - x_min)*. Итоговые значения находятся в диапазоне [0, 1]:"
      ],
      "metadata": {
        "id": "uLxLOakzollO"
      }
    },
    {
      "cell_type": "code",
      "source": [
        "card5 = card5.withColumn('card5_minmax_score', (F.col('card5')-min_card5)/(max_card5-min_card5))\n",
        "card5.show()\n",
        "card5.describe().show(truncate=False)"
      ],
      "metadata": {
        "colab": {
          "base_uri": "https://localhost:8080/"
        },
        "id": "9vlqVD69i2VE",
        "outputId": "25b4df70-f04b-4218-9f70-4efd04767220"
      },
      "execution_count": null,
      "outputs": [
        {
          "output_type": "stream",
          "name": "stdout",
          "text": [
            "+-----+-------------------+--------------------+\n",
            "|card5|      card5_z_score|  card5_minmax_score|\n",
            "+-----+-------------------+--------------------+\n",
            "|142.0|-1.3887660730525542| 0.30656934306569344|\n",
            "|102.0|-2.3585934589054434|0.014598540145985401|\n",
            "|166.0|-0.8068696415408206| 0.48175182481751827|\n",
            "|117.0|  -1.99490818921061| 0.12408759124087591|\n",
            "|102.0|-2.3585934589054434|0.014598540145985401|\n",
            "|226.0| 0.6478714372385131|  0.9197080291970803|\n",
            "|166.0|-0.8068696415408206| 0.48175182481751827|\n",
            "|226.0| 0.6478714372385131|  0.9197080291970803|\n",
            "|226.0| 0.6478714372385131|  0.9197080291970803|\n",
            "|224.0| 0.5993800679458687|  0.9051094890510949|\n",
            "|134.0| -1.582731550223132| 0.24817518248175183|\n",
            "|224.0| 0.5993800679458687|  0.9051094890510949|\n",
            "|226.0| 0.6478714372385131|  0.9197080291970803|\n",
            "|226.0| 0.6478714372385131|  0.9197080291970803|\n",
            "|226.0| 0.6478714372385131|  0.9197080291970803|\n",
            "|226.0| 0.6478714372385131|  0.9197080291970803|\n",
            "|226.0| 0.6478714372385131|  0.9197080291970803|\n",
            "|219.0|0.47815164471425753|  0.8686131386861314|\n",
            "|166.0|-0.8068696415408206| 0.48175182481751827|\n",
            "|226.0| 0.6478714372385131|  0.9197080291970803|\n",
            "+-----+-------------------+--------------------+\n",
            "only showing top 20 rows\n",
            "\n",
            "+-------+------------------+-----------------------+------------------+\n",
            "|summary|card5             |card5_z_score          |card5_minmax_score|\n",
            "+-------+------------------+-----------------------+------------------+\n",
            "|count  |586281            |586281                 |586281            |\n",
            "|mean   |199.27889697943476|-1.2609894180775036E-14|0.7246634816016138|\n",
            "|stddev |41.244452965022276|1.0000000000000042     |0.3010544012045435|\n",
            "|min    |100.0             |-2.4070848281980877    |0.0               |\n",
            "|max    |237.0             |0.9145739683480577     |1.0               |\n",
            "+-------+------------------+-----------------------+------------------+\n",
            "\n"
          ]
        }
      ]
    },
    {
      "cell_type": "markdown",
      "source": [],
      "metadata": {
        "id": "9IeJbRW7HtLG"
      }
    },
    {
      "cell_type": "code",
      "source": [],
      "metadata": {
        "id": "W7_DJm9eHpzP"
      },
      "execution_count": null,
      "outputs": []
    }
  ]
}
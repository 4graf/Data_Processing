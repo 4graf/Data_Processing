{
  "nbformat": 4,
  "nbformat_minor": 0,
  "metadata": {
    "colab": {
      "provenance": [],
      "collapsed_sections": [
        "vDaZUxEX5HtJ"
      ],
      "authorship_tag": "ABX9TyMrZC2Z972wmyK+jzuMlUmz",
      "include_colab_link": true
    },
    "kernelspec": {
      "name": "python3",
      "display_name": "Python 3"
    },
    "language_info": {
      "name": "python"
    }
  },
  "cells": [
    {
      "cell_type": "markdown",
      "metadata": {
        "id": "view-in-github",
        "colab_type": "text"
      },
      "source": [
        "<a href=\"https://colab.research.google.com/github/4graf/Data_Processing/blob/main/Parser%20YouTube.ipynb\" target=\"_parent\"><img src=\"https://colab.research.google.com/assets/colab-badge.svg\" alt=\"Open In Colab\"/></a>"
      ]
    },
    {
      "cell_type": "markdown",
      "source": [
        "# ***JSON***"
      ],
      "metadata": {
        "id": "vDaZUxEX5HtJ"
      }
    },
    {
      "cell_type": "markdown",
      "source": [
        "Создание файла *youtube.json*, содержащий **каналы с видео**, а также **любимые видео**:"
      ],
      "metadata": {
        "id": "tcY--VVz-YP-"
      }
    },
    {
      "cell_type": "code",
      "source": [
        "import json\n",
        "\n",
        "channels = {'Aim To Head Mix' : ['Dark Techno / EBM / Industrial Bass Mix \\'HAVOC vol.2\\''], 'Davie504' : ['BASSta\\'s Paradise (Official Video)', 'These Russian Bassists Need to be STOPPED', 'so Snoop Dogg sent me this..'], 'Chillhop Music' : ['lofi hip hop radio - beats to study/relax to ']}\n",
        "favourite_videos = ['BASSta\\'s Paradise (Official Video)', 'These Russian Bassists Need to be STOPPED', 'Dark Techno / EBM / Industrial Bass Mix \\'HAVOC vol.2\\'']\n",
        "\n",
        "youtube = {'channels' : channels, 'favourite_videos' : favourite_videos}\n",
        "\n",
        "with open('youtube.json', 'w') as f:\n",
        "  json.dump(youtube, f, indent=4)"
      ],
      "metadata": {
        "id": "jIw3YE59YljN"
      },
      "execution_count": null,
      "outputs": []
    },
    {
      "cell_type": "markdown",
      "source": [
        "Чтение файла *youtube.json* и выбор канала *Davie504* с проверкой: являются ли его видео **любимыми**:"
      ],
      "metadata": {
        "id": "OEEhVJj--yGB"
      }
    },
    {
      "cell_type": "code",
      "source": [
        "import json\n",
        "\n",
        "with open('youtube.json', 'r') as f:\n",
        "  youtube = json.load(f)\n",
        "\n",
        "# print('Содержимое youtube.json:', youtube)\n",
        "print('Содержимое youtube.json:', json.dumps(youtube, indent=4))\n",
        "\n",
        "davie504_videos = youtube['channels']['Davie504']\n",
        "print('\\nВидео Davie504:', davie504_videos)\n",
        "\n",
        "print('\\nЛюбимые видео с канала Davie504:')\n",
        "for vid in davie504_videos:\n",
        "  if vid in youtube['favourite_videos']:\n",
        "    print(vid)"
      ],
      "metadata": {
        "colab": {
          "base_uri": "https://localhost:8080/"
        },
        "id": "0ivIZdxE_uA7",
        "outputId": "e6093aaf-c431-4238-d5e9-e0fae850c289"
      },
      "execution_count": null,
      "outputs": [
        {
          "output_type": "stream",
          "name": "stdout",
          "text": [
            "Содержимое youtube.json: {\n",
            "    \"channels\": {\n",
            "        \"Aim To Head Mix\": [\n",
            "            \"Dark Techno / EBM / Industrial Bass Mix 'HAVOC vol.2'\"\n",
            "        ],\n",
            "        \"Davie504\": [\n",
            "            \"BASSta's Paradise (Official Video)\",\n",
            "            \"These Russian Bassists Need to be STOPPED\",\n",
            "            \"so Snoop Dogg sent me this..\"\n",
            "        ],\n",
            "        \"Chillhop Music\": [\n",
            "            \"lofi hip hop radio - beats to study/relax to \"\n",
            "        ]\n",
            "    },\n",
            "    \"favourite_videos\": [\n",
            "        \"BASSta's Paradise (Official Video)\",\n",
            "        \"These Russian Bassists Need to be STOPPED\",\n",
            "        \"Dark Techno / EBM / Industrial Bass Mix 'HAVOC vol.2'\"\n",
            "    ]\n",
            "}\n",
            "\n",
            "Видео Davie504: [\"BASSta's Paradise (Official Video)\", 'These Russian Bassists Need to be STOPPED', 'so Snoop Dogg sent me this..']\n",
            "\n",
            "Любимые видео с канала Davie504:\n",
            "BASSta's Paradise (Official Video)\n",
            "These Russian Bassists Need to be STOPPED\n"
          ]
        }
      ]
    },
    {
      "cell_type": "markdown",
      "source": [
        "# ***Парсер с API Youtube***"
      ],
      "metadata": {
        "id": "wqR43BUTECk1"
      }
    },
    {
      "cell_type": "markdown",
      "source": [
        "Для получения данных с youtube разработчиками google был создан специальный **апи** для удобного парсинга информации. Для работы с апи необходим **личный ключ разработчика**:"
      ],
      "metadata": {
        "id": "hXX3FsWoIWqW"
      }
    },
    {
      "cell_type": "code",
      "source": [
        "import os\n",
        "import googleapiclient.discovery\n",
        "import json\n",
        "\n",
        "# Ключ апи, полученный на https://developers.google.com/youtube/v3\n",
        "API_KEY = ''\n",
        "\n",
        "def get_videos_api(channel_name, count_video=5):\n",
        "    # Отключение OAuthlib's HTTPS верификации при локальном запуске\n",
        "    os.environ[\"OAUTHLIB_INSECURE_TRANSPORT\"] = \"1\"\n",
        "\n",
        "    api_service_name = \"youtube\"\n",
        "    api_version = \"v3\"\n",
        " \n",
        "    youtube = googleapiclient.discovery.build(api_service_name, api_version, \n",
        "                                              developerKey=API_KEY)\n",
        "\n",
        "    request_channel = youtube.channels().list(part=\"snippet,contentDetails,statistics\", \n",
        "        forUsername=channel_name)\n",
        "\n",
        "    request_channel = request_channel.execute()\n",
        "    channel_items = request_channel['items'] \n",
        "    channel_id = channel_items[0]['id']\n",
        "    channel_upload_playlist = channel_items[0]['contentDetails']['relatedPlaylists']['uploads']\n",
        "\n",
        "    # print(channel_upload_playlist)\n",
        "    # print(json.dumps(request_channel, indent=4))\n",
        "\n",
        "    request_video = youtube.playlistItems().list(\n",
        "        part=\"snippet\",\n",
        "        playlistId=channel_upload_playlist,\n",
        "        maxResults=count_video,\n",
        "        # pageToken=next_page_token \n",
        "    )\n",
        "    \n",
        "    response_video = request_video.execute()\n",
        "\n",
        "    # print(json.dumps(response_videos_id, indent=4))\n",
        "\n",
        "    video_items = response_video['items'] \n",
        "    youtube_watch_url = 'https://www.youtube.com/watch?v='\n",
        "    videos = { channel_name : [{'title':item['snippet']['title'], \n",
        "             'url':youtube_watch_url + item['snippet']['resourceId']['videoId']}\n",
        "             for item in video_items] }\n",
        "\n",
        "\n",
        "    # print(json.dumps(videos, indent=4))\n",
        "    \n",
        "    # Токен для получения следующих результатов\n",
        "    # next_page_token = response_video['nextPageToken'])\n",
        "\n",
        "    with open('videos_with_api.json', 'w') as f:\n",
        "        json.dump(videos, f, indent=4)\n",
        "\n",
        "if __name__ == \"__main__\":\n",
        "    # channel_name = input('Enter youtube channel name: ')\n",
        "    # count_video = input('Enter count of video which you need to find: ')\n",
        "    channel_name = 'Davie504'\n",
        "    get_videos_api(channel_name)"
      ],
      "metadata": {
        "id": "OF4Mka08UOPu"
      },
      "execution_count": null,
      "outputs": []
    },
    {
      "cell_type": "markdown",
      "source": [
        "Проверим файл с видео *videos_with_api.json* после работы с апи:"
      ],
      "metadata": {
        "id": "hjWTHsNwqK0F"
      }
    },
    {
      "cell_type": "code",
      "source": [
        "import json\n",
        "\n",
        "with open('videos_with_api.json', 'r') as f:\n",
        "  videos = json.load(f)\n",
        "\n",
        "print('Содержимое videos_with_api.json:\\n', json.dumps(videos, indent=4))"
      ],
      "metadata": {
        "colab": {
          "base_uri": "https://localhost:8080/"
        },
        "id": "EeFctLHiongm",
        "outputId": "2fdb8c14-7af6-4951-f87b-22899efd5e6f"
      },
      "execution_count": null,
      "outputs": [
        {
          "output_type": "stream",
          "name": "stdout",
          "text": [
            "Содержимое videos_with_api.json:\n",
            " {\n",
            "    \"Davie504\": [\n",
            "        {\n",
            "            \"title\": \"what are they doing\",\n",
            "            \"url\": \"https://www.youtube.com/watch?v=bCZbh1gETVw\"\n",
            "        },\n",
            "        {\n",
            "            \"title\": \"this is forbidden\",\n",
            "            \"url\": \"https://www.youtube.com/watch?v=udgWAaaMQpM\"\n",
            "        },\n",
            "        {\n",
            "            \"title\": \"200 BASS GUITARS, 1 SOLO (World Record)\",\n",
            "            \"url\": \"https://www.youtube.com/watch?v=mjd0FMOE0t8\"\n",
            "        },\n",
            "        {\n",
            "            \"title\": \"BASSta's Paradise (Official Video)\",\n",
            "            \"url\": \"https://www.youtube.com/watch?v=4DVy-5cOmlQ\"\n",
            "        },\n",
            "        {\n",
            "            \"title\": \"The Ugly Truth About This 69 Strings Bass..\",\n",
            "            \"url\": \"https://www.youtube.com/watch?v=qvxy-xW9dKo\"\n",
            "        }\n",
            "    ]\n",
            "}\n"
          ]
        }
      ]
    },
    {
      "cell_type": "markdown",
      "source": [
        "# ***Парсер Youtube без API***"
      ],
      "metadata": {
        "id": "zlRFPEP-ERCm"
      }
    },
    {
      "cell_type": "markdown",
      "source": [
        "Установка на облако *selenium*"
      ],
      "metadata": {
        "id": "Fn0oj1gSEnWR"
      }
    },
    {
      "cell_type": "code",
      "source": [
        "!pip install selenium\n",
        "!apt-get update \n",
        "!apt install chromium-chromedriver"
      ],
      "metadata": {
        "id": "NsTNjQXC3CxI",
        "colab": {
          "base_uri": "https://localhost:8080/"
        },
        "outputId": "ae159734-1f47-4070-ce52-4603f5adc0e4"
      },
      "execution_count": null,
      "outputs": [
        {
          "output_type": "stream",
          "name": "stdout",
          "text": [
            "Looking in indexes: https://pypi.org/simple, https://us-python.pkg.dev/colab-wheels/public/simple/\n",
            "Collecting selenium\n",
            "  Downloading selenium-4.5.0-py3-none-any.whl (995 kB)\n",
            "\u001b[K     |████████████████████████████████| 995 kB 32.2 MB/s \n",
            "\u001b[?25hRequirement already satisfied: certifi>=2021.10.8 in /usr/local/lib/python3.7/dist-packages (from selenium) (2022.9.24)\n",
            "Collecting trio-websocket~=0.9\n",
            "  Downloading trio_websocket-0.9.2-py3-none-any.whl (16 kB)\n",
            "Collecting trio~=0.17\n",
            "  Downloading trio-0.22.0-py3-none-any.whl (384 kB)\n",
            "\u001b[K     |████████████████████████████████| 384 kB 54.0 MB/s \n",
            "\u001b[?25hCollecting urllib3[socks]~=1.26\n",
            "  Downloading urllib3-1.26.12-py2.py3-none-any.whl (140 kB)\n",
            "\u001b[K     |████████████████████████████████| 140 kB 46.6 MB/s \n",
            "\u001b[?25hCollecting sniffio\n",
            "  Downloading sniffio-1.3.0-py3-none-any.whl (10 kB)\n",
            "Collecting outcome\n",
            "  Downloading outcome-1.2.0-py2.py3-none-any.whl (9.7 kB)\n",
            "Requirement already satisfied: idna in /usr/local/lib/python3.7/dist-packages (from trio~=0.17->selenium) (2.10)\n",
            "Requirement already satisfied: sortedcontainers in /usr/local/lib/python3.7/dist-packages (from trio~=0.17->selenium) (2.4.0)\n",
            "Requirement already satisfied: attrs>=19.2.0 in /usr/local/lib/python3.7/dist-packages (from trio~=0.17->selenium) (22.1.0)\n",
            "Collecting async-generator>=1.9\n",
            "  Downloading async_generator-1.10-py3-none-any.whl (18 kB)\n",
            "Collecting exceptiongroup>=1.0.0rc9\n",
            "  Downloading exceptiongroup-1.0.0rc9-py3-none-any.whl (12 kB)\n",
            "Collecting wsproto>=0.14\n",
            "  Downloading wsproto-1.2.0-py3-none-any.whl (24 kB)\n",
            "Requirement already satisfied: PySocks!=1.5.7,<2.0,>=1.5.6 in /usr/local/lib/python3.7/dist-packages (from urllib3[socks]~=1.26->selenium) (1.7.1)\n",
            "Collecting h11<1,>=0.9.0\n",
            "  Downloading h11-0.14.0-py3-none-any.whl (58 kB)\n",
            "\u001b[K     |████████████████████████████████| 58 kB 5.7 MB/s \n",
            "\u001b[?25hRequirement already satisfied: typing-extensions in /usr/local/lib/python3.7/dist-packages (from h11<1,>=0.9.0->wsproto>=0.14->trio-websocket~=0.9->selenium) (4.1.1)\n",
            "Installing collected packages: sniffio, outcome, h11, exceptiongroup, async-generator, wsproto, urllib3, trio, trio-websocket, selenium\n",
            "  Attempting uninstall: urllib3\n",
            "    Found existing installation: urllib3 1.24.3\n",
            "    Uninstalling urllib3-1.24.3:\n",
            "      Successfully uninstalled urllib3-1.24.3\n",
            "\u001b[31mERROR: pip's dependency resolver does not currently take into account all the packages that are installed. This behaviour is the source of the following dependency conflicts.\n",
            "requests 2.23.0 requires urllib3!=1.25.0,!=1.25.1,<1.26,>=1.21.1, but you have urllib3 1.26.12 which is incompatible.\u001b[0m\n",
            "Successfully installed async-generator-1.10 exceptiongroup-1.0.0rc9 h11-0.14.0 outcome-1.2.0 selenium-4.5.0 sniffio-1.3.0 trio-0.22.0 trio-websocket-0.9.2 urllib3-1.26.12 wsproto-1.2.0\n",
            "Get:1 https://cloud.r-project.org/bin/linux/ubuntu bionic-cran40/ InRelease [3,626 B]\n",
            "Get:2 http://security.ubuntu.com/ubuntu bionic-security InRelease [88.7 kB]\n",
            "Hit:3 http://archive.ubuntu.com/ubuntu bionic InRelease\n",
            "Ign:4 https://developer.download.nvidia.com/compute/machine-learning/repos/ubuntu1804/x86_64  InRelease\n",
            "Get:5 http://ppa.launchpad.net/c2d4u.team/c2d4u4.0+/ubuntu bionic InRelease [15.9 kB]\n",
            "Get:6 https://developer.download.nvidia.com/compute/cuda/repos/ubuntu1804/x86_64  InRelease [1,581 B]\n",
            "Get:7 http://archive.ubuntu.com/ubuntu bionic-updates InRelease [88.7 kB]\n",
            "Hit:8 https://developer.download.nvidia.com/compute/machine-learning/repos/ubuntu1804/x86_64  Release\n",
            "Hit:9 http://ppa.launchpad.net/cran/libgit2/ubuntu bionic InRelease\n",
            "Get:10 http://archive.ubuntu.com/ubuntu bionic-backports InRelease [83.3 kB]\n",
            "Get:11 http://security.ubuntu.com/ubuntu bionic-security/main amd64 Packages [3,035 kB]\n",
            "Hit:12 http://ppa.launchpad.net/deadsnakes/ppa/ubuntu bionic InRelease\n",
            "Get:13 http://security.ubuntu.com/ubuntu bionic-security/universe amd64 Packages [1,554 kB]\n",
            "Hit:14 http://ppa.launchpad.net/graphics-drivers/ppa/ubuntu bionic InRelease\n",
            "Get:15 https://developer.download.nvidia.com/compute/cuda/repos/ubuntu1804/x86_64  Packages [985 kB]\n",
            "Get:17 http://ppa.launchpad.net/c2d4u.team/c2d4u4.0+/ubuntu bionic/main Sources [2,165 kB]\n",
            "Get:18 http://archive.ubuntu.com/ubuntu bionic-updates/main amd64 Packages [3,467 kB]\n",
            "Get:19 http://archive.ubuntu.com/ubuntu bionic-updates/universe amd64 Packages [2,332 kB]\n",
            "Get:20 http://ppa.launchpad.net/c2d4u.team/c2d4u4.0+/ubuntu bionic/main amd64 Packages [1,109 kB]\n",
            "Fetched 14.9 MB in 3s (4,681 kB/s)\n",
            "Reading package lists... Done\n",
            "Reading package lists... Done\n",
            "Building dependency tree       \n",
            "Reading state information... Done\n",
            "The following package was automatically installed and is no longer required:\n",
            "  libnvidia-common-460\n",
            "Use 'apt autoremove' to remove it.\n",
            "The following additional packages will be installed:\n",
            "  chromium-browser chromium-browser-l10n chromium-codecs-ffmpeg-extra\n",
            "Suggested packages:\n",
            "  webaccounts-chromium-extension unity-chromium-extension\n",
            "The following NEW packages will be installed:\n",
            "  chromium-browser chromium-browser-l10n chromium-chromedriver\n",
            "  chromium-codecs-ffmpeg-extra\n",
            "0 upgraded, 4 newly installed, 0 to remove and 28 not upgraded.\n",
            "Need to get 91.7 MB of archives.\n",
            "After this operation, 309 MB of additional disk space will be used.\n",
            "Get:1 http://archive.ubuntu.com/ubuntu bionic-updates/universe amd64 chromium-codecs-ffmpeg-extra amd64 105.0.5195.102-0ubuntu0.18.04.1 [1,156 kB]\n",
            "Get:2 http://archive.ubuntu.com/ubuntu bionic-updates/universe amd64 chromium-browser amd64 105.0.5195.102-0ubuntu0.18.04.1 [80.1 MB]\n",
            "Get:3 http://archive.ubuntu.com/ubuntu bionic-updates/universe amd64 chromium-browser-l10n all 105.0.5195.102-0ubuntu0.18.04.1 [5,097 kB]\n",
            "Get:4 http://archive.ubuntu.com/ubuntu bionic-updates/universe amd64 chromium-chromedriver amd64 105.0.5195.102-0ubuntu0.18.04.1 [5,320 kB]\n",
            "Fetched 91.7 MB in 3s (28.1 MB/s)\n",
            "Selecting previously unselected package chromium-codecs-ffmpeg-extra.\n",
            "(Reading database ... 123942 files and directories currently installed.)\n",
            "Preparing to unpack .../chromium-codecs-ffmpeg-extra_105.0.5195.102-0ubuntu0.18.04.1_amd64.deb ...\n",
            "Unpacking chromium-codecs-ffmpeg-extra (105.0.5195.102-0ubuntu0.18.04.1) ...\n",
            "Selecting previously unselected package chromium-browser.\n",
            "Preparing to unpack .../chromium-browser_105.0.5195.102-0ubuntu0.18.04.1_amd64.deb ...\n",
            "Unpacking chromium-browser (105.0.5195.102-0ubuntu0.18.04.1) ...\n",
            "Selecting previously unselected package chromium-browser-l10n.\n",
            "Preparing to unpack .../chromium-browser-l10n_105.0.5195.102-0ubuntu0.18.04.1_all.deb ...\n",
            "Unpacking chromium-browser-l10n (105.0.5195.102-0ubuntu0.18.04.1) ...\n",
            "Selecting previously unselected package chromium-chromedriver.\n",
            "Preparing to unpack .../chromium-chromedriver_105.0.5195.102-0ubuntu0.18.04.1_amd64.deb ...\n",
            "Unpacking chromium-chromedriver (105.0.5195.102-0ubuntu0.18.04.1) ...\n",
            "Setting up chromium-codecs-ffmpeg-extra (105.0.5195.102-0ubuntu0.18.04.1) ...\n",
            "Setting up chromium-browser (105.0.5195.102-0ubuntu0.18.04.1) ...\n",
            "update-alternatives: using /usr/bin/chromium-browser to provide /usr/bin/x-www-browser (x-www-browser) in auto mode\n",
            "update-alternatives: using /usr/bin/chromium-browser to provide /usr/bin/gnome-www-browser (gnome-www-browser) in auto mode\n",
            "Setting up chromium-chromedriver (105.0.5195.102-0ubuntu0.18.04.1) ...\n",
            "Setting up chromium-browser-l10n (105.0.5195.102-0ubuntu0.18.04.1) ...\n",
            "Processing triggers for man-db (2.8.3-2ubuntu0.1) ...\n",
            "Processing triggers for hicolor-icon-theme (0.17-2) ...\n",
            "Processing triggers for mime-support (3.60ubuntu1) ...\n",
            "Processing triggers for libc-bin (2.27-3ubuntu1.6) ...\n"
          ]
        }
      ]
    },
    {
      "cell_type": "markdown",
      "source": [
        "Работа с *selenium* и получение сначала плейлиста со всеми видео, а потом самого списка видео.\n",
        "\n",
        "**Внимание!** *Google Colab* периодически работает **некорректно** с *Selenium* и не может подключиться к сайту. На локальном компьютере всё отрабатывает корректно."
      ],
      "metadata": {
        "id": "HNzif_xz7RxL"
      }
    },
    {
      "cell_type": "code",
      "source": [
        "from selenium import webdriver\n",
        "from selenium.common.exceptions import TimeoutException\n",
        "from selenium.webdriver.support.ui import WebDriverWait\n",
        "from selenium.webdriver.support import expected_conditions as EC\n",
        "from selenium.webdriver.common.by import By\n",
        "import requests\n",
        "from bs4 import BeautifulSoup as BS\n",
        "from datetime import datetime\n",
        "import json\n",
        "import time\n",
        "\n",
        "def get_videos_without_api(channel_name, count_video=5):\n",
        "    videos = { channel_name : [] }\n",
        "    url = f'https://www.youtube.com/c/{channel_name}'\n",
        "    \n",
        "    chrome_options = webdriver.ChromeOptions()\n",
        "    chrome_options.add_argument('--no-sandbox')\n",
        "    chrome_options.add_argument('--window-size=1420,1080')\n",
        "    chrome_options.add_argument('--headless')\n",
        "    chrome_options.add_argument('--disable-gpu')\n",
        "    driver = webdriver.Chrome(options=chrome_options)\n",
        "\n",
        "    driver.get(url)\n",
        "    timeout = 10\n",
        "    try:\n",
        "        element_present = EC.presence_of_element_located((By.TAG_NAME, 'body'))\n",
        "        WebDriverWait(driver, timeout).until(element_present)\n",
        "    except TimeoutException:\n",
        "        print(\"Превышен лимит загрузки страницы\")\n",
        "        return\n",
        "\n",
        "    time.sleep(3)\n",
        "\n",
        "    html = driver.page_source\n",
        "    try:\n",
        "        # Ищем id плейлиста со всеми видео\n",
        "        soup = BS(html, 'lxml')\n",
        "\n",
        "        # Первая кнопка проигрыша видео содежит в себе id плейлиста всех видео\n",
        "        play_button = soup.find('div', id='play-button', class_='style-scope ytd-shelf-renderer')\n",
        "        item = play_button.find('a', class_='yt-simple-endpoint style-scope ytd-button-renderer')\n",
        "        \n",
        "        playlist = item.get('href')\n",
        "        if (not playlist):\n",
        "            raise Exception('js скрипт не загрузился за отведённое время')\n",
        "        url_playlist = f'https://www.youtube.com{playlist}'\n",
        "\n",
        "        driver.get(url_playlist)\n",
        "        try:\n",
        "            element_present = EC.presence_of_element_located((By.TAG_NAME, 'body'))\n",
        "            WebDriverWait(driver, timeout).until(element_present)\n",
        "        except TimeoutException:\n",
        "            print(\"Превышен лимит загрузки страницы\")\n",
        "            return\n",
        "        time.sleep(3)\n",
        "\n",
        "        html = driver.page_source\n",
        "        soup = BS(html, 'lxml')\n",
        "        videos_tags_list = soup.find_all('ytd-playlist-panel-video-renderer', class_='style-scope ytd-playlist-panel-renderer')\n",
        "\n",
        "        for i in range(count_video):\n",
        "            url = videos_tags_list[i].find('a', class_='yt-simple-endpoint style-scope ytd-playlist-panel-video-renderer', id='wc-endpoint').get('href')\n",
        "            title = videos_tags_list[i].find('span', class_='style-scope ytd-playlist-panel-video-renderer', id='video-title').get('title')\n",
        "            videos[channel_name].append({'title':title, 'url':f'https://www.youtube.com{url}'})\n",
        "\n",
        "    except Exception as e:\n",
        "        print('Parser error:', e)\n",
        "    finally:\n",
        "        driver.quit()\n",
        "    \n",
        "    with open('videos_without_api.json', 'w') as f:\n",
        "        json.dump(videos, f, indent=4)\n",
        "\n",
        "if __name__ == \"__main__\":\n",
        "    # channel_name = input('Enter youtube channel name: ')\n",
        "    # count_video = input('Enter count of video which you need to find: ')\n",
        "    channel_name = 'Davie504'\n",
        "    get_videos_without_api(channel_name)"
      ],
      "metadata": {
        "id": "CZnuWgj1EmtV"
      },
      "execution_count": null,
      "outputs": []
    },
    {
      "cell_type": "markdown",
      "source": [
        "Проверим файл с видео *videos_without_api.json* после работы с апи:"
      ],
      "metadata": {
        "id": "ZRbQ4NfVtOFK"
      }
    },
    {
      "cell_type": "code",
      "source": [
        "import json\n",
        "\n",
        "with open('videos_without_api.json', 'r') as f:\n",
        "  videos = json.load(f)\n",
        "\n",
        "print('Содержимое videos_without_api.json:\\n', json.dumps(videos, indent=4))"
      ],
      "metadata": {
        "id": "HGNZHXxcEWUb",
        "colab": {
          "base_uri": "https://localhost:8080/"
        },
        "outputId": "6beea42f-32a1-41cd-98d6-7c7e4f7a7749"
      },
      "execution_count": null,
      "outputs": [
        {
          "output_type": "stream",
          "name": "stdout",
          "text": [
            "Содержимое videos_without_api.json:\n",
            " {\n",
            "    \"Davie504\": [\n",
            "        {\n",
            "            \"title\": \"what are they doing\",\n",
            "            \"url\": \"https://www.youtube.com/watch?v=bCZbh1gETVw&list=UUgFvT6pUq9HLOvKBYERzXSQ&index=1\"\n",
            "        },\n",
            "        {\n",
            "            \"title\": \"this is forbidden\",\n",
            "            \"url\": \"https://www.youtube.com/watch?v=udgWAaaMQpM&list=UUgFvT6pUq9HLOvKBYERzXSQ&index=2\"\n",
            "        },\n",
            "        {\n",
            "            \"title\": \"200 BASS GUITARS, 1 SOLO (World Record)\",\n",
            "            \"url\": \"https://www.youtube.com/watch?v=mjd0FMOE0t8&list=UUgFvT6pUq9HLOvKBYERzXSQ&index=3\"\n",
            "        },\n",
            "        {\n",
            "            \"title\": \"BASSta's Paradise (Official Video)\",\n",
            "            \"url\": \"https://www.youtube.com/watch?v=4DVy-5cOmlQ&list=UUgFvT6pUq9HLOvKBYERzXSQ&index=4\"\n",
            "        },\n",
            "        {\n",
            "            \"title\": \"The Ugly Truth About This 69 Strings Bass..\",\n",
            "            \"url\": \"https://www.youtube.com/watch?v=qvxy-xW9dKo&list=UUgFvT6pUq9HLOvKBYERzXSQ&index=5\"\n",
            "        }\n",
            "    ]\n",
            "}\n"
          ]
        }
      ]
    }
  ]
}